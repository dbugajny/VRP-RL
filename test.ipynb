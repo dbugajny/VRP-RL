{
 "cells": [
  {
   "cell_type": "code",
   "execution_count": 1,
   "id": "initial_id",
   "metadata": {
    "collapsed": true,
    "ExecuteTime": {
     "end_time": "2023-11-25T18:36:38.259853760Z",
     "start_time": "2023-11-25T18:36:35.065614368Z"
    }
   },
   "outputs": [
    {
     "name": "stderr",
     "output_type": "stream",
     "text": [
      "2023-11-25 19:36:35.696526: I external/local_tsl/tsl/cuda/cudart_stub.cc:31] Could not find cuda drivers on your machine, GPU will not be used.\n",
      "2023-11-25 19:36:35.859655: E external/local_xla/xla/stream_executor/cuda/cuda_dnn.cc:9261] Unable to register cuDNN factory: Attempting to register factory for plugin cuDNN when one has already been registered\n",
      "2023-11-25 19:36:35.859719: E external/local_xla/xla/stream_executor/cuda/cuda_fft.cc:607] Unable to register cuFFT factory: Attempting to register factory for plugin cuFFT when one has already been registered\n",
      "2023-11-25 19:36:35.890753: E external/local_xla/xla/stream_executor/cuda/cuda_blas.cc:1515] Unable to register cuBLAS factory: Attempting to register factory for plugin cuBLAS when one has already been registered\n",
      "2023-11-25 19:36:35.957545: I external/local_tsl/tsl/cuda/cudart_stub.cc:31] Could not find cuda drivers on your machine, GPU will not be used.\n",
      "2023-11-25 19:36:35.959031: I tensorflow/core/platform/cpu_feature_guard.cc:182] This TensorFlow binary is optimized to use available CPU instructions in performance-critical operations.\n",
      "To enable the following instructions: AVX2 FMA, in other operations, rebuild TensorFlow with the appropriate compiler flags.\n",
      "2023-11-25 19:36:37.277315: W tensorflow/compiler/tf2tensorrt/utils/py_utils.cc:38] TF-TRT Warning: Could not find TensorRT\n"
     ]
    }
   ],
   "source": [
    "import numpy as np\n",
    "import tensorflow as tf\n",
    "from environment import Environment\n",
    "from actor import Actor"
   ]
  },
  {
   "cell_type": "code",
   "execution_count": 72,
   "outputs": [],
   "source": [
    "n_samples = 2\n",
    "n_locations = 3\n",
    "max_demand = 5\n",
    "max_capacity = 20\n",
    "env = Environment(n_samples, n_locations, max_demand, max_capacity)\n",
    "act = Actor(n_locations)\n",
    "optimizer = tf.keras.optimizers.Adam()\n",
    "\n",
    "with tf.GradientTape(persistent=True) as tape:\n",
    "    range_idx = tf.expand_dims(tf.range(n_samples, dtype=tf.float32), 1)\n",
    "    range_idx = tf.constant([[0], [1], [2], [3], [4.0]])\n",
    "    tape.watch(range_idx)\n",
    "\n",
    "    actions = None\n",
    "    for i in range(6):\n",
    "        logits = act(env, training=True)\n",
    "        logits = logits - env.mask * 100000\n",
    "\n",
    "        logits2 = tf.nn.softmax(logits * 100)\n",
    "        \n",
    "        idx = tf.argmax(logits, 1)\n",
    "        abc = env.locations * tf.tile(tf.expand_dims(logits2, -1), [1, 1, 2])\n",
    "        action = tf.reduce_sum(abc, axis=1)\n",
    "\n",
    "        state = env.update(idx)\n",
    "        \n",
    "        actions.append(action)\n",
    " \n",
    "    \n",
    "    acts = tf.convert_to_tensor(actions)\n",
    "    acts_2 = tf.concat((tf.expand_dims(actions[-1], 0), actions[:-1]), 0)\n",
    "    \n",
    "    distances = tf.math.sqrt(tf.reduce_sum(tf.math.square(acts_2 - acts), -1) + 1e-12)\n",
    "    all_path = tf.reduce_sum(distances, axis=0)\n",
    "    \n",
    "    # dist = tf.math.sqrt(tf.reduce_sum((tf.math.square(x1 - x2)), 1)) * 100000\n",
    "    # R = reward_func(actions)\n",
    "\n",
    "    R = tf.reduce_mean(all_path * 10000000 )"
   ],
   "metadata": {
    "collapsed": false,
    "ExecuteTime": {
     "end_time": "2023-11-25T18:47:16.865710633Z",
     "start_time": "2023-11-25T18:47:16.779289937Z"
    }
   },
   "id": "cd1487788060683d"
  },
  {
   "cell_type": "code",
   "execution_count": 86,
   "outputs": [
    {
     "data": {
      "text/plain": "TensorShape([6, 2, 2])"
     },
     "execution_count": 86,
     "metadata": {},
     "output_type": "execute_result"
    }
   ],
   "source": [
    "acts.shape"
   ],
   "metadata": {
    "collapsed": false,
    "ExecuteTime": {
     "end_time": "2023-11-25T18:56:07.874922127Z",
     "start_time": "2023-11-25T18:56:07.829987298Z"
    }
   },
   "id": "90da69e095a8651e"
  },
  {
   "cell_type": "code",
   "execution_count": 80,
   "outputs": [
    {
     "data": {
      "text/plain": "<tf.Tensor: shape=(2, 1, 2), dtype=float32, numpy=\narray([[[ 0.9129071 ,  0.7854059 ]],\n\n       [[-0.07478051, -0.48097593]]], dtype=float32)>"
     },
     "execution_count": 80,
     "metadata": {},
     "output_type": "execute_result"
    }
   ],
   "source": [
    "tf.expand_dims(actions[0], 1)"
   ],
   "metadata": {
    "collapsed": false,
    "ExecuteTime": {
     "end_time": "2023-11-25T18:54:05.693301368Z",
     "start_time": "2023-11-25T18:54:05.643818449Z"
    }
   },
   "id": "39aa5bc1af3787e3"
  },
  {
   "cell_type": "code",
   "execution_count": 76,
   "outputs": [
    {
     "data": {
      "text/plain": "<tf.Tensor: shape=(2, 2), dtype=float32, numpy=\narray([[ 0.9129071 ,  0.7854059 ],\n       [-0.07478051, -0.48097593]], dtype=float32)>"
     },
     "execution_count": 76,
     "metadata": {},
     "output_type": "execute_result"
    }
   ],
   "source": [
    "actions[0]"
   ],
   "metadata": {
    "collapsed": false,
    "ExecuteTime": {
     "end_time": "2023-11-25T18:49:58.578330314Z",
     "start_time": "2023-11-25T18:49:58.551761690Z"
    }
   },
   "id": "f53c59f4f6d5e0bc"
  },
  {
   "cell_type": "code",
   "execution_count": 73,
   "outputs": [
    {
     "data": {
      "text/plain": "[<tf.Tensor: shape=(3, 64), dtype=float32, numpy=\n array([[     0.      ,      0.      ,      0.      ,      0.      ,\n              0.      ,      0.      ,      0.      ,      0.      ,\n              0.      ,      0.      ,      0.      ,      0.      ,\n              0.      ,      0.      ,      0.      ,      0.      ,\n              0.      ,      0.      ,      0.      ,      0.      ,\n              0.      ,      0.      ,      0.      ,      0.      ,\n              0.      ,      0.      ,      0.      ,      0.      ,\n              0.      ,      0.      ,      0.      ,      0.      ,\n              0.      ,      0.      ,      0.      ,      0.      ,\n              0.      ,      0.      ,      0.      ,      0.      ,\n              0.      ,      0.      ,      0.      ,      0.      ,\n              0.      ,      0.      ,      0.      ,      0.      ,\n              0.      ,      0.      ,      0.      ,      0.      ,\n              0.      ,      0.      ,      0.      ,      0.      ,\n              0.      ,      0.      ,      0.      ,      0.      ,\n              0.      ,      0.      ,      0.      ,      0.      ],\n        [ 12154.827   ,  18001.541   ,  -8539.887   ,  -3135.9324  ,\n           7198.467   ,  -3773.9746  , -14809.408   , -43608.316   ,\n           1697.8745  ,   5294.5283  ,  -6893.8984  ,   7849.058   ,\n           6512.1777  ,  13477.627   ,  -6134.032   , -17093.045   ,\n          14681.666   , -13123.42    ,  10086.074   ,  12935.088   ,\n           5689.957   ,    728.5327  ,  31228.71    , -26787.2     ,\n          26685.002   ,  -7223.499   ,  -5305.8184  , -23112.873   ,\n           1058.0654  ,   -101.046875,  -1378.0371  ,  10211.756   ,\n           4061.2832  ,  -3756.1567  , -13619.533   ,  -1837.0073  ,\n          13374.881   ,   4134.9434  ,    831.6638  ,   8360.225   ,\n           5375.4194  ,   6270.8945  ,  16517.486   , -11567.645   ,\n           3514.3853  ,   8591.182   ,  -8918.292   , -29870.078   ,\n           2537.8716  ,   1466.1431  , -14639.45    ,   3124.101   ,\n           4380.414   ,  17791.074   ,  -9049.759   ,   6544.5117  ,\n         -16195.6045  ,   2243.6096  ,  27237.945   , -13925.262   ,\n         -10107.853   ,  14359.49    , -29833.998   ,  -4799.175   ],\n        [ 24309.654   ,  36003.082   , -17079.773   ,  -6271.8647  ,\n          14396.934   ,  -7547.949   , -29618.816   , -87216.63    ,\n           3395.749   ,  10589.057   , -13787.797   ,  15698.116   ,\n          13024.355   ,  26955.254   , -12268.064   , -34186.09    ,\n          29363.332   , -26246.84    ,  20172.148   ,  25870.176   ,\n          11379.914   ,   1457.0654  ,  62457.42    , -53574.4     ,\n          53370.004   , -14446.998   , -10611.637   , -46225.746   ,\n           2116.1309  ,   -202.09375 ,  -2756.0742  ,  20423.512   ,\n           8122.5664  ,  -7512.3135  , -27239.066   ,  -3674.0146  ,\n          26749.762   ,   8269.887   ,   1663.3276  ,  16720.45    ,\n          10750.839   ,  12541.789   ,  33034.973   , -23135.29    ,\n           7028.7705  ,  17182.363   , -17836.584   , -59740.156   ,\n           5075.743   ,   2932.2861  , -29278.9     ,   6248.202   ,\n           8760.828   ,  35582.15    , -18099.518   ,  13089.023   ,\n         -32391.209   ,   4487.219   ,  54475.89    , -27850.523   ,\n         -20215.705   ,  28718.98    , -59667.996   ,  -9598.35    ]],\n       dtype=float32)>,\n <tf.Tensor: shape=(64,), dtype=float32, numpy=\n array([ 12154.827   ,  18001.541   ,  -8539.887   ,  -3135.9324  ,\n          7198.467   ,  -3773.9746  , -14809.408   , -43608.316   ,\n          1697.8745  ,   5294.5283  ,  -6893.8984  ,   7849.058   ,\n          6512.1777  ,  13477.627   ,  -6134.032   , -17093.045   ,\n         14681.666   , -13123.42    ,  10086.074   ,  12935.088   ,\n          5689.957   ,    728.5327  ,  31228.71    , -26787.2     ,\n         26685.002   ,  -7223.499   ,  -5305.8184  , -23112.873   ,\n          1058.0654  ,   -101.046875,  -1378.0371  ,  10211.756   ,\n          4061.2832  ,  -3756.1567  , -13619.533   ,  -1837.0073  ,\n         13374.881   ,   4134.9434  ,    831.6638  ,   8360.225   ,\n          5375.4194  ,   6270.8945  ,  16517.486   , -11567.645   ,\n          3514.3853  ,   8591.182   ,  -8918.292   , -29870.078   ,\n          2537.8716  ,   1466.1431  , -14639.45    ,   3124.101   ,\n          4380.414   ,  17791.074   ,  -9049.759   ,   6544.5117  ,\n        -16195.6045  ,   2243.6096  ,  27237.945   , -13925.262   ,\n        -10107.853   ,  14359.49    , -29833.998   ,  -4799.175   ],\n       dtype=float32)>,\n <tf.Tensor: shape=(64, 64), dtype=float32, numpy=\n array([[ -3517.3677 ,   -204.24069, -17333.754  , ...,   4898.6772 ,\n           9417.593  ,   -357.08505],\n        [ -1766.3348 ,   -102.56461,  -8704.582  , ...,   2459.9944 ,\n           4729.2817 ,   -179.31926],\n        [  -863.18427,    -50.12196,  -4253.813  , ...,   1202.1664 ,\n           2311.137  ,    -87.63093],\n        ...,\n        [  2480.271  ,    144.02028,  12222.894  , ...,  -3454.3013 ,\n          -6640.814  ,    251.79845],\n        [ -1447.0931 ,    -84.02741,  -7131.3438 , ...,   2015.3829 ,\n           3874.5266 ,   -146.90967],\n        [ -1345.8799 ,    -78.15033,  -6632.56   , ...,   1874.4221 ,\n           3603.5327 ,   -136.63445]], dtype=float32)>,\n <tf.Tensor: shape=(64,), dtype=float32, numpy=\n array([ 5.0521450e+03,  2.9335962e+02,  2.4897211e+04, -6.8173135e+03,\n        -2.7044129e+04, -4.7431562e+04,  1.5105582e+04,  2.7816925e+00,\n         7.9258853e+03,  9.5374941e+03, -2.0291627e+04, -9.7389648e+03,\n         4.9548428e+03, -1.5059496e+04,  1.4200256e+04,  2.4503801e+04,\n        -2.2680508e+04,  3.0702953e+04,  1.1909498e+04, -4.5508434e+04,\n        -1.1334057e+04,  3.2462937e+03,  1.2760379e+04, -1.3182218e+04,\n        -1.3883959e+04,  3.0621406e+04,  2.2905664e+04,  1.3934943e+04,\n        -1.0301945e+04,  2.9377570e+04, -1.1383912e+04, -2.2101889e+04,\n         1.8769357e+04,  1.6304291e+04, -3.3545356e+03, -7.9957930e+03,\n        -8.1125747e+03,  9.9194609e+03, -1.2062673e+04, -3.3497603e+03,\n        -2.7078955e+03,  4.9383359e+03, -5.5079238e+03, -4.1365566e+03,\n        -2.4785180e+04, -1.4020691e+04, -1.3029779e+04, -1.7014078e+04,\n        -2.2965215e+03,  1.9026225e+04,  9.9123955e+03, -1.4459805e+04,\n        -2.3297760e+04, -8.2080039e+03,  1.5440310e+04,  1.2008193e+04,\n         6.0277051e+03,  1.5712605e+03, -9.2926436e+03,  6.3610234e+03,\n         8.3065742e+03, -7.0361792e+03, -1.3526891e+04,  5.1289648e+02],\n       dtype=float32)>,\n <tf.Tensor: shape=(64, 64), dtype=float32, numpy=\n array([[ -4101.542 ,  -2902.3547,  -8688.263 , ...,   6521.011 ,\n          -4107.72  ,  -2371.9644],\n        [  1524.4315,   1078.7263,   3229.191 , ...,  -2423.6824,\n           1526.7279,    881.5946],\n        [  5511.86  ,   3900.3313,  11675.728 , ...,  -8763.266 ,\n           5520.163 ,   3187.566 ],\n        ...,\n        [ -3826.524 ,  -2707.745 ,  -8105.6943, ...,   6083.762 ,\n          -3832.288 ,  -2212.9185],\n        [ -7764.8813,  -5494.6265, -16448.285 , ...,  12345.328 ,\n          -7776.5786,  -4490.5117],\n        [  7171.988 ,   5075.08  ,  15192.363 , ..., -11402.69  ,\n           7182.792 ,   4147.6353]], dtype=float32)>,\n <tf.Tensor: shape=(64,), dtype=float32, numpy=\n array([ 13652.165  ,   9660.617  ,  28919.27   , -10667.102  ,\n          7106.919  , -13294.42   , -16791.516  , -12302.301  ,\n          -685.59155,   2015.0176 , -26959.482  ,  -8286.363  ,\n         31012.305  ,   -576.58887,   6434.803  ,   5540.4795 ,\n        -18599.037  ,  20545.17   , -13463.867  ,   5476.5254 ,\n          3709.1494 , -22204.729  , -18671.734  ,  11218.959  ,\n        -13902.82   ,   2714.003  , -19274.332  ,  -4932.1494 ,\n        -15793.749  ,   -523.96484,  20997.389  ,  17519.738  ,\n        -18613.572  , -28555.582  ,   2064.0042 , -16760.104  ,\n         -7442.773  , -17963.271  ,   2577.6494 ,  25319.846  ,\n          7074.684  ,  -1133.1152 ,  11579.703  ,  28071.71   ,\n        -17267.936  , -11499.152  , -26600.06   ,  21069.006  ,\n          3074.859  , -10093.816  ,  24142.492  , -28955.914  ,\n         17439.633  ,  11161.998  ,   7825.242  ,   4985.5454 ,\n         -1244.7354 ,  -1211.2969 ,  10220.317  ,  -6501.0635 ,\n          2642.1152 , -21705.477  ,  13672.73   ,   7895.189  ],\n       dtype=float32)>,\n <tf.Tensor: shape=(64, 3), dtype=float32, numpy=\n array([[     0.     ,  -7622.208  ,   7623.505  ],\n        [     0.     ,  22192.84   , -22196.615  ],\n        [     0.     , -17056.379  ,  17059.281  ],\n        [     0.     ,  21015.88   , -21019.457  ],\n        [     0.     ,  14442.784  , -14445.241  ],\n        [     0.     ,  37797.242  , -37803.676  ],\n        [     0.     ,  12218.929  , -12221.008  ],\n        [     0.     , -11611.317  ,  11613.293  ],\n        [     0.     ,  16279.872  , -16282.643  ],\n        [     0.     ,  69178.37   , -69190.14   ],\n        [     0.     , -36975.863  ,  36982.152  ],\n        [     0.     ,  -1264.6742 ,   1264.8894 ],\n        [     0.     ,    707.7927 ,   -707.91315],\n        [     0.     , -31557.764  ,  31563.133  ],\n        [     0.     ,  -9098.465  ,   9100.013  ],\n        [     0.     ,  19432.768  , -19436.074  ],\n        [     0.     ,  32672.877  , -32678.436  ],\n        [     0.     ,  -4334.4023 ,   4335.14   ],\n        [     0.     , -40862.74   ,  40869.69   ],\n        [     0.     ,  25162.818  , -25167.1    ],\n        [     0.     , -27651.252  ,  27655.957  ],\n        [     0.     ,  25155.557  , -25159.836  ],\n        [     0.     , -31267.393  ,  31272.713  ],\n        [     0.     ,  32214.385  , -32219.865  ],\n        [     0.     ,  37381.64   , -37388.004  ],\n        [     0.     ,  37743.27   , -37749.69   ],\n        [     0.     , -30322.324  ,  30327.484  ],\n        [     0.     ,  11748.703  , -11750.702  ],\n        [     0.     ,  36647.29   , -36653.527  ],\n        [     0.     , -41633.91   ,  41640.992  ],\n        [     0.     ,  34878.945  , -34884.883  ],\n        [     0.     ,  -5634.648  ,   5635.6064 ],\n        [     0.     ,  -9340.777  ,   9342.367  ],\n        [     0.     ,  36110.703  , -36116.848  ],\n        [     0.     ,  -2281.0503 ,   2281.4385 ],\n        [     0.     ,  25361.309  , -25365.623  ],\n        [     0.     , -21107.482  ,  21111.074  ],\n        [     0.     , -36562.812  ,  36569.035  ],\n        [     0.     ,   8739.863  ,  -8741.351  ],\n        [     0.     ,  55265.684  , -55275.09   ],\n        [     0.     ,  14789.168  , -14791.685  ],\n        [     0.     ,  -2389.765  ,   2390.1716 ],\n        [     0.     , -32076.793  ,  32082.252  ],\n        [     0.     ,  20819.97   , -20823.514  ],\n        [     0.     ,  17330.123  , -17333.072  ],\n        [     0.     ,  26832.008  , -26836.574  ],\n        [     0.     ,  11517.181  , -11519.141  ],\n        [     0.     ,  16044.372  , -16047.103  ],\n        [     0.     ,  17840.184  , -17843.219  ],\n        [     0.     , -31588.516  ,  31593.89   ],\n        [     0.     ,  -6920.239  ,   6921.416  ],\n        [     0.     ,  45971.703  , -45979.527  ],\n        [     0.     ,   9267.447  ,  -9269.024  ],\n        [     0.     ,  14058.496  , -14060.888  ],\n        [     0.     ,  22043.277  , -22047.027  ],\n        [     0.     ,   2381.7695 ,  -2382.1748 ],\n        [     0.     , -12737.297  ,  12739.464  ],\n        [     0.     ,   1393.9666 ,  -1394.2037 ],\n        [     0.     ,  25460.117  , -25464.45   ],\n        [     0.     ,  11766.925  , -11768.927  ],\n        [     0.     , -46573.375  ,  46581.3    ],\n        [     0.     ,   9289.381  ,  -9290.962  ],\n        [     0.     , -24175.096  ,  24179.21   ],\n        [     0.     ,   9752.459  ,  -9754.118  ]], dtype=float32)>,\n <tf.Tensor: shape=(3,), dtype=float32, numpy=array([     0.   ,  60835.1  , -60845.453], dtype=float32)>]"
     },
     "execution_count": 73,
     "metadata": {},
     "output_type": "execute_result"
    }
   ],
   "source": [
    "tape.gradient(R, act.trainable_variables)"
   ],
   "metadata": {
    "collapsed": false,
    "ExecuteTime": {
     "end_time": "2023-11-25T18:47:17.106072708Z",
     "start_time": "2023-11-25T18:47:17.012364600Z"
    }
   },
   "id": "3d00e8e2ec8f2ded"
  },
  {
   "cell_type": "code",
   "execution_count": 5,
   "outputs": [
    {
     "data": {
      "text/plain": "[None, None, None, None, None, None, None, None]"
     },
     "execution_count": 5,
     "metadata": {},
     "output_type": "execute_result"
    }
   ],
   "source": [
    "tape.gradient(tf.math.sqrt(R + 2), act.trainable_variables)"
   ],
   "metadata": {
    "collapsed": false,
    "ExecuteTime": {
     "end_time": "2023-11-25T18:36:44.909528329Z",
     "start_time": "2023-11-25T18:36:44.867808082Z"
    }
   },
   "id": "dd140afd58a1ee73"
  },
  {
   "cell_type": "code",
   "execution_count": 74,
   "outputs": [
    {
     "data": {
      "text/plain": "<tf.Tensor: shape=(6, 2), dtype=float32, numpy=\narray([[1.8840435e+00, 5.0049597e-01],\n       [1.8840435e+00, 5.0049597e-01],\n       [1.4816787e+00, 8.8295609e-01],\n       [1.4816787e+00, 8.8295609e-01],\n       [1.0000000e-06, 1.0000000e-06],\n       [1.0000000e-06, 1.0000000e-06]], dtype=float32)>"
     },
     "execution_count": 74,
     "metadata": {},
     "output_type": "execute_result"
    }
   ],
   "source": [
    "distances"
   ],
   "metadata": {
    "collapsed": false,
    "ExecuteTime": {
     "end_time": "2023-11-25T18:49:34.136087723Z",
     "start_time": "2023-11-25T18:49:34.089403261Z"
    }
   },
   "id": "6b4a7ddf7e8646fa"
  },
  {
   "cell_type": "code",
   "execution_count": 47,
   "outputs": [
    {
     "data": {
      "text/plain": "[<tf.Tensor: shape=(3, 64), dtype=float32, numpy=\n array([[nan, nan, nan, nan, nan, nan, nan, nan, nan, nan, nan, nan, nan,\n         nan, nan, nan, nan, nan, nan, nan, nan, nan, nan, nan, nan, nan,\n         nan, nan, nan, nan, nan, nan, nan, nan, nan, nan, nan, nan, nan,\n         nan, nan, nan, nan, nan, nan, nan, nan, nan, nan, nan, nan, nan,\n         nan, nan, nan, nan, nan, nan, nan, nan, nan, nan, nan, nan],\n        [nan, nan, nan, nan, nan, nan, nan, nan, nan, nan, nan, nan, nan,\n         nan, nan, nan, nan, nan, nan, nan, nan, nan, nan, nan, nan, nan,\n         nan, nan, nan, nan, nan, nan, nan, nan, nan, nan, nan, nan, nan,\n         nan, nan, nan, nan, nan, nan, nan, nan, nan, nan, nan, nan, nan,\n         nan, nan, nan, nan, nan, nan, nan, nan, nan, nan, nan, nan],\n        [nan, nan, nan, nan, nan, nan, nan, nan, nan, nan, nan, nan, nan,\n         nan, nan, nan, nan, nan, nan, nan, nan, nan, nan, nan, nan, nan,\n         nan, nan, nan, nan, nan, nan, nan, nan, nan, nan, nan, nan, nan,\n         nan, nan, nan, nan, nan, nan, nan, nan, nan, nan, nan, nan, nan,\n         nan, nan, nan, nan, nan, nan, nan, nan, nan, nan, nan, nan]],\n       dtype=float32)>,\n <tf.Tensor: shape=(64,), dtype=float32, numpy=\n array([nan, nan, nan, nan, nan, nan, nan, nan, nan, nan, nan, nan, nan,\n        nan, nan, nan, nan, nan, nan, nan, nan, nan, nan, nan, nan, nan,\n        nan, nan, nan, nan, nan, nan, nan, nan, nan, nan, nan, nan, nan,\n        nan, nan, nan, nan, nan, nan, nan, nan, nan, nan, nan, nan, nan,\n        nan, nan, nan, nan, nan, nan, nan, nan, nan, nan, nan, nan],\n       dtype=float32)>,\n <tf.Tensor: shape=(64, 64), dtype=float32, numpy=\n array([[nan, nan, nan, ..., nan, nan, nan],\n        [nan, nan, nan, ..., nan, nan, nan],\n        [nan, nan, nan, ..., nan, nan, nan],\n        ...,\n        [nan, nan, nan, ..., nan, nan, nan],\n        [nan, nan, nan, ..., nan, nan, nan],\n        [nan, nan, nan, ..., nan, nan, nan]], dtype=float32)>,\n <tf.Tensor: shape=(64,), dtype=float32, numpy=\n array([nan, nan, nan, nan, nan, nan, nan, nan, nan, nan, nan, nan, nan,\n        nan, nan, nan, nan, nan, nan, nan, nan, nan, nan, nan, nan, nan,\n        nan, nan, nan, nan, nan, nan, nan, nan, nan, nan, nan, nan, nan,\n        nan, nan, nan, nan, nan, nan, nan, nan, nan, nan, nan, nan, nan,\n        nan, nan, nan, nan, nan, nan, nan, nan, nan, nan, nan, nan],\n       dtype=float32)>,\n <tf.Tensor: shape=(64, 64), dtype=float32, numpy=\n array([[nan, nan, nan, ..., nan, nan, nan],\n        [nan, nan, nan, ..., nan, nan, nan],\n        [nan, nan, nan, ..., nan, nan, nan],\n        ...,\n        [nan, nan, nan, ..., nan, nan, nan],\n        [nan, nan, nan, ..., nan, nan, nan],\n        [nan, nan, nan, ..., nan, nan, nan]], dtype=float32)>,\n <tf.Tensor: shape=(64,), dtype=float32, numpy=\n array([nan, nan, nan, nan, nan, nan, nan, nan, nan, nan, nan, nan, nan,\n        nan, nan, nan, nan, nan, nan, nan, nan, nan, nan, nan, nan, nan,\n        nan, nan, nan, nan, nan, nan, nan, nan, nan, nan, nan, nan, nan,\n        nan, nan, nan, nan, nan, nan, nan, nan, nan, nan, nan, nan, nan,\n        nan, nan, nan, nan, nan, nan, nan, nan, nan, nan, nan, nan],\n       dtype=float32)>,\n <tf.Tensor: shape=(64, 3), dtype=float32, numpy=\n array([[nan, nan, nan],\n        [nan, nan, nan],\n        [nan, nan, nan],\n        [nan, nan, nan],\n        [nan, nan, nan],\n        [nan, nan, nan],\n        [nan, nan, nan],\n        [nan, nan, nan],\n        [nan, nan, nan],\n        [nan, nan, nan],\n        [nan, nan, nan],\n        [nan, nan, nan],\n        [nan, nan, nan],\n        [nan, nan, nan],\n        [nan, nan, nan],\n        [nan, nan, nan],\n        [nan, nan, nan],\n        [nan, nan, nan],\n        [nan, nan, nan],\n        [nan, nan, nan],\n        [nan, nan, nan],\n        [nan, nan, nan],\n        [nan, nan, nan],\n        [nan, nan, nan],\n        [nan, nan, nan],\n        [nan, nan, nan],\n        [nan, nan, nan],\n        [nan, nan, nan],\n        [nan, nan, nan],\n        [nan, nan, nan],\n        [nan, nan, nan],\n        [nan, nan, nan],\n        [nan, nan, nan],\n        [nan, nan, nan],\n        [nan, nan, nan],\n        [nan, nan, nan],\n        [nan, nan, nan],\n        [nan, nan, nan],\n        [nan, nan, nan],\n        [nan, nan, nan],\n        [nan, nan, nan],\n        [nan, nan, nan],\n        [nan, nan, nan],\n        [nan, nan, nan],\n        [nan, nan, nan],\n        [nan, nan, nan],\n        [nan, nan, nan],\n        [nan, nan, nan],\n        [nan, nan, nan],\n        [nan, nan, nan],\n        [nan, nan, nan],\n        [nan, nan, nan],\n        [nan, nan, nan],\n        [nan, nan, nan],\n        [nan, nan, nan],\n        [nan, nan, nan],\n        [nan, nan, nan],\n        [nan, nan, nan],\n        [nan, nan, nan],\n        [nan, nan, nan],\n        [nan, nan, nan],\n        [nan, nan, nan],\n        [nan, nan, nan],\n        [nan, nan, nan]], dtype=float32)>,\n <tf.Tensor: shape=(3,), dtype=float32, numpy=array([nan, nan, nan], dtype=float32)>]"
     },
     "execution_count": 47,
     "metadata": {},
     "output_type": "execute_result"
    }
   ],
   "source": [
    "grads"
   ],
   "metadata": {
    "collapsed": false,
    "ExecuteTime": {
     "end_time": "2023-11-25T17:34:40.474119417Z",
     "start_time": "2023-11-25T17:34:40.467638347Z"
    }
   },
   "id": "f64098f5916f96a4"
  },
  {
   "cell_type": "code",
   "execution_count": 92,
   "outputs": [
    {
     "data": {
      "text/plain": "<tf.Tensor: shape=(6, 2), dtype=float32, numpy=\narray([[1.6007552, 0.630413 ],\n       [1.3515015, 0.7179877],\n       [0.6792868, 1.194415 ],\n       [0.       , 0.       ],\n       [0.       , 0.       ],\n       [0.       , 0.       ]], dtype=float32)>"
     },
     "execution_count": 92,
     "metadata": {},
     "output_type": "execute_result"
    }
   ],
   "source": [
    "distances"
   ],
   "metadata": {
    "collapsed": false,
    "ExecuteTime": {
     "end_time": "2023-11-25T17:29:36.139619551Z",
     "start_time": "2023-11-25T17:29:36.123463425Z"
    }
   },
   "id": "1d2c6a713537ef45"
  },
  {
   "cell_type": "code",
   "execution_count": 443,
   "outputs": [
    {
     "data": {
      "text/plain": "TensorShape([20, 5, 2])"
     },
     "execution_count": 443,
     "metadata": {},
     "output_type": "execute_result"
    }
   ],
   "source": [
    "acts.shape"
   ],
   "metadata": {
    "collapsed": false,
    "ExecuteTime": {
     "end_time": "2023-11-25T17:06:53.931847971Z",
     "start_time": "2023-11-25T17:06:53.913330106Z"
    }
   },
   "id": "eecd8dde978aaf08"
  },
  {
   "cell_type": "code",
   "execution_count": 438,
   "outputs": [
    {
     "data": {
      "text/plain": "TensorShape([20, 5, 2])"
     },
     "execution_count": 438,
     "metadata": {},
     "output_type": "execute_result"
    }
   ],
   "source": [
    "act_2.shape"
   ],
   "metadata": {
    "collapsed": false,
    "ExecuteTime": {
     "end_time": "2023-11-25T17:05:51.857046428Z",
     "start_time": "2023-11-25T17:05:51.812071396Z"
    }
   },
   "id": "721770d56774ae25"
  },
  {
   "cell_type": "code",
   "execution_count": 433,
   "outputs": [
    {
     "data": {
      "text/plain": "<tf.Tensor: shape=(5, 2), dtype=float32, numpy=\narray([[-0.5547297 ,  0.33316517],\n       [-0.9946034 ,  0.68414736],\n       [-0.8453646 , -0.35012817],\n       [-0.05941892, -0.5306032 ],\n       [ 0.10520387, -0.8080895 ]], dtype=float32)>"
     },
     "execution_count": 433,
     "metadata": {},
     "output_type": "execute_result"
    }
   ],
   "source": [
    "actions[-2]"
   ],
   "metadata": {
    "collapsed": false,
    "ExecuteTime": {
     "end_time": "2023-11-25T16:52:58.264358400Z",
     "start_time": "2023-11-25T16:52:58.249125139Z"
    }
   },
   "id": "2808d2f2d1ff98a9"
  },
  {
   "cell_type": "code",
   "execution_count": 412,
   "outputs": [
    {
     "data": {
      "text/plain": "<tf.Tensor: shape=(), dtype=float32, numpy=0.033893973>"
     },
     "execution_count": 412,
     "metadata": {},
     "output_type": "execute_result"
    }
   ],
   "source": [
    "grads[3][0]"
   ],
   "metadata": {
    "collapsed": false,
    "ExecuteTime": {
     "end_time": "2023-11-25T16:38:58.067716507Z",
     "start_time": "2023-11-25T16:38:58.049471340Z"
    }
   },
   "id": "766bb45278fafc98"
  },
  {
   "cell_type": "code",
   "execution_count": 401,
   "outputs": [
    {
     "data": {
      "text/plain": "<tf.Tensor: shape=(64,), dtype=float32, numpy=\narray([-0.0789131 , -0.11420071, -0.07258695,  0.14461856,  0.20010315,\n        0.21251209, -0.02950175, -0.16454795,  0.04056363,  0.17194687,\n       -0.05777016, -0.00283304, -0.1989951 ,  0.08465316,  0.02717163,\n       -0.20818457,  0.13845952, -0.09363864, -0.08414758,  0.11545043,\n       -0.00914209, -0.2144667 ,  0.17920916,  0.12533903,  0.08253516,\n        0.07560847, -0.12364417, -0.05225706,  0.07257701, -0.03708631,\n        0.01309452, -0.17924425, -0.05799545,  0.11297812, -0.14737372,\n       -0.04073825, -0.06614798,  0.10706209, -0.04454208,  0.14828064,\n        0.17970586,  0.1935883 , -0.06552164, -0.00096052,  0.02632249,\n       -0.04328397, -0.14863361, -0.01338717, -0.08311972, -0.17754105,\n        0.06155334,  0.15120105, -0.16108026,  0.05747295, -0.11872796,\n        0.18264787,  0.11795197,  0.06367145, -0.07073121,  0.14580195,\n        0.07202268,  0.11720204, -0.00423585, -0.19099985], dtype=float32)>"
     },
     "execution_count": 401,
     "metadata": {},
     "output_type": "execute_result"
    }
   ],
   "source": [
    "act.trainable_variables[2][0]"
   ],
   "metadata": {
    "collapsed": false,
    "ExecuteTime": {
     "end_time": "2023-11-25T16:37:46.333596211Z",
     "start_time": "2023-11-25T16:37:46.327292025Z"
    }
   },
   "id": "6f6adc8666316e72"
  },
  {
   "cell_type": "code",
   "execution_count": 402,
   "outputs": [
    {
     "data": {
      "text/plain": "<tf.Variable 'UnreadVariable' shape=() dtype=int64, numpy=2>"
     },
     "execution_count": 402,
     "metadata": {},
     "output_type": "execute_result"
    }
   ],
   "source": [
    "grads_and_vars = zip(grads, act.trainable_variables)\n",
    "optimizer.apply_gradients(grads_and_vars)"
   ],
   "metadata": {
    "collapsed": false,
    "ExecuteTime": {
     "end_time": "2023-11-25T16:37:47.254739379Z",
     "start_time": "2023-11-25T16:37:47.212040780Z"
    }
   },
   "id": "21e39a96f21a99d9"
  },
  {
   "cell_type": "code",
   "execution_count": 403,
   "outputs": [
    {
     "data": {
      "text/plain": "<tf.Tensor: shape=(64,), dtype=float32, numpy=\narray([-0.07809148, -0.11350412, -0.07316923,  0.14512576,  0.20082732,\n        0.2130993 , -0.03015529, -0.16389719,  0.04125327,  0.1724223 ,\n       -0.05871786, -0.00356625, -0.1984957 ,  0.08390189,  0.02645704,\n       -0.20718668,  0.13914937, -0.09297912, -0.0831503 ,  0.11606952,\n       -0.00832639, -0.21384464,  0.17990837,  0.12433819,  0.08285898,\n        0.07496566, -0.12285034, -0.05287823,  0.07265899, -0.03644953,\n        0.01233923, -0.17826451, -0.05762524,  0.11229046, -0.14834021,\n       -0.04145354, -0.06699543,  0.10636219, -0.04364842,  0.14888765,\n        0.1791678 ,  0.19299397, -0.06625613, -0.00038339,  0.02552432,\n       -0.04254162, -0.14913069, -0.01384566, -0.08381084, -0.17698313,\n        0.06093655,  0.15055577, -0.1612429 ,  0.05822559, -0.11935053,\n        0.18330917,  0.11718134,  0.06300978, -0.07015739,  0.14677118,\n        0.07200583,  0.11817075, -0.00379111, -0.19173887], dtype=float32)>"
     },
     "execution_count": 403,
     "metadata": {},
     "output_type": "execute_result"
    }
   ],
   "source": [
    "act.trainable_variables[2][0]"
   ],
   "metadata": {
    "collapsed": false,
    "ExecuteTime": {
     "end_time": "2023-11-25T16:37:50.606102761Z",
     "start_time": "2023-11-25T16:37:50.591123285Z"
    }
   },
   "id": "a9a1aa9f8fe148f8"
  },
  {
   "cell_type": "code",
   "execution_count": 378,
   "outputs": [
    {
     "data": {
      "text/plain": "<tf.Tensor: shape=(10,), dtype=float32, numpy=\narray([7.8159737e-30, 8.4592861e-35, 2.8145103e-15, 3.6260216e-03,\n       0.0000000e+00, 6.1474402e-20, 9.6628922e-01, 0.0000000e+00,\n       3.0084765e-02, 1.8081004e-13], dtype=float32)>"
     },
     "execution_count": 378,
     "metadata": {},
     "output_type": "execute_result"
    }
   ],
   "source": [
    "logits2[0]"
   ],
   "metadata": {
    "collapsed": false,
    "ExecuteTime": {
     "end_time": "2023-11-25T16:28:59.518510208Z",
     "start_time": "2023-11-25T16:28:59.504683609Z"
    }
   },
   "id": "b5d53340cdc5d36"
  },
  {
   "cell_type": "code",
   "execution_count": 243,
   "outputs": [
    {
     "data": {
      "text/plain": "[<tf.Tensor: shape=(10, 64), dtype=float32, numpy=\n array([[ 0.00000000e+00,  0.00000000e+00,  0.00000000e+00,\n          0.00000000e+00,  0.00000000e+00,  0.00000000e+00,\n          0.00000000e+00,  0.00000000e+00,  0.00000000e+00,\n          0.00000000e+00,  0.00000000e+00,  0.00000000e+00,\n          0.00000000e+00,  0.00000000e+00,  0.00000000e+00,\n          0.00000000e+00,  0.00000000e+00,  0.00000000e+00,\n          0.00000000e+00,  0.00000000e+00,  0.00000000e+00,\n          0.00000000e+00,  0.00000000e+00,  0.00000000e+00,\n          0.00000000e+00,  0.00000000e+00,  0.00000000e+00,\n          0.00000000e+00,  0.00000000e+00,  0.00000000e+00,\n          0.00000000e+00,  0.00000000e+00,  0.00000000e+00,\n          0.00000000e+00,  0.00000000e+00,  0.00000000e+00,\n          0.00000000e+00,  0.00000000e+00,  0.00000000e+00,\n          0.00000000e+00,  0.00000000e+00,  0.00000000e+00,\n          0.00000000e+00,  0.00000000e+00,  0.00000000e+00,\n          0.00000000e+00,  0.00000000e+00,  0.00000000e+00,\n          0.00000000e+00,  0.00000000e+00,  0.00000000e+00,\n          0.00000000e+00,  0.00000000e+00,  0.00000000e+00,\n          0.00000000e+00,  0.00000000e+00,  0.00000000e+00,\n          0.00000000e+00,  0.00000000e+00,  0.00000000e+00,\n          0.00000000e+00,  0.00000000e+00,  0.00000000e+00,\n          0.00000000e+00],\n        [ 5.32788455e-01,  8.10220838e-01, -6.32533550e-01,\n          8.57128501e-01,  1.37185648e-01, -8.53127599e-01,\n          6.76689267e-01,  6.69828713e-01,  1.13311119e-01,\n          8.35849702e-01,  9.27580416e-01, -1.60106987e-01,\n          1.11077562e-01, -2.44569778e-01, -5.40757105e-02,\n         -1.38850737e+00, -2.89129347e-01, -1.17783420e-01,\n         -1.54261351e+00,  1.02866220e+00, -1.58754289e+00,\n         -3.72139692e-01,  1.24925502e-01,  2.03873324e+00,\n          1.03879356e+00,  4.89271969e-01,  3.99777055e-01,\n          4.41323727e-01,  1.12508774e-01,  3.45197739e-03,\n         -5.10540128e-01,  4.84040678e-01,  5.62983632e-01,\n          1.50833631e+00,  2.21140265e+00, -1.19422221e+00,\n          6.86981440e-01,  1.91448390e+00,  4.67064559e-01,\n          2.27458268e-01,  2.38217306e+00,  1.89862883e+00,\n          1.52607393e+00,  2.81983137e-01, -1.56950140e+00,\n          1.52341306e+00,  6.68224752e-01,  8.91501680e-02,\n          1.07455313e+00,  2.20835590e+00,  2.37436919e-03,\n          1.15933567e-01, -1.34460962e+00,  1.25156701e+00,\n          5.67844629e-01,  2.60101825e-01,  1.82322800e+00,\n          6.32642070e-03, -9.70714331e-01, -3.73681843e-01,\n         -1.61994064e+00, -6.07006073e-01, -6.73548996e-01,\n          4.16353613e-01],\n        [ 2.95993567e-01,  4.50122684e-01, -3.51407528e-01,\n          4.76182520e-01,  7.62142465e-02, -4.73959774e-01,\n          3.75938475e-01,  3.72127056e-01,  6.29506186e-02,\n          4.64360952e-01,  5.15322447e-01, -8.89483243e-02,\n          6.17097542e-02, -1.35872096e-01, -3.00420616e-02,\n         -7.71392941e-01, -1.60627425e-01, -6.54352307e-02,\n         -8.57007504e-01,  5.71479023e-01, -8.81968260e-01,\n         -2.06744283e-01,  6.94030598e-02,  1.13262963e+00,\n          5.77107549e-01,  2.71817774e-01,  2.22098365e-01,\n          2.45179847e-01,  6.25048727e-02,  1.91776524e-03,\n         -2.83633411e-01,  2.68911481e-01,  3.12768668e-01,\n          8.37964654e-01,  1.22855711e+00, -6.63456798e-01,\n          3.81656349e-01,  1.06360221e+00,  2.59480298e-01,\n          1.26365706e-01,  1.32342947e+00,  1.05479383e+00,\n          8.47818851e-01,  1.56657308e-01, -8.71945262e-01,\n          8.46340597e-01,  3.71235967e-01,  4.95278686e-02,\n          5.96973956e-01,  1.22686446e+00,  1.31909398e-03,\n          6.44075349e-02, -7.47005343e-01,  6.95315003e-01,\n          3.15469235e-01,  1.44501016e-01,  1.01290441e+00,\n          3.51467822e-03, -5.39285719e-01, -2.07601026e-01,\n         -8.99967015e-01, -3.37225616e-01, -3.74193907e-01,\n          2.31307566e-01],\n        [ 2.36794859e-01,  3.60098153e-01, -2.81126022e-01,\n          3.80946010e-01,  6.09713979e-02, -3.79167825e-01,\n          3.00750792e-01,  2.97701657e-01,  5.03604971e-02,\n          3.71488750e-01,  4.12257969e-01, -7.11586624e-02,\n          4.93678041e-02, -1.08697683e-01, -2.40336489e-02,\n         -6.17114365e-01, -1.28501937e-01, -5.23481853e-02,\n         -6.85606003e-01,  4.57183212e-01, -7.05574632e-01,\n         -1.65395424e-01,  5.55224456e-02,  9.06103671e-01,\n          4.61686015e-01,  2.17454210e-01,  1.77678689e-01,\n          1.96143880e-01,  5.00039011e-02,  1.53421215e-03,\n         -2.26906717e-01,  2.15129197e-01,  2.50214934e-01,\n          6.70371711e-01,  9.82845664e-01, -5.30765414e-01,\n          3.05325091e-01,  8.50881755e-01,  2.07584247e-01,\n          1.01092562e-01,  1.05874360e+00,  8.43835056e-01,\n          6.78255081e-01,  1.25325844e-01, -6.97556198e-01,\n          6.77072465e-01,  2.96988785e-01,  3.96222956e-02,\n          4.77579176e-01,  9.81491566e-01,  1.05527521e-03,\n          5.15260287e-02, -5.97604275e-01,  5.56252003e-01,\n          2.52375394e-01,  1.15600809e-01,  8.10323536e-01,\n          2.81174248e-03, -4.31428581e-01, -1.66080818e-01,\n         -7.19973624e-01, -2.69780487e-01, -2.99355119e-01,\n          1.85046047e-01],\n        [ 4.73589718e-01,  7.20196307e-01, -5.62252045e-01,\n          7.61892021e-01,  1.21942796e-01, -7.58335650e-01,\n          6.01501584e-01,  5.95403314e-01,  1.00720994e-01,\n          7.42977500e-01,  8.24515939e-01, -1.42317325e-01,\n          9.87356082e-02, -2.17395365e-01, -4.80672978e-02,\n         -1.23422873e+00, -2.57003874e-01, -1.04696371e-01,\n         -1.37121201e+00,  9.14366424e-01, -1.41114926e+00,\n         -3.30790848e-01,  1.11044891e-01,  1.81220734e+00,\n          9.23372030e-01,  4.34908420e-01,  3.55357379e-01,\n          3.92287761e-01,  1.00007802e-01,  3.06842430e-03,\n         -4.53813434e-01,  4.30258393e-01,  5.00429869e-01,\n          1.34074342e+00,  1.96569133e+00, -1.06153083e+00,\n          6.10650182e-01,  1.70176351e+00,  4.15168494e-01,\n          2.02185124e-01,  2.11748719e+00,  1.68767011e+00,\n          1.35651016e+00,  2.50651687e-01, -1.39511240e+00,\n          1.35414493e+00,  5.93977571e-01,  7.92445913e-02,\n          9.55158353e-01,  1.96298313e+00,  2.11055041e-03,\n          1.03052057e-01, -1.19520855e+00,  1.11250401e+00,\n          5.04750788e-01,  2.31201619e-01,  1.62064707e+00,\n          5.62348496e-03, -8.62857163e-01, -3.32161635e-01,\n         -1.43994725e+00, -5.39560974e-01, -5.98710239e-01,\n          3.70092094e-01],\n        [ 5.32788455e-01,  8.10220838e-01, -6.32533550e-01,\n          8.57128501e-01,  1.37185648e-01, -8.53127599e-01,\n          6.76689267e-01,  6.69828713e-01,  1.13311119e-01,\n          8.35849702e-01,  9.27580416e-01, -1.60106987e-01,\n          1.11077562e-01, -2.44569778e-01, -5.40757105e-02,\n         -1.38850737e+00, -2.89129347e-01, -1.17783420e-01,\n         -1.54261351e+00,  1.02866220e+00, -1.58754289e+00,\n         -3.72139692e-01,  1.24925502e-01,  2.03873324e+00,\n          1.03879356e+00,  4.89271969e-01,  3.99777055e-01,\n          4.41323727e-01,  1.12508774e-01,  3.45197739e-03,\n         -5.10540128e-01,  4.84040678e-01,  5.62983632e-01,\n          1.50833631e+00,  2.21140265e+00, -1.19422221e+00,\n          6.86981440e-01,  1.91448390e+00,  4.67064559e-01,\n          2.27458268e-01,  2.38217306e+00,  1.89862883e+00,\n          1.52607393e+00,  2.81983137e-01, -1.56950140e+00,\n          1.52341306e+00,  6.68224752e-01,  8.91501680e-02,\n          1.07455313e+00,  2.20835590e+00,  2.37436919e-03,\n          1.15933567e-01, -1.34460962e+00,  1.25156701e+00,\n          5.67844629e-01,  2.60101825e-01,  1.82322800e+00,\n          6.32642070e-03, -9.70714331e-01, -3.73681843e-01,\n         -1.61994064e+00, -6.07006073e-01, -6.73548996e-01,\n          4.16353613e-01],\n        [ 1.77596152e-01,  2.70073622e-01, -2.10844517e-01,\n          2.85709500e-01,  4.57285494e-02, -2.84375876e-01,\n          2.25563094e-01,  2.23276243e-01,  3.77703719e-02,\n          2.78616548e-01,  3.09193492e-01, -5.33689968e-02,\n          3.70258540e-02, -8.15232620e-02, -1.80252362e-02,\n         -4.62835789e-01, -9.63764489e-02, -3.92611399e-02,\n         -5.14204502e-01,  3.42887402e-01, -5.29181004e-01,\n         -1.24046564e-01,  4.16418351e-02,  6.79577768e-01,\n          3.46264511e-01,  1.63090661e-01,  1.33259013e-01,\n          1.47107914e-01,  3.75029258e-02,  1.15065905e-03,\n         -1.70180038e-01,  1.61346897e-01,  1.87661201e-01,\n          5.02778769e-01,  7.37134218e-01, -3.98074061e-01,\n          2.28993818e-01,  6.38161302e-01,  1.55688182e-01,\n          7.58194178e-02,  7.94057727e-01,  6.32876277e-01,\n          5.08691311e-01,  9.39943790e-02, -5.23167133e-01,\n          5.07804334e-01,  2.22741589e-01,  2.97167227e-02,\n          3.58184397e-01,  7.36118674e-01,  7.91456434e-04,\n          3.86445224e-02, -4.48203206e-01,  4.17189002e-01,\n          1.89281553e-01,  8.67006034e-02,  6.07742667e-01,\n          2.10880674e-03, -3.23571444e-01, -1.24560609e-01,\n         -5.39980233e-01, -2.02335358e-01, -2.24516332e-01,\n          1.38784528e-01],\n        [ 1.18397430e-01,  1.80049077e-01, -1.40563011e-01,\n          1.90473005e-01,  3.04856990e-02, -1.89583912e-01,\n          1.50375396e-01,  1.48850828e-01,  2.51802485e-02,\n          1.85744375e-01,  2.06128985e-01, -3.55793312e-02,\n          2.46839020e-02, -5.43488413e-02, -1.20168244e-02,\n         -3.08557183e-01, -6.42509684e-02, -2.61740927e-02,\n         -3.42803001e-01,  2.28591606e-01, -3.52787316e-01,\n         -8.26977119e-02,  2.77612228e-02,  4.53051835e-01,\n          2.30843008e-01,  1.08727105e-01,  8.88393447e-02,\n          9.80719402e-02,  2.50019506e-02,  7.67106074e-04,\n         -1.13453358e-01,  1.07564598e-01,  1.25107467e-01,\n          3.35185856e-01,  4.91422832e-01, -2.65382707e-01,\n          1.52662545e-01,  4.25440878e-01,  1.03792123e-01,\n          5.05462810e-02,  5.29371798e-01,  4.21917528e-01,\n          3.39127541e-01,  6.26629218e-02, -3.48778099e-01,\n          3.38536233e-01,  1.48494393e-01,  1.98111478e-02,\n          2.38789588e-01,  4.90745783e-01,  5.27637603e-04,\n          2.57630143e-02, -2.98802137e-01,  2.78126001e-01,\n          1.26187697e-01,  5.78004047e-02,  4.05161768e-01,\n          1.40587124e-03, -2.15714291e-01, -8.30404088e-02,\n         -3.59986812e-01, -1.34890243e-01, -1.49677560e-01,\n          9.25230235e-02],\n        [ 5.32788455e-01,  8.10220838e-01, -6.32533550e-01,\n          8.57128501e-01,  1.37185648e-01, -8.53127599e-01,\n          6.76689267e-01,  6.69828713e-01,  1.13311119e-01,\n          8.35849702e-01,  9.27580416e-01, -1.60106987e-01,\n          1.11077562e-01, -2.44569778e-01, -5.40757105e-02,\n         -1.38850737e+00, -2.89129347e-01, -1.17783420e-01,\n         -1.54261351e+00,  1.02866220e+00, -1.58754289e+00,\n         -3.72139692e-01,  1.24925502e-01,  2.03873324e+00,\n          1.03879356e+00,  4.89271969e-01,  3.99777055e-01,\n          4.41323727e-01,  1.12508774e-01,  3.45197739e-03,\n         -5.10540128e-01,  4.84040678e-01,  5.62983632e-01,\n          1.50833631e+00,  2.21140265e+00, -1.19422221e+00,\n          6.86981440e-01,  1.91448390e+00,  4.67064559e-01,\n          2.27458268e-01,  2.38217306e+00,  1.89862883e+00,\n          1.52607393e+00,  2.81983137e-01, -1.56950140e+00,\n          1.52341306e+00,  6.68224752e-01,  8.91501680e-02,\n          1.07455313e+00,  2.20835590e+00,  2.37436919e-03,\n          1.15933567e-01, -1.34460962e+00,  1.25156701e+00,\n          5.67844629e-01,  2.60101825e-01,  1.82322800e+00,\n          6.32642070e-03, -9.70714331e-01, -3.73681843e-01,\n         -1.61994064e+00, -6.07006073e-01, -6.73548996e-01,\n          4.16353613e-01],\n        [ 2.95993567e-01,  4.50122684e-01, -3.51407528e-01,\n          4.76182520e-01,  7.62142465e-02, -4.73959774e-01,\n          3.75938475e-01,  3.72127056e-01,  6.29506186e-02,\n          4.64360952e-01,  5.15322447e-01, -8.89483243e-02,\n          6.17097542e-02, -1.35872096e-01, -3.00420616e-02,\n         -7.71392941e-01, -1.60627425e-01, -6.54352307e-02,\n         -8.57007504e-01,  5.71479023e-01, -8.81968260e-01,\n         -2.06744283e-01,  6.94030598e-02,  1.13262963e+00,\n          5.77107549e-01,  2.71817774e-01,  2.22098365e-01,\n          2.45179847e-01,  6.25048727e-02,  1.91776524e-03,\n         -2.83633411e-01,  2.68911481e-01,  3.12768668e-01,\n          8.37964654e-01,  1.22855711e+00, -6.63456798e-01,\n          3.81656349e-01,  1.06360221e+00,  2.59480298e-01,\n          1.26365706e-01,  1.32342947e+00,  1.05479383e+00,\n          8.47818851e-01,  1.56657308e-01, -8.71945262e-01,\n          8.46340597e-01,  3.71235967e-01,  4.95278686e-02,\n          5.96973956e-01,  1.22686446e+00,  1.31909398e-03,\n          6.44075349e-02, -7.47005343e-01,  6.95315003e-01,\n          3.15469235e-01,  1.44501016e-01,  1.01290441e+00,\n          3.51467822e-03, -5.39285719e-01, -2.07601026e-01,\n         -8.99967015e-01, -3.37225616e-01, -3.74193907e-01,\n          2.31307566e-01]], dtype=float32)>,\n <tf.Tensor: shape=(64,), dtype=float32, numpy=\n array([ 5.91987148e-02,  9.00245383e-02, -7.02815056e-02,  9.52365026e-02,\n         1.52428495e-02, -9.47919562e-02,  7.51876980e-02,  7.44254142e-02,\n         1.25901243e-02,  9.28721875e-02,  1.03064492e-01, -1.77896656e-02,\n         1.23419510e-02, -2.71744207e-02, -6.00841222e-03, -1.54278591e-01,\n        -3.21254842e-02, -1.30870463e-02, -1.71401501e-01,  1.14295803e-01,\n        -1.76393658e-01, -4.13488559e-02,  1.38806114e-02,  2.26525918e-01,\n         1.15421504e-01,  5.43635525e-02,  4.44196723e-02,  4.90359701e-02,\n         1.25009753e-02,  3.83553037e-04, -5.67266792e-02,  5.37822992e-02,\n         6.25537336e-02,  1.67592928e-01,  2.45711416e-01, -1.32691354e-01,\n         7.63312727e-02,  2.12720439e-01,  5.18960617e-02,  2.52731405e-02,\n         2.64685899e-01,  2.10958764e-01,  1.69563770e-01,  3.13314609e-02,\n        -1.74389049e-01,  1.69268116e-01,  7.42471963e-02,  9.90557391e-03,\n         1.19394794e-01,  2.45372891e-01,  2.63818802e-04,  1.28815072e-02,\n        -1.49401069e-01,  1.39063001e-01,  6.30938485e-02,  2.89002024e-02,\n         2.02580884e-01,  7.02935620e-04, -1.07857145e-01, -4.15202044e-02,\n        -1.79993406e-01, -6.74451217e-02, -7.48387799e-02,  4.62615117e-02],\n       dtype=float32)>,\n <tf.Tensor: shape=(64, 64), dtype=float32, numpy=\n array([[-1.0520635e-01, -2.5539485e-01, -3.1198215e-01, ...,\n          8.7519619e-04,  2.0361522e-01,  3.4740990e-01],\n        [-4.6870206e-03, -1.1378029e-02, -1.3899035e-02, ...,\n          3.8990638e-05,  9.0712076e-03,  1.5477368e-02],\n        [ 8.9632407e-02,  2.1758816e-01,  2.6579869e-01, ...,\n         -7.4563886e-04, -1.7347357e-01, -2.9598200e-01],\n        ...,\n        [-1.5148276e-01, -3.6773369e-01, -4.4921166e-01, ...,\n          1.2601629e-03,  2.9317808e-01,  5.0022280e-01],\n        [ 9.6359774e-02,  2.3391926e-01,  2.8574824e-01, ...,\n         -8.0160284e-04, -1.8649365e-01, -3.1819695e-01],\n        [-2.3280798e-01, -5.6515568e-01, -6.9037598e-01, ...,\n          1.9366955e-03,  4.5057401e-01,  7.6877302e-01]], dtype=float32)>,\n <tf.Tensor: shape=(64,), dtype=float32, numpy=\n array([ 0.05363844,  0.1302106 ,  0.15906107, -0.17150922, -0.1357658 ,\n         0.0717755 , -0.05457156,  0.11200386, -0.02798313, -0.02871759,\n         0.07829207, -0.018529  ,  0.03712295,  0.06389832, -0.08643755,\n         0.15050916, -0.0867714 ,  0.3351115 ,  0.15859054, -0.15668188,\n         0.09661962,  0.0926241 ,  0.24652305,  0.01717562,  0.00918673,\n         0.1807903 ,  0.22320034, -0.10883214, -0.07221887,  0.03363296,\n        -0.02756703,  0.09452491,  0.02790689,  0.10892202, -0.15625119,\n        -0.09403174,  0.11599588,  0.00155897,  0.0638108 , -0.1571422 ,\n        -0.06929709, -0.01595848, -0.06902106, -0.15867415,  0.10347422,\n        -0.0609205 ,  0.04120678, -0.04312538,  0.24836843, -0.01254929,\n         0.18898393, -0.04740422,  0.00715556,  0.31875643, -0.10414947,\n         0.0043395 ,  0.02357118, -0.20826933,  0.08125352,  0.10969793,\n        -0.07723334, -0.00044621, -0.10381124, -0.17712358], dtype=float32)>,\n <tf.Tensor: shape=(64, 64), dtype=float32, numpy=\n array([[ 0.46171764,  0.95625776, -0.33093274, ...,  0.5757861 ,\n         -0.21482791, -0.65405554],\n        [ 0.09141953,  0.18933785, -0.06552427, ...,  0.11400494,\n         -0.04253566, -0.12950219],\n        [-0.52254564, -1.082238  ,  0.37453076, ..., -0.65164185,\n          0.24312995,  0.74022275],\n        ...,\n        [ 0.49882853,  1.0331177 , -0.3575317 , ...,  0.6220653 ,\n         -0.23209485, -0.70662576],\n        [-0.30021632, -0.6217743 ,  0.21517783, ..., -0.37438548,\n          0.1396846 ,  0.42527756],\n        [-0.2992444 , -0.6197614 ,  0.21448122, ..., -0.37317345,\n          0.13923238,  0.42390075]], dtype=float32)>,\n <tf.Tensor: shape=(64,), dtype=float32, numpy=\n array([ 0.09882241,  0.2046699 , -0.07083024, -0.18861356,  0.19098754,\n        -0.19007662,  0.08980427, -0.04601858, -0.05798861, -0.00408796,\n        -0.1065165 , -0.15348999, -0.16774179, -0.00987162,  0.16770217,\n         0.13654472, -0.09620433, -0.16543777,  0.04761231,  0.13486594,\n        -0.09667259, -0.11213159,  0.1734238 , -0.17848459,  0.05807574,\n         0.15372999, -0.04550259, -0.19155043,  0.0789645 ,  0.05561086,\n        -0.00833161, -0.07534073,  0.10062763, -0.1622828 , -0.14812683,\n        -0.10917393,  0.00499094,  0.15058078, -0.19137219, -0.21034871,\n        -0.20759916,  0.09546064, -0.17884298,  0.0940829 ,  0.04985822,\n         0.0312793 ,  0.20656195, -0.11894364,  0.08752126,  0.05552131,\n        -0.09527468,  0.01133174,  0.14957084,  0.09885442, -0.11967383,\n         0.19538906, -0.21472554, -0.20505321, -0.08415458,  0.13199879,\n         0.19469665,  0.12323673, -0.04598008, -0.13998891], dtype=float32)>,\n <tf.Tensor: shape=(64, 10), dtype=float32, numpy=\n array([[ 0.        ,  0.        ,  0.        ,  0.        ,  0.        ,\n          0.        ,  0.        ,  0.        ,  2.2615085 ,  0.        ],\n        [ 0.        ,  0.        ,  0.        ,  0.        ,  0.        ,\n          0.        ,  0.        ,  0.        ,  1.4735992 ,  0.        ],\n        [ 0.        ,  0.        ,  0.        ,  0.        ,  0.        ,\n          0.        ,  0.        ,  0.        ,  1.6092621 ,  0.        ],\n        [ 0.        ,  0.        ,  0.        ,  0.        ,  0.        ,\n          0.        ,  0.        ,  0.        , -2.16787   ,  0.        ],\n        [ 0.        ,  0.        ,  0.        ,  0.        ,  0.        ,\n          0.        ,  0.        ,  0.        ,  2.5474043 ,  0.        ],\n        [ 0.        ,  0.        ,  0.        ,  0.        ,  0.        ,\n          0.        ,  0.        ,  0.        , -0.3632163 ,  0.        ],\n        [ 0.        ,  0.        ,  0.        ,  0.        ,  0.        ,\n          0.        ,  0.        ,  0.        , -3.155534  ,  0.        ],\n        [ 0.        ,  0.        ,  0.        ,  0.        ,  0.        ,\n          0.        ,  0.        ,  0.        , -0.16167076,  0.        ],\n        [ 0.        ,  0.        ,  0.        ,  0.        ,  0.        ,\n          0.        ,  0.        ,  0.        ,  0.9768187 ,  0.        ],\n        [ 0.        ,  0.        ,  0.        ,  0.        ,  0.        ,\n          0.        ,  0.        ,  0.        , -1.3972348 ,  0.        ],\n        [ 0.        ,  0.        ,  0.        ,  0.        ,  0.        ,\n          0.        ,  0.        ,  0.        , -0.37210825,  0.        ],\n        [ 0.        ,  0.        ,  0.        ,  0.        ,  0.        ,\n          0.        ,  0.        ,  0.        , -0.04253986,  0.        ],\n        [ 0.        ,  0.        ,  0.        ,  0.        ,  0.        ,\n          0.        ,  0.        ,  0.        , -2.9867864 ,  0.        ],\n        [ 0.        ,  0.        ,  0.        ,  0.        ,  0.        ,\n          0.        ,  0.        ,  0.        , -0.44476667,  0.        ],\n        [ 0.        ,  0.        ,  0.        ,  0.        ,  0.        ,\n          0.        ,  0.        ,  0.        , -2.4847696 ,  0.        ],\n        [ 0.        ,  0.        ,  0.        ,  0.        ,  0.        ,\n          0.        ,  0.        ,  0.        , -0.8900596 ,  0.        ],\n        [ 0.        ,  0.        ,  0.        ,  0.        ,  0.        ,\n          0.        ,  0.        ,  0.        ,  0.60924566,  0.        ],\n        [ 0.        ,  0.        ,  0.        ,  0.        ,  0.        ,\n          0.        ,  0.        ,  0.        , -0.56444913,  0.        ],\n        [ 0.        ,  0.        ,  0.        ,  0.        ,  0.        ,\n          0.        ,  0.        ,  0.        ,  1.9191649 ,  0.        ],\n        [ 0.        ,  0.        ,  0.        ,  0.        ,  0.        ,\n          0.        ,  0.        ,  0.        ,  4.1265273 ,  0.        ],\n        [ 0.        ,  0.        ,  0.        ,  0.        ,  0.        ,\n          0.        ,  0.        ,  0.        ,  1.2672309 ,  0.        ],\n        [ 0.        ,  0.        ,  0.        ,  0.        ,  0.        ,\n          0.        ,  0.        ,  0.        ,  2.5429904 ,  0.        ],\n        [ 0.        ,  0.        ,  0.        ,  0.        ,  0.        ,\n          0.        ,  0.        ,  0.        ,  4.223104  ,  0.        ],\n        [ 0.        ,  0.        ,  0.        ,  0.        ,  0.        ,\n          0.        ,  0.        ,  0.        ,  0.5100982 ,  0.        ],\n        [ 0.        ,  0.        ,  0.        ,  0.        ,  0.        ,\n          0.        ,  0.        ,  0.        ,  5.941828  ,  0.        ],\n        [ 0.        ,  0.        ,  0.        ,  0.        ,  0.        ,\n          0.        ,  0.        ,  0.        , -0.26576012,  0.        ],\n        [ 0.        ,  0.        ,  0.        ,  0.        ,  0.        ,\n          0.        ,  0.        ,  0.        , -0.2839825 ,  0.        ],\n        [ 0.        ,  0.        ,  0.        ,  0.        ,  0.        ,\n          0.        ,  0.        ,  0.        ,  0.41638017,  0.        ],\n        [ 0.        ,  0.        ,  0.        ,  0.        ,  0.        ,\n          0.        ,  0.        ,  0.        ,  0.4068864 ,  0.        ],\n        [ 0.        ,  0.        ,  0.        ,  0.        ,  0.        ,\n          0.        ,  0.        ,  0.        , -1.4646205 ,  0.        ],\n        [ 0.        ,  0.        ,  0.        ,  0.        ,  0.        ,\n          0.        ,  0.        ,  0.        , -2.5328863 ,  0.        ],\n        [ 0.        ,  0.        ,  0.        ,  0.        ,  0.        ,\n          0.        ,  0.        ,  0.        ,  5.9131804 ,  0.        ],\n        [ 0.        ,  0.        ,  0.        ,  0.        ,  0.        ,\n          0.        ,  0.        ,  0.        ,  8.010918  ,  0.        ],\n        [ 0.        ,  0.        ,  0.        ,  0.        ,  0.        ,\n          0.        ,  0.        ,  0.        ,  2.4613903 ,  0.        ],\n        [ 0.        ,  0.        ,  0.        ,  0.        ,  0.        ,\n          0.        ,  0.        ,  0.        ,  0.22933109,  0.        ],\n        [ 0.        ,  0.        ,  0.        ,  0.        ,  0.        ,\n          0.        ,  0.        ,  0.        , -1.7560523 ,  0.        ],\n        [ 0.        ,  0.        ,  0.        ,  0.        ,  0.        ,\n          0.        ,  0.        ,  0.        , -2.273297  ,  0.        ],\n        [ 0.        ,  0.        ,  0.        ,  0.        ,  0.        ,\n          0.        ,  0.        ,  0.        ,  0.12017845,  0.        ],\n        [ 0.        ,  0.        ,  0.        ,  0.        ,  0.        ,\n          0.        ,  0.        ,  0.        , -3.2633042 ,  0.        ],\n        [ 0.        ,  0.        ,  0.        ,  0.        ,  0.        ,\n          0.        ,  0.        ,  0.        , -1.3509052 ,  0.        ],\n        [ 0.        ,  0.        ,  0.        ,  0.        ,  0.        ,\n          0.        ,  0.        ,  0.        ,  0.768815  ,  0.        ],\n        [ 0.        ,  0.        ,  0.        ,  0.        ,  0.        ,\n          0.        ,  0.        ,  0.        , -0.01439689,  0.        ],\n        [ 0.        ,  0.        ,  0.        ,  0.        ,  0.        ,\n          0.        ,  0.        ,  0.        , -4.048228  ,  0.        ],\n        [ 0.        ,  0.        ,  0.        ,  0.        ,  0.        ,\n          0.        ,  0.        ,  0.        ,  0.5864433 ,  0.        ],\n        [ 0.        ,  0.        ,  0.        ,  0.        ,  0.        ,\n          0.        ,  0.        ,  0.        , -0.31055126,  0.        ],\n        [ 0.        ,  0.        ,  0.        ,  0.        ,  0.        ,\n          0.        ,  0.        ,  0.        , -2.6243725 ,  0.        ],\n        [ 0.        ,  0.        ,  0.        ,  0.        ,  0.        ,\n          0.        ,  0.        ,  0.        ,  0.44554168,  0.        ],\n        [ 0.        ,  0.        ,  0.        ,  0.        ,  0.        ,\n          0.        ,  0.        ,  0.        , -0.27504754,  0.        ],\n        [ 0.        ,  0.        ,  0.        ,  0.        ,  0.        ,\n          0.        ,  0.        ,  0.        , -3.4321508 ,  0.        ],\n        [ 0.        ,  0.        ,  0.        ,  0.        ,  0.        ,\n          0.        ,  0.        ,  0.        ,  2.4453363 ,  0.        ],\n        [ 0.        ,  0.        ,  0.        ,  0.        ,  0.        ,\n          0.        ,  0.        ,  0.        ,  1.1693836 ,  0.        ],\n        [ 0.        ,  0.        ,  0.        ,  0.        ,  0.        ,\n          0.        ,  0.        ,  0.        , -0.19477277,  0.        ],\n        [ 0.        ,  0.        ,  0.        ,  0.        ,  0.        ,\n          0.        ,  0.        ,  0.        , -1.9013348 ,  0.        ],\n        [ 0.        ,  0.        ,  0.        ,  0.        ,  0.        ,\n          0.        ,  0.        ,  0.        ,  3.4025598 ,  0.        ],\n        [ 0.        ,  0.        ,  0.        ,  0.        ,  0.        ,\n          0.        ,  0.        ,  0.        , -0.30902088,  0.        ],\n        [ 0.        ,  0.        ,  0.        ,  0.        ,  0.        ,\n          0.        ,  0.        ,  0.        ,  1.5599412 ,  0.        ],\n        [ 0.        ,  0.        ,  0.        ,  0.        ,  0.        ,\n          0.        ,  0.        ,  0.        , -1.208156  ,  0.        ],\n        [ 0.        ,  0.        ,  0.        ,  0.        ,  0.        ,\n          0.        ,  0.        ,  0.        ,  2.8364785 ,  0.        ],\n        [ 0.        ,  0.        ,  0.        ,  0.        ,  0.        ,\n          0.        ,  0.        ,  0.        , -0.0546254 ,  0.        ],\n        [ 0.        ,  0.        ,  0.        ,  0.        ,  0.        ,\n          0.        ,  0.        ,  0.        ,  2.912555  ,  0.        ],\n        [ 0.        ,  0.        ,  0.        ,  0.        ,  0.        ,\n          0.        ,  0.        ,  0.        ,  2.2635477 ,  0.        ],\n        [ 0.        ,  0.        ,  0.        ,  0.        ,  0.        ,\n          0.        ,  0.        ,  0.        ,  2.5190222 ,  0.        ],\n        [ 0.        ,  0.        ,  0.        ,  0.        ,  0.        ,\n          0.        ,  0.        ,  0.        ,  0.9562121 ,  0.        ],\n        [ 0.        ,  0.        ,  0.        ,  0.        ,  0.        ,\n          0.        ,  0.        ,  0.        ,  3.9053516 ,  0.        ]],\n       dtype=float32)>,\n <tf.Tensor: shape=(10,), dtype=float32, numpy=\n array([0.       , 0.       , 0.       , 0.       , 0.       , 0.       ,\n        0.       , 0.       , 0.7674954, 0.       ], dtype=float32)>]"
     },
     "execution_count": 243,
     "metadata": {},
     "output_type": "execute_result"
    }
   ],
   "source": [
    "grads"
   ],
   "metadata": {
    "collapsed": false,
    "ExecuteTime": {
     "end_time": "2023-11-25T10:55:09.702929955Z",
     "start_time": "2023-11-25T10:55:09.684540057Z"
    }
   },
   "id": "5b943e41493fb15b"
  },
  {
   "cell_type": "code",
   "execution_count": 237,
   "outputs": [
    {
     "data": {
      "text/plain": "<tf.Tensor: shape=(5, 10, 2), dtype=float32, numpy=\narray([[[-1.9736651 , -1.7213359 ],\n        [-0.80834454,  0.26693672],\n        [-0.654081  ,  1.7988795 ],\n        [ 0.09345616, -0.46745378],\n        [-0.12102263, -0.02670967],\n        [ 3.574896  , -2.13068   ],\n        [-0.6051694 , -0.6587835 ],\n        [ 0.30703264, -0.32688642],\n        [-1.0769366 ,  0.02709234],\n        [-0.7743957 , -0.00848668]],\n\n       [[ 0.2880399 ,  0.31462753],\n        [-0.33387375, -0.01580391],\n        [ 0.20033199,  0.21663345],\n        [-0.6820592 , -0.41886666],\n        [ 0.34131414,  0.07970672],\n        [-1.2044654 , -0.7863991 ],\n        [ 0.31076115,  0.14374001],\n        [ 0.65338176,  0.5110428 ],\n        [-2.4521687 ,  2.3524606 ],\n        [-0.26951563, -0.17772862]],\n\n       [[-0.74040276,  4.419273  ],\n        [ 2.991199  , -0.6235747 ],\n        [-3.7646883 , -4.9126115 ],\n        [ 1.784937  ,  1.0757633 ],\n        [ 2.9011421 , -0.6256206 ],\n        [ 0.93070304, -0.10184076],\n        [-0.14184794,  0.04314677],\n        [-4.1709504 ,  4.9209414 ],\n        [ 5.485466  , -4.748629  ],\n        [ 4.398748  ,  2.2031374 ]],\n\n       [[ 3.328008  ,  3.651848  ],\n        [ 0.30688438, -0.458509  ],\n        [-0.9186844 ,  0.0987413 ],\n        [-2.876604  ,  1.7555972 ],\n        [-0.8473738 , -0.46525523],\n        [-0.76246756, -1.9073813 ],\n        [-3.331198  , -3.4731169 ],\n        [-2.8060997 ,  1.296222  ],\n        [ 3.2366498 , -2.912995  ],\n        [-0.49218822,  0.8003802 ]],\n\n       [[-2.3088863 , -1.1702107 ],\n        [ 0.15839685, -0.00981932],\n        [ 4.180895  , -4.3805747 ],\n        [ 0.35005665,  1.163847  ],\n        [ 0.00737889,  0.03527591],\n        [-0.749251  ,  1.1512719 ],\n        [-0.4336161 , -0.5174746 ],\n        [-0.32260132, -0.5630718 ],\n        [-0.8105748 , -0.15892778],\n        [-0.04698227,  0.41478372]]], dtype=float32)>"
     },
     "execution_count": 237,
     "metadata": {},
     "output_type": "execute_result"
    }
   ],
   "source": [],
   "metadata": {
    "collapsed": false,
    "ExecuteTime": {
     "end_time": "2023-11-25T10:48:32.613501279Z",
     "start_time": "2023-11-25T10:48:32.608977498Z"
    }
   },
   "id": "493eaf6f8bd61fe1"
  },
  {
   "cell_type": "code",
   "execution_count": 222,
   "outputs": [
    {
     "data": {
      "text/plain": "TensorShape([5, 1, 10])"
     },
     "execution_count": 222,
     "metadata": {},
     "output_type": "execute_result"
    }
   ],
   "source": [
    "tf.reshape(logits, (5, 1, 10)).shape"
   ],
   "metadata": {
    "collapsed": false,
    "ExecuteTime": {
     "end_time": "2023-11-25T10:46:58.175871075Z",
     "start_time": "2023-11-25T10:46:58.158842851Z"
    }
   },
   "id": "1e954dd02efc72d5"
  },
  {
   "cell_type": "code",
   "execution_count": 213,
   "outputs": [
    {
     "data": {
      "text/plain": "TensorShape([5, 10])"
     },
     "execution_count": 213,
     "metadata": {},
     "output_type": "execute_result"
    }
   ],
   "source": [
    "logits.shape"
   ],
   "metadata": {
    "collapsed": false,
    "ExecuteTime": {
     "end_time": "2023-11-25T10:44:54.886674032Z",
     "start_time": "2023-11-25T10:44:54.865703594Z"
    }
   },
   "id": "554122db568ad88b"
  },
  {
   "cell_type": "code",
   "execution_count": 206,
   "outputs": [
    {
     "ename": "InvalidArgumentError",
     "evalue": "{{function_node __wrapped__ScatterNd_device_/job:localhost/replica:0/task:0/device:CPU:0}} Dimensions [1,2) of input[shape=[5,10]] must match dimensions [1,1) of updates[shape=[5]] [Op:ScatterNd]",
     "output_type": "error",
     "traceback": [
      "\u001B[0;31m---------------------------------------------------------------------------\u001B[0m",
      "\u001B[0;31mInvalidArgumentError\u001B[0m                      Traceback (most recent call last)",
      "Cell \u001B[0;32mIn[206], line 3\u001B[0m\n\u001B[1;32m      1\u001B[0m indices \u001B[38;5;241m=\u001B[39m tf\u001B[38;5;241m.\u001B[39mconstant(tf\u001B[38;5;241m.\u001B[39mcast(tf\u001B[38;5;241m.\u001B[39mexpand_dims(idx2, \u001B[38;5;241m-\u001B[39m\u001B[38;5;241m1\u001B[39m), dtype\u001B[38;5;241m=\u001B[39mtf\u001B[38;5;241m.\u001B[39mint32))\n\u001B[1;32m      2\u001B[0m updates \u001B[38;5;241m=\u001B[39m tf\u001B[38;5;241m.\u001B[39mones(shape\u001B[38;5;241m=\u001B[39m\u001B[38;5;241m5\u001B[39m, dtype\u001B[38;5;241m=\u001B[39mtf\u001B[38;5;241m.\u001B[39mfloat32)\n\u001B[0;32m----> 3\u001B[0m scatter \u001B[38;5;241m=\u001B[39m \u001B[43mtf\u001B[49m\u001B[38;5;241;43m.\u001B[39;49m\u001B[43mscatter_nd\u001B[49m\u001B[43m(\u001B[49m\u001B[43mindices\u001B[49m\u001B[43m,\u001B[49m\u001B[43m \u001B[49m\u001B[43mupdates\u001B[49m\u001B[43m,\u001B[49m\u001B[43m \u001B[49m\u001B[43m[\u001B[49m\u001B[38;5;241;43m5\u001B[39;49m\u001B[43m,\u001B[49m\u001B[43m \u001B[49m\u001B[38;5;241;43m10\u001B[39;49m\u001B[43m]\u001B[49m\u001B[43m)\u001B[49m\n\u001B[1;32m      4\u001B[0m scatter\n",
      "File \u001B[0;32m~/PycharmProjects/VRP-RL/venv/lib/python3.10/site-packages/tensorflow/python/ops/gen_array_ops.py:9395\u001B[0m, in \u001B[0;36mscatter_nd\u001B[0;34m(indices, updates, shape, name)\u001B[0m\n\u001B[1;32m   9393\u001B[0m   \u001B[38;5;28;01mif\u001B[39;00m _result \u001B[38;5;129;01mis\u001B[39;00m \u001B[38;5;129;01mnot\u001B[39;00m \u001B[38;5;28mNotImplemented\u001B[39m:\n\u001B[1;32m   9394\u001B[0m     \u001B[38;5;28;01mreturn\u001B[39;00m _result\n\u001B[0;32m-> 9395\u001B[0m   \u001B[38;5;28;01mreturn\u001B[39;00m \u001B[43mscatter_nd_eager_fallback\u001B[49m\u001B[43m(\u001B[49m\n\u001B[1;32m   9396\u001B[0m \u001B[43m      \u001B[49m\u001B[43mindices\u001B[49m\u001B[43m,\u001B[49m\u001B[43m \u001B[49m\u001B[43mupdates\u001B[49m\u001B[43m,\u001B[49m\u001B[43m \u001B[49m\u001B[43mshape\u001B[49m\u001B[43m,\u001B[49m\u001B[43m \u001B[49m\u001B[43mname\u001B[49m\u001B[38;5;241;43m=\u001B[39;49m\u001B[43mname\u001B[49m\u001B[43m,\u001B[49m\u001B[43m \u001B[49m\u001B[43mctx\u001B[49m\u001B[38;5;241;43m=\u001B[39;49m\u001B[43m_ctx\u001B[49m\u001B[43m)\u001B[49m\n\u001B[1;32m   9397\u001B[0m \u001B[38;5;28;01mexcept\u001B[39;00m _core\u001B[38;5;241m.\u001B[39m_SymbolicException:\n\u001B[1;32m   9398\u001B[0m   \u001B[38;5;28;01mpass\u001B[39;00m  \u001B[38;5;66;03m# Add nodes to the TensorFlow graph.\u001B[39;00m\n",
      "File \u001B[0;32m~/PycharmProjects/VRP-RL/venv/lib/python3.10/site-packages/tensorflow/python/ops/gen_array_ops.py:9444\u001B[0m, in \u001B[0;36mscatter_nd_eager_fallback\u001B[0;34m(indices, updates, shape, name, ctx)\u001B[0m\n\u001B[1;32m   9442\u001B[0m _inputs_flat \u001B[38;5;241m=\u001B[39m [indices, updates, shape]\n\u001B[1;32m   9443\u001B[0m _attrs \u001B[38;5;241m=\u001B[39m (\u001B[38;5;124m\"\u001B[39m\u001B[38;5;124mT\u001B[39m\u001B[38;5;124m\"\u001B[39m, _attr_T, \u001B[38;5;124m\"\u001B[39m\u001B[38;5;124mTindices\u001B[39m\u001B[38;5;124m\"\u001B[39m, _attr_Tindices)\n\u001B[0;32m-> 9444\u001B[0m _result \u001B[38;5;241m=\u001B[39m \u001B[43m_execute\u001B[49m\u001B[38;5;241;43m.\u001B[39;49m\u001B[43mexecute\u001B[49m\u001B[43m(\u001B[49m\u001B[38;5;124;43mb\u001B[39;49m\u001B[38;5;124;43m\"\u001B[39;49m\u001B[38;5;124;43mScatterNd\u001B[39;49m\u001B[38;5;124;43m\"\u001B[39;49m\u001B[43m,\u001B[49m\u001B[43m \u001B[49m\u001B[38;5;241;43m1\u001B[39;49m\u001B[43m,\u001B[49m\u001B[43m \u001B[49m\u001B[43minputs\u001B[49m\u001B[38;5;241;43m=\u001B[39;49m\u001B[43m_inputs_flat\u001B[49m\u001B[43m,\u001B[49m\n\u001B[1;32m   9445\u001B[0m \u001B[43m                           \u001B[49m\u001B[43mattrs\u001B[49m\u001B[38;5;241;43m=\u001B[39;49m\u001B[43m_attrs\u001B[49m\u001B[43m,\u001B[49m\u001B[43m \u001B[49m\u001B[43mctx\u001B[49m\u001B[38;5;241;43m=\u001B[39;49m\u001B[43mctx\u001B[49m\u001B[43m,\u001B[49m\u001B[43m \u001B[49m\u001B[43mname\u001B[49m\u001B[38;5;241;43m=\u001B[39;49m\u001B[43mname\u001B[49m\u001B[43m)\u001B[49m\n\u001B[1;32m   9446\u001B[0m \u001B[38;5;28;01mif\u001B[39;00m _execute\u001B[38;5;241m.\u001B[39mmust_record_gradient():\n\u001B[1;32m   9447\u001B[0m   _execute\u001B[38;5;241m.\u001B[39mrecord_gradient(\n\u001B[1;32m   9448\u001B[0m       \u001B[38;5;124m\"\u001B[39m\u001B[38;5;124mScatterNd\u001B[39m\u001B[38;5;124m\"\u001B[39m, _inputs_flat, _attrs, _result)\n",
      "File \u001B[0;32m~/PycharmProjects/VRP-RL/venv/lib/python3.10/site-packages/tensorflow/python/eager/execute.py:53\u001B[0m, in \u001B[0;36mquick_execute\u001B[0;34m(op_name, num_outputs, inputs, attrs, ctx, name)\u001B[0m\n\u001B[1;32m     51\u001B[0m \u001B[38;5;28;01mtry\u001B[39;00m:\n\u001B[1;32m     52\u001B[0m   ctx\u001B[38;5;241m.\u001B[39mensure_initialized()\n\u001B[0;32m---> 53\u001B[0m   tensors \u001B[38;5;241m=\u001B[39m \u001B[43mpywrap_tfe\u001B[49m\u001B[38;5;241;43m.\u001B[39;49m\u001B[43mTFE_Py_Execute\u001B[49m\u001B[43m(\u001B[49m\u001B[43mctx\u001B[49m\u001B[38;5;241;43m.\u001B[39;49m\u001B[43m_handle\u001B[49m\u001B[43m,\u001B[49m\u001B[43m \u001B[49m\u001B[43mdevice_name\u001B[49m\u001B[43m,\u001B[49m\u001B[43m \u001B[49m\u001B[43mop_name\u001B[49m\u001B[43m,\u001B[49m\n\u001B[1;32m     54\u001B[0m \u001B[43m                                      \u001B[49m\u001B[43minputs\u001B[49m\u001B[43m,\u001B[49m\u001B[43m \u001B[49m\u001B[43mattrs\u001B[49m\u001B[43m,\u001B[49m\u001B[43m \u001B[49m\u001B[43mnum_outputs\u001B[49m\u001B[43m)\u001B[49m\n\u001B[1;32m     55\u001B[0m \u001B[38;5;28;01mexcept\u001B[39;00m core\u001B[38;5;241m.\u001B[39m_NotOkStatusException \u001B[38;5;28;01mas\u001B[39;00m e:\n\u001B[1;32m     56\u001B[0m   \u001B[38;5;28;01mif\u001B[39;00m name \u001B[38;5;129;01mis\u001B[39;00m \u001B[38;5;129;01mnot\u001B[39;00m \u001B[38;5;28;01mNone\u001B[39;00m:\n",
      "\u001B[0;31mInvalidArgumentError\u001B[0m: {{function_node __wrapped__ScatterNd_device_/job:localhost/replica:0/task:0/device:CPU:0}} Dimensions [1,2) of input[shape=[5,10]] must match dimensions [1,1) of updates[shape=[5]] [Op:ScatterNd]"
     ]
    }
   ],
   "source": [
    "indices = tf.constant(tf.cast(tf.expand_dims(idx2, -1), dtype=tf.int32))\n",
    "updates = tf.ones(shape=5, dtype=tf.float32)\n",
    "scatter = tf.scatter_nd(indices, updates, [5, 10])\n",
    "scatter"
   ],
   "metadata": {
    "collapsed": false,
    "ExecuteTime": {
     "end_time": "2023-11-25T10:41:50.546469087Z",
     "start_time": "2023-11-25T10:41:50.489067336Z"
    }
   },
   "id": "322c6575cfad9cc3"
  },
  {
   "cell_type": "code",
   "execution_count": 207,
   "outputs": [
    {
     "data": {
      "text/plain": "<tf.Tensor: shape=(5, 1), dtype=int32, numpy=\narray([[8],\n       [8],\n       [8],\n       [0],\n       [0]], dtype=int32)>"
     },
     "execution_count": 207,
     "metadata": {},
     "output_type": "execute_result"
    }
   ],
   "source": [
    "indices"
   ],
   "metadata": {
    "collapsed": false,
    "ExecuteTime": {
     "end_time": "2023-11-25T10:41:53.537196441Z",
     "start_time": "2023-11-25T10:41:53.520635574Z"
    }
   },
   "id": "cb25eb5927dbc9df"
  },
  {
   "cell_type": "code",
   "execution_count": 210,
   "outputs": [
    {
     "data": {
      "text/plain": "<tf.Tensor: shape=(4, 1), dtype=int32, numpy=\narray([[4],\n       [3],\n       [1],\n       [7]], dtype=int32)>"
     },
     "execution_count": 210,
     "metadata": {},
     "output_type": "execute_result"
    }
   ],
   "source": [
    "indices2"
   ],
   "metadata": {
    "collapsed": false,
    "ExecuteTime": {
     "end_time": "2023-11-25T10:42:13.271554795Z",
     "start_time": "2023-11-25T10:42:13.255181214Z"
    }
   },
   "id": "1ff1d958e2daf4d1"
  },
  {
   "cell_type": "code",
   "execution_count": 209,
   "outputs": [],
   "source": [
    "indices2 = tf.constant([[4], [3], [1], [7]])\n",
    "updates2 = tf.constant([9, 10, 11, 12.0])\n",
    "shape2 = tf.constant([8])\n",
    "scatter2 = tf.scatter_nd(indices2, updates2, shape2)"
   ],
   "metadata": {
    "collapsed": false,
    "ExecuteTime": {
     "end_time": "2023-11-25T10:42:10.318079370Z",
     "start_time": "2023-11-25T10:42:10.301212516Z"
    }
   },
   "id": "2fe78283146be854"
  },
  {
   "cell_type": "code",
   "execution_count": 203,
   "outputs": [
    {
     "data": {
      "text/plain": "<tf.Tensor: shape=(4, 1), dtype=int32, numpy=\narray([[4],\n       [3],\n       [1],\n       [7]], dtype=int32)>"
     },
     "execution_count": 203,
     "metadata": {},
     "output_type": "execute_result"
    }
   ],
   "source": [
    "indices"
   ],
   "metadata": {
    "collapsed": false,
    "ExecuteTime": {
     "end_time": "2023-11-25T10:41:19.567696279Z",
     "start_time": "2023-11-25T10:41:19.526729717Z"
    }
   },
   "id": "c0216ea1b881a58d"
  },
  {
   "cell_type": "code",
   "execution_count": 194,
   "outputs": [
    {
     "data": {
      "text/plain": "<tf.Tensor: shape=(5, 1), dtype=float32, numpy=\narray([[8.],\n       [8.],\n       [8.],\n       [0.],\n       [0.]], dtype=float32)>"
     },
     "execution_count": 194,
     "metadata": {},
     "output_type": "execute_result"
    }
   ],
   "source": [
    "indices"
   ],
   "metadata": {
    "collapsed": false,
    "ExecuteTime": {
     "end_time": "2023-11-25T10:39:31.188687831Z",
     "start_time": "2023-11-25T10:39:31.179772918Z"
    }
   },
   "id": "f1f286db44d5973"
  },
  {
   "cell_type": "code",
   "execution_count": null,
   "outputs": [],
   "source": [
    "tf.scatter_nd()"
   ],
   "metadata": {
    "collapsed": false
   },
   "id": "fb064fb594f823b8"
  },
  {
   "cell_type": "code",
   "execution_count": 188,
   "outputs": [
    {
     "data": {
      "text/plain": "<tf.Tensor: shape=(5,), dtype=float32, numpy=array([8., 8., 8., 0., 0.], dtype=float32)>"
     },
     "execution_count": 188,
     "metadata": {},
     "output_type": "execute_result"
    }
   ],
   "source": [],
   "metadata": {
    "collapsed": false,
    "ExecuteTime": {
     "end_time": "2023-11-25T10:37:07.454660922Z",
     "start_time": "2023-11-25T10:37:07.410094558Z"
    }
   },
   "id": "eefc0b66c848bfd8"
  },
  {
   "cell_type": "code",
   "execution_count": 187,
   "outputs": [
    {
     "data": {
      "text/plain": "[<tf.Tensor: shape=(10, 64), dtype=float32, numpy=\n array([[0., 0., 0., 0., 0., 0., 0., 0., 0., 0., 0., 0., 0., 0., 0., 0.,\n         0., 0., 0., 0., 0., 0., 0., 0., 0., 0., 0., 0., 0., 0., 0., 0.,\n         0., 0., 0., 0., 0., 0., 0., 0., 0., 0., 0., 0., 0., 0., 0., 0.,\n         0., 0., 0., 0., 0., 0., 0., 0., 0., 0., 0., 0., 0., 0., 0., 0.],\n        [0., 0., 0., 0., 0., 0., 0., 0., 0., 0., 0., 0., 0., 0., 0., 0.,\n         0., 0., 0., 0., 0., 0., 0., 0., 0., 0., 0., 0., 0., 0., 0., 0.,\n         0., 0., 0., 0., 0., 0., 0., 0., 0., 0., 0., 0., 0., 0., 0., 0.,\n         0., 0., 0., 0., 0., 0., 0., 0., 0., 0., 0., 0., 0., 0., 0., 0.],\n        [0., 0., 0., 0., 0., 0., 0., 0., 0., 0., 0., 0., 0., 0., 0., 0.,\n         0., 0., 0., 0., 0., 0., 0., 0., 0., 0., 0., 0., 0., 0., 0., 0.,\n         0., 0., 0., 0., 0., 0., 0., 0., 0., 0., 0., 0., 0., 0., 0., 0.,\n         0., 0., 0., 0., 0., 0., 0., 0., 0., 0., 0., 0., 0., 0., 0., 0.],\n        [0., 0., 0., 0., 0., 0., 0., 0., 0., 0., 0., 0., 0., 0., 0., 0.,\n         0., 0., 0., 0., 0., 0., 0., 0., 0., 0., 0., 0., 0., 0., 0., 0.,\n         0., 0., 0., 0., 0., 0., 0., 0., 0., 0., 0., 0., 0., 0., 0., 0.,\n         0., 0., 0., 0., 0., 0., 0., 0., 0., 0., 0., 0., 0., 0., 0., 0.],\n        [0., 0., 0., 0., 0., 0., 0., 0., 0., 0., 0., 0., 0., 0., 0., 0.,\n         0., 0., 0., 0., 0., 0., 0., 0., 0., 0., 0., 0., 0., 0., 0., 0.,\n         0., 0., 0., 0., 0., 0., 0., 0., 0., 0., 0., 0., 0., 0., 0., 0.,\n         0., 0., 0., 0., 0., 0., 0., 0., 0., 0., 0., 0., 0., 0., 0., 0.],\n        [0., 0., 0., 0., 0., 0., 0., 0., 0., 0., 0., 0., 0., 0., 0., 0.,\n         0., 0., 0., 0., 0., 0., 0., 0., 0., 0., 0., 0., 0., 0., 0., 0.,\n         0., 0., 0., 0., 0., 0., 0., 0., 0., 0., 0., 0., 0., 0., 0., 0.,\n         0., 0., 0., 0., 0., 0., 0., 0., 0., 0., 0., 0., 0., 0., 0., 0.],\n        [0., 0., 0., 0., 0., 0., 0., 0., 0., 0., 0., 0., 0., 0., 0., 0.,\n         0., 0., 0., 0., 0., 0., 0., 0., 0., 0., 0., 0., 0., 0., 0., 0.,\n         0., 0., 0., 0., 0., 0., 0., 0., 0., 0., 0., 0., 0., 0., 0., 0.,\n         0., 0., 0., 0., 0., 0., 0., 0., 0., 0., 0., 0., 0., 0., 0., 0.],\n        [0., 0., 0., 0., 0., 0., 0., 0., 0., 0., 0., 0., 0., 0., 0., 0.,\n         0., 0., 0., 0., 0., 0., 0., 0., 0., 0., 0., 0., 0., 0., 0., 0.,\n         0., 0., 0., 0., 0., 0., 0., 0., 0., 0., 0., 0., 0., 0., 0., 0.,\n         0., 0., 0., 0., 0., 0., 0., 0., 0., 0., 0., 0., 0., 0., 0., 0.],\n        [0., 0., 0., 0., 0., 0., 0., 0., 0., 0., 0., 0., 0., 0., 0., 0.,\n         0., 0., 0., 0., 0., 0., 0., 0., 0., 0., 0., 0., 0., 0., 0., 0.,\n         0., 0., 0., 0., 0., 0., 0., 0., 0., 0., 0., 0., 0., 0., 0., 0.,\n         0., 0., 0., 0., 0., 0., 0., 0., 0., 0., 0., 0., 0., 0., 0., 0.],\n        [0., 0., 0., 0., 0., 0., 0., 0., 0., 0., 0., 0., 0., 0., 0., 0.,\n         0., 0., 0., 0., 0., 0., 0., 0., 0., 0., 0., 0., 0., 0., 0., 0.,\n         0., 0., 0., 0., 0., 0., 0., 0., 0., 0., 0., 0., 0., 0., 0., 0.,\n         0., 0., 0., 0., 0., 0., 0., 0., 0., 0., 0., 0., 0., 0., 0., 0.]],\n       dtype=float32)>,\n <tf.Tensor: shape=(64,), dtype=float32, numpy=\n array([0., 0., 0., 0., 0., 0., 0., 0., 0., 0., 0., 0., 0., 0., 0., 0., 0.,\n        0., 0., 0., 0., 0., 0., 0., 0., 0., 0., 0., 0., 0., 0., 0., 0., 0.,\n        0., 0., 0., 0., 0., 0., 0., 0., 0., 0., 0., 0., 0., 0., 0., 0., 0.,\n        0., 0., 0., 0., 0., 0., 0., 0., 0., 0., 0., 0., 0.], dtype=float32)>,\n <tf.Tensor: shape=(64, 64), dtype=float32, numpy=\n array([[0., 0., 0., ..., 0., 0., 0.],\n        [0., 0., 0., ..., 0., 0., 0.],\n        [0., 0., 0., ..., 0., 0., 0.],\n        ...,\n        [0., 0., 0., ..., 0., 0., 0.],\n        [0., 0., 0., ..., 0., 0., 0.],\n        [0., 0., 0., ..., 0., 0., 0.]], dtype=float32)>,\n <tf.Tensor: shape=(64,), dtype=float32, numpy=\n array([0., 0., 0., 0., 0., 0., 0., 0., 0., 0., 0., 0., 0., 0., 0., 0., 0.,\n        0., 0., 0., 0., 0., 0., 0., 0., 0., 0., 0., 0., 0., 0., 0., 0., 0.,\n        0., 0., 0., 0., 0., 0., 0., 0., 0., 0., 0., 0., 0., 0., 0., 0., 0.,\n        0., 0., 0., 0., 0., 0., 0., 0., 0., 0., 0., 0., 0.], dtype=float32)>,\n <tf.Tensor: shape=(64, 64), dtype=float32, numpy=\n array([[0., 0., 0., ..., 0., 0., 0.],\n        [0., 0., 0., ..., 0., 0., 0.],\n        [0., 0., 0., ..., 0., 0., 0.],\n        ...,\n        [0., 0., 0., ..., 0., 0., 0.],\n        [0., 0., 0., ..., 0., 0., 0.],\n        [0., 0., 0., ..., 0., 0., 0.]], dtype=float32)>,\n <tf.Tensor: shape=(64,), dtype=float32, numpy=\n array([0., 0., 0., 0., 0., 0., 0., 0., 0., 0., 0., 0., 0., 0., 0., 0., 0.,\n        0., 0., 0., 0., 0., 0., 0., 0., 0., 0., 0., 0., 0., 0., 0., 0., 0.,\n        0., 0., 0., 0., 0., 0., 0., 0., 0., 0., 0., 0., 0., 0., 0., 0., 0.,\n        0., 0., 0., 0., 0., 0., 0., 0., 0., 0., 0., 0., 0.], dtype=float32)>,\n <tf.Tensor: shape=(64, 10), dtype=float32, numpy=\n array([[0., 0., 0., 0., 0., 0., 0., 0., 0., 0.],\n        [0., 0., 0., 0., 0., 0., 0., 0., 0., 0.],\n        [0., 0., 0., 0., 0., 0., 0., 0., 0., 0.],\n        [0., 0., 0., 0., 0., 0., 0., 0., 0., 0.],\n        [0., 0., 0., 0., 0., 0., 0., 0., 0., 0.],\n        [0., 0., 0., 0., 0., 0., 0., 0., 0., 0.],\n        [0., 0., 0., 0., 0., 0., 0., 0., 0., 0.],\n        [0., 0., 0., 0., 0., 0., 0., 0., 0., 0.],\n        [0., 0., 0., 0., 0., 0., 0., 0., 0., 0.],\n        [0., 0., 0., 0., 0., 0., 0., 0., 0., 0.],\n        [0., 0., 0., 0., 0., 0., 0., 0., 0., 0.],\n        [0., 0., 0., 0., 0., 0., 0., 0., 0., 0.],\n        [0., 0., 0., 0., 0., 0., 0., 0., 0., 0.],\n        [0., 0., 0., 0., 0., 0., 0., 0., 0., 0.],\n        [0., 0., 0., 0., 0., 0., 0., 0., 0., 0.],\n        [0., 0., 0., 0., 0., 0., 0., 0., 0., 0.],\n        [0., 0., 0., 0., 0., 0., 0., 0., 0., 0.],\n        [0., 0., 0., 0., 0., 0., 0., 0., 0., 0.],\n        [0., 0., 0., 0., 0., 0., 0., 0., 0., 0.],\n        [0., 0., 0., 0., 0., 0., 0., 0., 0., 0.],\n        [0., 0., 0., 0., 0., 0., 0., 0., 0., 0.],\n        [0., 0., 0., 0., 0., 0., 0., 0., 0., 0.],\n        [0., 0., 0., 0., 0., 0., 0., 0., 0., 0.],\n        [0., 0., 0., 0., 0., 0., 0., 0., 0., 0.],\n        [0., 0., 0., 0., 0., 0., 0., 0., 0., 0.],\n        [0., 0., 0., 0., 0., 0., 0., 0., 0., 0.],\n        [0., 0., 0., 0., 0., 0., 0., 0., 0., 0.],\n        [0., 0., 0., 0., 0., 0., 0., 0., 0., 0.],\n        [0., 0., 0., 0., 0., 0., 0., 0., 0., 0.],\n        [0., 0., 0., 0., 0., 0., 0., 0., 0., 0.],\n        [0., 0., 0., 0., 0., 0., 0., 0., 0., 0.],\n        [0., 0., 0., 0., 0., 0., 0., 0., 0., 0.],\n        [0., 0., 0., 0., 0., 0., 0., 0., 0., 0.],\n        [0., 0., 0., 0., 0., 0., 0., 0., 0., 0.],\n        [0., 0., 0., 0., 0., 0., 0., 0., 0., 0.],\n        [0., 0., 0., 0., 0., 0., 0., 0., 0., 0.],\n        [0., 0., 0., 0., 0., 0., 0., 0., 0., 0.],\n        [0., 0., 0., 0., 0., 0., 0., 0., 0., 0.],\n        [0., 0., 0., 0., 0., 0., 0., 0., 0., 0.],\n        [0., 0., 0., 0., 0., 0., 0., 0., 0., 0.],\n        [0., 0., 0., 0., 0., 0., 0., 0., 0., 0.],\n        [0., 0., 0., 0., 0., 0., 0., 0., 0., 0.],\n        [0., 0., 0., 0., 0., 0., 0., 0., 0., 0.],\n        [0., 0., 0., 0., 0., 0., 0., 0., 0., 0.],\n        [0., 0., 0., 0., 0., 0., 0., 0., 0., 0.],\n        [0., 0., 0., 0., 0., 0., 0., 0., 0., 0.],\n        [0., 0., 0., 0., 0., 0., 0., 0., 0., 0.],\n        [0., 0., 0., 0., 0., 0., 0., 0., 0., 0.],\n        [0., 0., 0., 0., 0., 0., 0., 0., 0., 0.],\n        [0., 0., 0., 0., 0., 0., 0., 0., 0., 0.],\n        [0., 0., 0., 0., 0., 0., 0., 0., 0., 0.],\n        [0., 0., 0., 0., 0., 0., 0., 0., 0., 0.],\n        [0., 0., 0., 0., 0., 0., 0., 0., 0., 0.],\n        [0., 0., 0., 0., 0., 0., 0., 0., 0., 0.],\n        [0., 0., 0., 0., 0., 0., 0., 0., 0., 0.],\n        [0., 0., 0., 0., 0., 0., 0., 0., 0., 0.],\n        [0., 0., 0., 0., 0., 0., 0., 0., 0., 0.],\n        [0., 0., 0., 0., 0., 0., 0., 0., 0., 0.],\n        [0., 0., 0., 0., 0., 0., 0., 0., 0., 0.],\n        [0., 0., 0., 0., 0., 0., 0., 0., 0., 0.],\n        [0., 0., 0., 0., 0., 0., 0., 0., 0., 0.],\n        [0., 0., 0., 0., 0., 0., 0., 0., 0., 0.],\n        [0., 0., 0., 0., 0., 0., 0., 0., 0., 0.],\n        [0., 0., 0., 0., 0., 0., 0., 0., 0., 0.]], dtype=float32)>,\n <tf.Tensor: shape=(10,), dtype=float32, numpy=array([0., 0., 0., 0., 0., 0., 0., 0., 0., 0.], dtype=float32)>]"
     },
     "execution_count": 187,
     "metadata": {},
     "output_type": "execute_result"
    }
   ],
   "source": [
    "grads"
   ],
   "metadata": {
    "collapsed": false,
    "ExecuteTime": {
     "end_time": "2023-11-25T10:27:04.110744187Z",
     "start_time": "2023-11-25T10:27:04.102916184Z"
    }
   },
   "id": "d0b669f673ead95e"
  },
  {
   "cell_type": "code",
   "execution_count": 28,
   "outputs": [],
   "source": [
    "idx = np.array([0, 2, 1])\n",
    "\n",
    "BatchSequence = tf.expand_dims(tf.cast(tf.range(3), tf.int64), 1)\n",
    "\n",
    "batched_idx = tf.concat([BatchSequence, idx.reshape(-1, 1)], 1)"
   ],
   "metadata": {
    "collapsed": false,
    "ExecuteTime": {
     "end_time": "2023-11-25T09:17:31.953610392Z",
     "start_time": "2023-11-25T09:17:31.934004659Z"
    }
   },
   "id": "31454a32a04c58fe"
  },
  {
   "cell_type": "code",
   "execution_count": 393,
   "outputs": [
    {
     "ename": "ValueError",
     "evalue": "No gradients provided for any variable: (['actor_2/dense_8/kernel:0', 'actor_2/dense_8/bias:0', 'actor_2/dense_9/kernel:0', 'actor_2/dense_9/bias:0', 'actor_2/dense_10/kernel:0', 'actor_2/dense_10/bias:0', 'actor_2/dense_11/kernel:0', 'actor_2/dense_11/bias:0'],). Provided `grads_and_vars` is ((None, <tf.Variable 'actor_2/dense_8/kernel:0' shape=(10, 64) dtype=float32, numpy=\narray([[ 1.60265326e-01,  1.01168007e-01,  1.31321818e-01,\n        -2.10709125e-01, -1.95295185e-01,  2.17770904e-01,\n         1.09577447e-01, -1.44582689e-02,  1.45250022e-01,\n         1.07636690e-01, -2.26784050e-01,  3.26275527e-02,\n        -1.03380114e-01,  2.50906378e-01,  1.77229851e-01,\n        -1.77407578e-01,  2.44342357e-01,  4.06339765e-02,\n         2.44153172e-01,  7.10038841e-02, -1.00888520e-01,\n        -1.17701113e-01,  1.97643548e-01, -6.61384165e-02,\n         2.53881544e-01, -8.26842040e-02, -2.78604597e-01,\n         2.32795447e-01,  2.70272881e-01,  1.43675476e-01,\n         8.66126120e-02, -1.92492396e-01, -5.01967669e-02,\n        -1.61322057e-02,  2.56520122e-01, -2.05570206e-01,\n         2.44290799e-01, -1.33638978e-02, -2.24474251e-01,\n         2.69186348e-01,  1.16746783e-01, -1.30019113e-01,\n        -1.43425435e-01, -2.15824574e-01, -1.13427162e-01,\n         2.49679714e-01,  1.14022344e-01,  3.20099592e-02,\n        -6.74044788e-02, -1.29507899e-01, -2.42600635e-01,\n        -8.61866027e-02,  1.90331906e-01,  2.34035879e-01,\n         2.47771174e-01,  1.59939528e-01,  6.55995011e-02,\n        -1.54343486e-01,  1.19733989e-01,  1.72951669e-01,\n         1.08953118e-01, -1.30232558e-01,  1.66476965e-02,\n        -2.20680535e-01],\n       [ 8.49920958e-02, -1.91217706e-01, -2.35775620e-01,\n        -1.61009222e-01,  2.38262340e-01, -2.20469907e-01,\n         2.18211055e-01, -2.42543966e-01,  1.91117153e-01,\n         1.53984040e-01, -4.02788818e-02,  2.08525106e-01,\n        -1.52181566e-01,  2.79474527e-01, -2.42726445e-01,\n        -1.34081170e-01, -2.48297036e-01, -6.47654086e-02,\n         1.61099806e-01, -2.21516654e-01, -4.36524823e-02,\n        -1.92788810e-01,  2.57210255e-01,  2.62099504e-01,\n        -1.92995399e-01,  1.81932554e-01, -2.42647663e-01,\n         8.57954994e-02,  1.92595914e-01,  1.75257400e-01,\n        -1.02676056e-01,  2.29904894e-02, -4.13544960e-02,\n         2.17285350e-01,  6.92631900e-02, -1.50512502e-01,\n         3.55021621e-04,  2.77229697e-01, -1.54746488e-01,\n        -2.38980919e-01,  1.65022030e-01,  1.18582800e-01,\n         1.09710276e-01, -2.87719686e-02, -1.12017713e-01,\n         2.46121198e-01, -5.38999401e-02, -8.40720311e-02,\n        -1.25989810e-01,  1.31482691e-01,  2.30480224e-01,\n         1.13193318e-01, -2.71359295e-01, -6.74321651e-02,\n         2.05156788e-01, -8.83977935e-02, -1.33425653e-01,\n        -2.44541720e-01, -5.79376593e-02,  2.84558255e-03,\n        -2.34142110e-01,  2.08732769e-01, -4.63153049e-02,\n         1.29430927e-02],\n       [ 2.71438360e-01,  2.79889882e-01,  2.46416733e-01,\n         1.09753855e-01, -8.27100724e-02, -7.69835711e-02,\n         1.99792206e-01, -2.50366420e-01,  1.23278260e-01,\n        -2.14152783e-01,  2.18762040e-01, -6.96705952e-02,\n         2.37489253e-01,  1.71391711e-01,  1.60086155e-01,\n         2.98235975e-02, -2.97013372e-02, -1.77222297e-01,\n        -5.09635620e-02,  3.38968113e-02, -8.84592757e-02,\n         2.10051760e-01, -1.52437568e-01,  1.22093126e-01,\n        -2.84606852e-02,  9.09351259e-02,  1.17869318e-01,\n         1.16351672e-01,  1.25347063e-01, -2.65469551e-01,\n         1.29177086e-02, -1.80733521e-02,  2.14025602e-02,\n        -2.37854317e-01,  1.22119505e-02, -1.44094199e-01,\n        -1.19550034e-01,  2.07063764e-01,  2.41077691e-01,\n        -2.08249241e-01,  2.48407587e-01,  2.61832267e-01,\n        -8.59547257e-02,  4.95139696e-02, -2.25111261e-01,\n         2.38860734e-02, -1.37538731e-01,  3.33169326e-02,\n         5.52856503e-03,  2.76506364e-01, -5.12785055e-02,\n        -2.13861689e-01, -2.49805123e-01, -1.91422120e-01,\n         5.31612337e-02,  2.20563918e-01, -9.04672742e-02,\n        -1.43474251e-01,  2.34706864e-01,  2.15633005e-01,\n         8.44042152e-02,  2.75859624e-01, -2.73750901e-01,\n        -1.52912065e-01],\n       [ 2.66867638e-01,  2.08645221e-02,  2.24076554e-01,\n        -5.19903637e-02,  1.59967110e-01,  2.87394635e-02,\n         2.55044311e-01,  1.57280847e-01, -2.97640022e-02,\n        -2.27016099e-02, -1.62552178e-01, -7.80870840e-02,\n        -5.87402210e-02,  3.45590618e-03,  2.67768115e-01,\n         1.67641610e-01, -1.68217182e-01,  4.85337675e-02,\n        -1.54121011e-01, -4.45422754e-02,  5.23884222e-02,\n         2.71962285e-01,  1.74141973e-01, -2.43138179e-01,\n        -1.69120446e-01, -2.86396980e-01,  1.96727052e-01,\n         1.95113033e-01,  3.41256745e-02,  2.04572931e-01,\n         2.15926975e-01,  2.56885272e-02,  1.22913830e-01,\n         9.78939906e-02,  1.27452493e-01, -1.91477109e-02,\n        -2.30035018e-02,  1.23182938e-01, -7.98113644e-02,\n         2.36951232e-01, -2.32968330e-01,  2.21602872e-01,\n        -2.41208136e-01, -1.73060074e-01,  2.59182036e-01,\n        -1.69994578e-01, -9.90689024e-02, -1.61737531e-01,\n         2.03312904e-01,  1.22519158e-01,  1.97549284e-01,\n         1.76159516e-02,  5.17687127e-02, -2.41467088e-01,\n         2.82239635e-02, -1.92722538e-04,  2.81103224e-01,\n         1.59362890e-03, -1.69085100e-01,  2.32401162e-01,\n         2.41957456e-01, -1.58143431e-01,  9.47528258e-02,\n         1.43978223e-01],\n       [-2.86209136e-02,  1.20084085e-01, -2.23567873e-01,\n         2.75276244e-01,  2.07039639e-02,  1.47773907e-01,\n         1.84268981e-01, -8.72423407e-03,  1.31458625e-01,\n        -6.35254681e-02, -1.51127949e-01, -1.53128996e-01,\n        -2.73619354e-01, -4.06119786e-02,  1.06096059e-01,\n         1.84550464e-01, -1.09491840e-01,  1.53626785e-01,\n         2.23618165e-01,  1.46229461e-01,  2.55701840e-01,\n        -1.88954547e-01, -2.19037831e-01,  1.45451114e-01,\n         4.21770988e-03,  1.78183243e-01,  1.39206544e-01,\n        -1.75827388e-02, -5.76322488e-02, -7.58275241e-02,\n        -1.46584660e-01,  1.95233285e-01, -9.03689191e-02,\n        -1.40244499e-01, -2.23076299e-01, -3.18730362e-02,\n        -3.52500044e-02,  1.72118068e-01,  2.39268150e-02,\n        -4.59873825e-02, -1.53676439e-02, -6.90000057e-02,\n        -2.42189746e-02,  4.69901301e-02, -4.26594578e-02,\n         1.77797198e-01,  1.67332813e-01, -1.55868515e-01,\n         1.18976198e-01,  2.76787281e-01, -1.08411029e-01,\n        -2.17029244e-01, -1.75234288e-01, -1.65824452e-03,\n         1.92876477e-02,  1.91417605e-01,  1.21145800e-01,\n         1.20335259e-01,  3.13596204e-02, -3.59915830e-02,\n         2.86206096e-01, -4.42104368e-03,  9.11245309e-03,\n        -2.22171888e-01],\n       [ 1.84082597e-01, -2.43237857e-02,  1.37228176e-01,\n        -2.33973324e-01,  2.60147512e-01, -8.13591480e-02,\n         2.05289871e-02, -1.54858172e-01, -2.11438283e-01,\n        -2.15942748e-02, -1.99016348e-01, -1.12275340e-01,\n        -2.35612631e-01,  1.94398776e-01, -1.06954217e-01,\n         9.14784968e-02, -2.59605814e-02, -1.78503431e-02,\n         1.28307298e-01, -1.09763108e-01, -7.09444359e-02,\n        -7.54722878e-02,  2.75988970e-02, -8.22319090e-02,\n         1.44644499e-01, -1.13479197e-01,  1.60739616e-01,\n         1.10495426e-01, -1.37795052e-02,  1.94960579e-01,\n         2.03489177e-02,  2.42863238e-01,  1.39529601e-01,\n         6.96570948e-02,  1.22800052e-01, -1.19837776e-01,\n         1.18707330e-03,  9.94020775e-02,  2.21044868e-01,\n        -3.60213369e-02,  1.00475885e-01,  1.52526330e-02,\n        -6.49765283e-02, -8.88626128e-02, -1.94103062e-01,\n         6.92759827e-03,  2.58739322e-01,  1.64790098e-02,\n        -1.27226815e-01,  2.82681167e-01,  2.80548185e-02,\n        -1.85868174e-01, -1.01086788e-01, -1.37881070e-01,\n         1.77509740e-01,  1.04404772e-02, -1.82820305e-01,\n        -4.89345267e-02,  9.45892408e-02,  5.62480949e-02,\n         2.62123853e-01, -1.08056108e-03,  2.75444061e-01,\n         8.87850299e-03],\n       [-2.32743040e-01, -1.86487332e-01, -7.60300532e-02,\n         1.24847688e-01,  1.95072755e-01,  1.23723827e-01,\n         2.18478501e-01,  5.60142472e-02, -1.71100833e-02,\n        -5.43061942e-02,  2.56327868e-01,  1.88256666e-01,\n        -2.57431325e-02, -7.56425411e-02, -2.24012822e-01,\n        -1.59680784e-01, -2.56312221e-01, -1.79099843e-01,\n        -6.57518506e-02,  1.51062235e-01,  2.76868701e-01,\n        -2.05894366e-01,  2.58063734e-01, -1.52637839e-01,\n        -8.06837454e-02,  1.13397852e-01, -1.42098414e-02,\n        -2.74523526e-01,  1.81942448e-01, -1.90729037e-01,\n         1.20045580e-01, -2.68203616e-01, -6.29420057e-02,\n         2.47645989e-01,  2.81739444e-01, -2.36120552e-01,\n        -4.98693138e-02,  1.28069401e-01, -2.39011690e-01,\n        -2.68515479e-02, -2.26624712e-01,  6.35261685e-02,\n        -8.19516480e-02, -2.49064863e-01, -1.14482768e-01,\n        -2.61045277e-01,  2.58917697e-02, -5.29266223e-02,\n         2.40613192e-01,  2.38316447e-01,  1.53854728e-01,\n         9.55574960e-02, -9.64405313e-02, -9.52718556e-02,\n        -6.52003586e-02,  3.85954492e-02, -2.64540762e-01,\n         2.78390706e-01,  1.88545004e-01, -1.56660035e-01,\n        -1.76930949e-02,  2.12204352e-01, -4.69595753e-02,\n        -7.12580383e-02],\n       [-1.17832527e-01, -2.49035601e-02,  2.83772051e-01,\n        -1.00082032e-01, -2.12546304e-01,  1.90118834e-01,\n         1.52378350e-01,  2.76875019e-01, -1.30899772e-01,\n        -1.65637642e-01, -1.83892343e-03,  1.18616946e-01,\n         1.91772223e-01,  2.02117369e-01, -2.57776111e-01,\n        -2.11565077e-01, -2.75640637e-01,  9.34815705e-02,\n         1.77457824e-01, -3.47559378e-02,  1.85540259e-01,\n         1.05418809e-01,  1.35515004e-01,  1.35946587e-01,\n         2.13916861e-02,  1.28825322e-01,  2.70320773e-01,\n         1.00819226e-02, -2.03487083e-01,  1.07947633e-01,\n        -2.07975656e-01, -5.21905497e-02, -2.55171478e-01,\n        -1.03972949e-01,  1.67466760e-01,  5.25035672e-02,\n        -2.15592101e-01, -5.58020547e-02,  1.58088773e-01,\n        -1.88764166e-02,  1.27942637e-01, -8.95917863e-02,\n         1.97363347e-01,  2.31732205e-01, -1.30067244e-01,\n        -9.70745385e-02, -1.79020926e-01,  1.29723802e-01,\n         1.84278429e-01,  2.13675741e-02,  1.12168983e-01,\n        -2.06761926e-01,  4.62572500e-02, -1.55666843e-01,\n         4.19782102e-02, -6.94530364e-03, -2.51059294e-01,\n        -1.26753166e-01, -2.48804335e-02,  2.48876184e-01,\n         1.47115976e-01, -1.08147815e-01, -2.08036929e-01,\n         1.33302346e-01],\n       [ 2.03933239e-01, -8.28971788e-02, -2.62301356e-01,\n         1.48266971e-01, -9.74946171e-02,  7.89680034e-02,\n        -2.73853630e-01, -7.33970627e-02, -1.97410025e-02,\n        -1.96538895e-01,  1.33314490e-01, -5.88378869e-02,\n        -1.53257683e-01, -1.09623730e-01,  9.31496918e-02,\n         1.60858959e-01,  4.29994911e-02,  1.07444199e-02,\n         3.31574269e-02, -2.99320146e-02, -7.03658834e-02,\n         1.33023057e-02, -2.00050678e-02, -2.10147545e-01,\n         8.39514062e-02,  1.89947203e-01,  2.52216876e-01,\n        -3.62279080e-02,  2.73252130e-01,  1.08155712e-01,\n        -2.84194887e-01,  3.64355706e-02, -1.73427194e-01,\n        -1.56437129e-01,  5.03281392e-02, -2.44407523e-02,\n        -2.53573090e-01, -1.88409418e-01,  1.93230391e-01,\n         5.32709211e-02, -1.85031727e-01, -2.39900008e-01,\n        -2.16979265e-01, -1.82336494e-01,  5.89379407e-02,\n        -5.96555695e-02,  5.30173928e-02, -2.39037588e-01,\n         6.00585602e-02,  1.30749822e-01, -1.94267064e-01,\n         9.93426591e-02, -4.78390418e-03,  6.98209852e-02,\n        -2.19179615e-01, -2.81315356e-01, -2.42479801e-01,\n        -9.87928174e-03, -5.12366071e-02, -3.04100197e-03,\n         2.14805663e-01,  2.05625698e-01,  2.20458299e-01,\n        -2.82355160e-01],\n       [-2.11271286e-01, -9.39876065e-02, -1.43593373e-02,\n        -3.54180224e-02,  1.90556183e-01, -1.48223028e-01,\n        -6.09604418e-02, -7.13390782e-02, -3.62545326e-02,\n         1.34468168e-01, -9.05668736e-03,  2.47410819e-01,\n        -2.12535232e-01, -1.03691593e-01,  2.38675982e-01,\n        -1.61408484e-01,  9.68604535e-02, -2.37288713e-01,\n         2.78641969e-01, -5.21746352e-02,  8.04876443e-03,\n        -1.59588113e-01, -9.50548649e-02, -1.98073342e-01,\n        -2.26524591e-01,  1.94106773e-01, -1.16086543e-01,\n        -2.26808012e-01, -1.66492094e-03, -2.15636238e-01,\n        -2.61490466e-03, -1.47527292e-01,  1.22417830e-01,\n        -2.38018677e-01, -3.44539098e-02,  4.61693816e-02,\n        -7.37611717e-03, -2.37938151e-01, -5.38823940e-03,\n        -2.57610112e-01,  5.27732745e-02,  4.88614514e-02,\n         6.50582016e-02, -1.91557676e-01,  1.57071874e-01,\n         2.33536750e-01, -4.12504654e-04,  1.71706006e-01,\n         1.78267539e-01, -2.42357418e-01,  2.84275562e-02,\n         8.65974873e-02, -7.25190118e-02, -1.97391406e-01,\n        -4.59601879e-02, -1.73969597e-01,  3.76707464e-02,\n         2.49720335e-01,  3.38401571e-02,  7.07706530e-03,\n         7.55254179e-02,  7.63717741e-02,  4.30402793e-02,\n        -1.19548813e-01]], dtype=float32)>), (None, <tf.Variable 'actor_2/dense_8/bias:0' shape=(64,) dtype=float32, numpy=\narray([-0.0029412 , -0.00300452,  0.00300409,  0.00300107,  0.00299157,\n       -0.00291923,  0.00299845, -0.00299935,  0.00299953,  0.00296671,\n        0.00294133, -0.00270115, -0.00300485,  0.0030049 ,  0.00300163,\n        0.00294916,  0.00299267,  0.00299745, -0.00295329, -0.0030015 ,\n        0.00300231,  0.00277326,  0.00300077, -0.00299851, -0.00300479,\n       -0.00298186,  0.00294505, -0.00300484,  0.00295397,  0.00300445,\n       -0.003002  ,  0.00300468,  0.00296517, -0.00300397,  0.00300306,\n        0.00295935,  0.00291322, -0.00296758, -0.00299556, -0.00300423,\n       -0.00300186, -0.00298502, -0.00300175,  0.00298804, -0.0030041 ,\n       -0.00289887, -0.00297994,  0.00271694, -0.00298989,  0.00299536,\n       -0.00298609,  0.00192486, -0.00300494, -0.00300239, -0.00294846,\n        0.00298918,  0.00282288, -0.002995  , -0.00296985, -0.00297874,\n        0.00297302, -0.00258146,  0.00030315, -0.003001  ], dtype=float32)>), (None, <tf.Variable 'actor_2/dense_9/kernel:0' shape=(64, 64) dtype=float32, numpy=\narray([[ 5.3612098e-02,  5.9419956e-02,  8.3398312e-02, ...,\n         2.0425862e-01,  1.7188542e-01,  4.4487149e-02],\n       [-7.3674969e-02, -1.3705911e-01, -1.2259411e-01, ...,\n        -2.0335712e-01, -1.2730594e-01, -1.0471429e-01],\n       [ 8.2851805e-02,  6.4921498e-02, -2.4779581e-02, ...,\n        -1.7773919e-04, -1.1505780e-01, -9.4501562e-03],\n       ...,\n       [ 7.3154777e-02,  6.6746838e-02,  4.2326901e-02, ...,\n        -8.3257005e-02, -1.7268960e-01, -1.4761600e-01],\n       [ 1.6910809e-01, -1.3819095e-01,  8.5467443e-02, ...,\n        -1.0950284e-01,  1.6428252e-01, -9.0252928e-02],\n       [ 6.1507139e-02,  2.3672697e-03,  8.4384270e-03, ...,\n         1.3887784e-01, -1.6801108e-01,  1.4831875e-02]], dtype=float32)>), (None, <tf.Variable 'actor_2/dense_9/bias:0' shape=(64,) dtype=float32, numpy=\narray([ 0.00300334, -0.00033623, -0.00299231, -0.00283281,  0.00300298,\n        0.00292542,  0.00291993,  0.00289211,  0.00299592,  0.00300439,\n       -0.00294491,  0.00300393, -0.00299412,  0.00299472, -0.0029911 ,\n       -0.00280463, -0.00297534, -0.00300368,  0.00298391, -0.00299793,\n        0.00300321, -0.00300306, -0.00300469,  0.00300309, -0.00285299,\n       -0.00300464, -0.00300447, -0.00273062, -0.00299487, -0.00299754,\n       -0.0029961 , -0.00300198, -0.00293925, -0.002991  , -0.003001  ,\n        0.00299282, -0.00300465, -0.00238783, -0.00296928,  0.00300142,\n       -0.0029937 , -0.00295096, -0.00300493,  0.00282279, -0.00027222,\n       -0.00299414, -0.00299123, -0.00298777, -0.00022523, -0.00300493,\n       -0.00300368,  0.00300195,  0.00297759, -0.0029605 ,  0.00300359,\n        0.0030029 , -0.00299019,  0.00300309,  0.00300443, -0.00297389,\n       -0.00300477, -0.00299507,  0.00297375, -0.00299719], dtype=float32)>), (None, <tf.Variable 'actor_2/dense_10/kernel:0' shape=(64, 64) dtype=float32, numpy=\narray([[-0.1446839 , -0.05752488, -0.05787596, ..., -0.09395881,\n         0.0633893 ,  0.08316419],\n       [ 0.19952135,  0.20174052, -0.19893634, ..., -0.20451705,\n        -0.01396681, -0.18059891],\n       [-0.15052065, -0.10148031,  0.11991752, ...,  0.16628125,\n        -0.04492241,  0.07885075],\n       ...,\n       [-0.14534976, -0.1482676 ,  0.0187854 , ..., -0.15124182,\n         0.10022474, -0.13141596],\n       [-0.00985919,  0.06893023,  0.15834504, ..., -0.03431138,\n         0.03673209,  0.12524435],\n       [-0.20708556, -0.16761796,  0.03365413, ..., -0.06861877,\n        -0.06459159,  0.14069773]], dtype=float32)>), (None, <tf.Variable 'actor_2/dense_10/bias:0' shape=(64,) dtype=float32, numpy=\narray([-0.00299767,  0.00300353,  0.00299801, -0.00300103, -0.00299746,\n        0.00300257,  0.00299101,  0.00299687, -0.00298712, -0.00299416,\n        0.00300195,  0.00300224, -0.00299833,  0.00299795, -0.0030036 ,\n        0.00299055, -0.00295739, -0.00298716, -0.00300415, -0.00300356,\n       -0.00299809, -0.00300168, -0.00300314,  0.00300134, -0.00299818,\n        0.00299564, -0.00299021, -0.00286587,  0.00299545, -0.00299905,\n       -0.00300182, -0.00300153,  0.00274044, -0.00299888, -0.00299889,\n        0.0029976 , -0.00300187,  0.002996  , -0.00299741, -0.00300112,\n       -0.00299921, -0.00300078,  0.00276138, -0.00299638, -0.00299796,\n       -0.003002  ,  0.00300262,  0.00299853,  0.00300108,  0.00300103,\n       -0.00300481,  0.00300209,  0.00299859,  0.00299927, -0.00300129,\n        0.00299792, -0.00300482,  0.00299902, -0.00299851, -0.00300491,\n        0.00299811,  0.00300454,  0.00300225, -0.00299767], dtype=float32)>), (None, <tf.Variable 'actor_2/dense_11/kernel:0' shape=(64, 10) dtype=float32, numpy=\narray([[ 7.97146112e-02, -1.84895787e-02, -6.72052205e-02,\n        -3.72535102e-02,  1.49207562e-01,  2.25630879e-01,\n         1.22156605e-01, -2.61268437e-01, -3.39783244e-02,\n         2.77750403e-01],\n       [ 2.36460254e-01, -2.71433771e-01,  2.08281144e-01,\n        -2.69650042e-01,  6.31339550e-02,  1.65101245e-01,\n        -1.15550622e-01, -7.43052214e-02,  8.99847448e-02,\n        -2.58451819e-01],\n       [-2.28501260e-01,  1.85634997e-02, -1.99281469e-01,\n        -3.19802538e-02,  1.93988517e-01,  2.70138443e-01,\n         2.00839117e-01, -2.35145897e-01, -2.54887342e-01,\n        -2.40030587e-01],\n       [ 1.26439542e-01,  1.50008366e-01,  1.32039234e-01,\n         1.80145487e-01,  6.20659906e-04,  1.30550833e-02,\n         2.71474630e-01,  2.56418377e-01, -2.59486258e-01,\n         3.36086424e-03],\n       [-3.59694399e-02, -2.25493312e-02,  2.75432795e-01,\n        -1.15552284e-01,  2.63386101e-01,  1.80926904e-01,\n        -1.71138480e-01,  1.83530584e-01, -4.40108869e-03,\n        -1.52780786e-01],\n       [-2.55660087e-01,  1.11744478e-02,  3.66845801e-02,\n        -2.49373674e-01, -6.26514629e-02, -1.29397199e-01,\n         2.01633707e-01,  2.54744649e-01, -7.43647618e-03,\n        -1.26700774e-01],\n       [-2.90235560e-02,  8.03797543e-02, -2.62866974e-01,\n         1.58785600e-02, -5.76193146e-02,  9.38478410e-02,\n        -2.63186395e-01,  2.66424030e-01,  1.68551102e-01,\n        -6.94948733e-02],\n       [-1.53459027e-01,  1.42011851e-01,  1.24248698e-01,\n        -8.88603926e-02, -2.26606101e-01, -1.70611799e-01,\n        -5.20466641e-02, -1.16097748e-01,  1.25959292e-01,\n         8.77497047e-02],\n       [ 7.03693032e-02, -1.07429653e-01,  1.40105903e-01,\n         2.66737998e-01, -1.21929944e-01, -3.06051057e-02,\n        -1.46186098e-01, -2.40385577e-01,  2.62996197e-01,\n        -7.67740514e-03],\n       [-1.79897323e-01,  3.25561501e-02, -2.57933170e-01,\n         6.02719225e-02,  2.50431329e-01,  1.05863035e-01,\n         4.67419066e-02,  8.32749009e-02,  2.23294720e-01,\n        -1.83457896e-01],\n       [ 1.73720822e-01,  2.35753790e-01, -3.65993343e-02,\n        -1.38507798e-01, -2.15363726e-02, -2.48389855e-01,\n        -1.94990560e-01, -1.32846728e-01, -1.24151343e-02,\n        -7.44070858e-02],\n       [-1.75408259e-01, -2.00453967e-01, -2.46715471e-01,\n         5.39028868e-02,  1.74864113e-01, -2.68964231e-01,\n        -8.60414747e-03,  9.13795456e-02,  1.49055541e-01,\n         4.59360406e-02],\n       [ 5.16483262e-02, -2.37454295e-01,  1.98171318e-01,\n        -7.77851930e-03,  1.02496274e-01, -1.11679966e-02,\n        -2.16106921e-01,  1.27475053e-01,  5.26327267e-02,\n         2.42525339e-01],\n       [ 2.76086144e-02, -2.40183815e-01, -1.94430321e-01,\n         2.57749110e-01,  1.71080641e-02, -2.14728877e-01,\n        -1.06279552e-01, -2.18300447e-01,  2.73893028e-01,\n        -8.74040872e-02],\n       [-2.62071639e-02,  1.65300772e-01, -8.46472979e-02,\n        -9.44111794e-02,  6.68880194e-02,  2.78009087e-01,\n         4.10042293e-02, -1.66460425e-01,  1.39251515e-01,\n        -9.75827575e-02],\n       [ 9.49603543e-02, -2.72592418e-02, -1.52078122e-01,\n        -1.79792598e-01, -1.10985808e-01,  2.28674002e-02,\n         1.73879966e-01, -1.75125226e-01,  1.37965158e-01,\n         1.00320213e-01],\n       [-1.05496660e-01,  2.22379174e-02,  3.94602939e-02,\n        -2.36283451e-01, -2.21616417e-01,  2.51481533e-01,\n        -2.72310287e-01,  2.45541096e-01,  9.73740071e-02,\n         2.03786999e-01],\n       [ 1.90439165e-01, -2.62612551e-01, -2.41162047e-01,\n         4.10255678e-02,  2.26203203e-01,  6.42745346e-02,\n         2.50960708e-01, -1.46873713e-01, -3.52634899e-02,\n        -7.28233019e-04],\n       [-2.41096020e-01,  2.47676343e-01, -3.99502814e-02,\n         1.92573160e-01,  1.29931092e-01,  1.08920887e-01,\n        -4.82857674e-02, -1.38734311e-01,  1.02719769e-01,\n        -1.32944807e-01],\n       [-2.59265639e-02, -4.77747060e-02, -1.95840433e-01,\n         1.67437717e-01,  1.44196395e-02,  2.72752732e-01,\n         7.20963404e-02, -3.91227193e-02, -1.09184511e-01,\n         1.15767203e-01],\n       [-1.64189592e-01,  2.35542990e-02,  2.29604825e-01,\n         2.73141533e-01, -5.04208356e-02, -1.35722339e-01,\n         1.44617423e-01, -1.01485349e-01,  3.22137475e-02,\n         2.72309214e-01],\n       [-4.26517203e-02, -1.02719152e-02,  2.43680820e-01,\n         2.37310693e-01, -2.01392129e-01,  1.14675216e-01,\n         4.96030077e-02, -1.70543686e-01,  1.12306081e-01,\n         1.95656940e-01],\n       [ 2.55105108e-01, -1.74983963e-01,  2.56811343e-02,\n         4.02275249e-02, -1.87783495e-01,  5.48789427e-02,\n         5.47253620e-03,  2.28222504e-01,  2.55506597e-02,\n        -9.10115708e-03],\n       [-2.28072807e-01,  9.45633128e-02, -2.31170714e-01,\n        -1.96036845e-01,  1.85352802e-01, -1.79272652e-01,\n         2.29683608e-01, -2.36991465e-01, -2.91636754e-02,\n        -8.18862841e-02],\n       [-1.62820697e-01,  2.78835863e-01, -1.48263589e-01,\n         1.79574221e-01,  1.23026639e-01, -2.52770595e-02,\n         2.62390107e-01, -1.95404887e-01,  1.16641121e-02,\n         2.31679529e-01],\n       [-5.12213968e-02, -1.23028010e-01,  6.37154654e-02,\n         4.39369418e-02,  7.83893541e-02,  1.02210678e-01,\n        -2.81231135e-01, -1.06906585e-01,  7.38947764e-02,\n        -3.90298180e-02],\n       [-1.12171672e-01, -8.16522762e-02,  6.99640112e-03,\n         8.98800138e-03,  8.34761336e-02, -1.85840279e-01,\n         2.09418833e-01, -1.05126746e-01,  9.12241116e-02,\n         1.96260780e-01],\n       [ 4.35835272e-02, -2.16410145e-01,  2.59482652e-01,\n         1.86522797e-01, -6.07179105e-02, -2.77555436e-01,\n         4.32146043e-02,  2.07669035e-01, -1.68844298e-01,\n        -1.62169803e-02],\n       [-2.67971009e-01, -2.50758767e-01,  2.87118226e-01,\n         1.29548192e-03,  1.70454122e-02,  2.02639341e-01,\n        -2.19409913e-01, -2.79883862e-01,  2.28288621e-01,\n         5.33044972e-02],\n       [ 1.07092030e-01,  2.64901161e-01, -5.79979445e-04,\n         1.06969960e-01,  2.73907363e-01,  2.42107213e-01,\n         6.23157956e-02,  7.45619014e-02, -1.89805627e-01,\n         9.76970568e-02],\n       [ 1.75403759e-01,  9.79250818e-02, -1.30196646e-01,\n        -3.35970819e-02,  2.04049155e-01,  2.27453396e-01,\n         1.05177745e-01,  1.49289146e-01, -2.08154604e-01,\n        -1.00769654e-01],\n       [-1.74323812e-01, -1.12761870e-01,  9.77037400e-02,\n        -2.76198566e-01, -9.67918895e-03,  2.21084639e-01,\n         2.20874056e-01,  7.08058327e-02,  2.83594340e-01,\n         2.47762486e-01],\n       [ 1.93494223e-02, -1.39765933e-01, -2.58220047e-01,\n         2.36162499e-01, -8.68702829e-02,  2.08215252e-01,\n         2.44110838e-01, -1.39312625e-01, -2.94413604e-02,\n        -4.68521863e-02],\n       [ 7.08913729e-02,  1.73011094e-01,  7.92986378e-02,\n        -1.81791723e-01,  1.72084659e-01,  1.66163713e-01,\n         1.52648509e-01,  2.66177803e-01, -5.43076657e-02,\n         4.21130843e-02],\n       [ 1.13704257e-01, -8.73468444e-02,  2.60226279e-01,\n         2.79495329e-01, -2.35593654e-02,  2.54052609e-01,\n        -2.60217786e-01,  1.19493835e-01,  1.08635100e-03,\n         2.42654711e-01],\n       [-1.25108734e-01, -1.57836959e-01,  1.45756572e-01,\n         2.37931013e-01, -1.60572544e-01, -1.03068203e-01,\n         1.72802031e-01, -7.85274655e-02,  7.55580515e-02,\n        -2.41565555e-01],\n       [ 1.03836507e-01, -2.27761805e-01,  2.34445095e-01,\n         3.20169926e-02, -7.12701911e-03,  1.77914351e-01,\n         1.62423760e-01, -7.45639503e-02,  8.35095048e-02,\n        -1.14578027e-02],\n       [-2.06694379e-01, -1.28223106e-01,  1.82206258e-01,\n        -1.82347354e-02,  9.74220335e-02,  2.32544765e-01,\n        -1.40070096e-01, -4.98514064e-02, -1.83234915e-01,\n        -4.42209579e-02],\n       [-1.09308906e-01,  2.32137755e-01,  2.10818455e-01,\n         1.06281586e-01,  1.90894589e-01, -9.29860696e-02,\n         1.23102859e-01, -1.32536069e-01, -1.99921615e-02,\n        -1.14931278e-01],\n       [ 1.05687127e-01,  1.29743680e-01, -2.46823326e-01,\n         2.77233094e-01,  1.43020466e-01, -4.63720970e-02,\n         5.14994450e-02,  2.22621545e-01,  1.88847557e-01,\n        -1.72956139e-02],\n       [ 8.95084813e-04, -1.12264186e-01,  2.09797412e-01,\n         2.30717480e-01, -6.69069588e-02,  2.60065138e-01,\n         2.63702452e-01,  2.54670084e-01, -1.84233766e-02,\n         2.44754910e-01],\n       [ 3.18170786e-02,  2.69441187e-01, -8.45993608e-02,\n         1.36338562e-01, -5.51661216e-02,  2.67213762e-01,\n         1.54326558e-02,  2.24425733e-01,  9.40941572e-02,\n         2.69829690e-01],\n       [ 8.21344480e-02, -2.79058725e-01, -2.10388556e-01,\n         6.86767921e-02,  1.97151557e-01,  3.17881331e-02,\n         2.81908751e-01, -1.60532579e-01,  8.37617442e-02,\n        -8.88369009e-02],\n       [-9.02503077e-03,  2.08574712e-01,  2.27846861e-01,\n        -1.63548626e-04, -7.69462809e-02,  2.43457079e-01,\n         1.71995535e-02, -1.21100180e-01, -1.05842717e-01,\n        -9.89485905e-02],\n       [ 1.84970289e-01, -1.31874174e-01,  2.47481376e-01,\n         1.80915743e-01, -1.39013931e-01, -8.24633986e-03,\n        -5.15561178e-02,  1.88013703e-01, -1.41292825e-01,\n         1.65795773e-01],\n       [-4.89490516e-02, -1.40648797e-01, -9.53870174e-03,\n         2.74973214e-01, -1.26320636e-02,  2.46962130e-01,\n         2.98226867e-02,  1.58668250e-01,  1.94388241e-01,\n        -2.54499376e-01],\n       [ 2.27800578e-01, -2.70697743e-01,  5.57962572e-03,\n        -2.56872475e-01, -1.47885934e-01,  1.74680233e-01,\n        -1.21725444e-02,  2.95992531e-02, -5.88183217e-02,\n        -1.70435272e-02],\n       [-2.43330464e-01, -2.36938506e-01,  5.31652644e-02,\n        -3.50336209e-02, -1.46972179e-01,  3.38670686e-02,\n        -5.59640899e-02,  5.41217700e-02, -2.83304714e-02,\n        -7.78612420e-02],\n       [-1.27426639e-01, -2.12242156e-01, -1.89402968e-01,\n        -1.73980623e-01, -2.16862619e-01,  2.26971656e-01,\n         6.25139400e-02, -2.22751535e-02,  9.33274254e-02,\n        -2.76860803e-01],\n       [-8.82295370e-02, -1.93593904e-01, -2.23286197e-01,\n         1.50534287e-01, -1.52055427e-01,  2.38583073e-01,\n        -1.64644912e-01, -2.15352282e-01,  3.04592866e-02,\n        -2.61127919e-01],\n       [ 1.74928039e-01,  2.96341237e-02,  1.74047261e-01,\n         1.17660172e-01,  2.48115122e-01, -1.01321317e-01,\n         4.56536189e-02, -1.84587330e-01, -2.00863466e-01,\n        -1.67873383e-01],\n       [-1.63571119e-01, -2.11874172e-02, -2.20874175e-02,\n        -2.87403613e-01,  1.37077183e-01,  1.40256017e-01,\n         1.29965216e-01,  7.90896788e-02, -2.08736956e-01,\n        -2.01991647e-01],\n       [ 2.00840667e-01, -2.64290243e-01, -2.83310115e-01,\n         1.48482576e-01,  1.18918911e-01,  2.51376510e-01,\n        -7.99639374e-02, -1.88964516e-01, -9.98689383e-02,\n        -1.96334898e-01],\n       [-6.59547746e-02, -3.54041569e-02, -6.15070872e-02,\n        -1.55983701e-01, -2.40226090e-01, -1.44281790e-01,\n        -2.66300976e-01,  8.11796486e-02, -2.52247274e-01,\n        -2.15062112e-01],\n       [-3.61599922e-02,  1.65852472e-01,  1.48083135e-01,\n        -2.49934167e-01,  6.55703619e-02, -1.04593523e-01,\n         2.22052678e-01,  1.46077618e-01,  2.77101517e-01,\n         5.99293113e-02],\n       [-1.92813784e-01,  1.03275627e-01, -1.73859626e-01,\n        -5.26504964e-02,  9.50398855e-03, -2.18578979e-01,\n        -2.06949174e-01,  2.52266556e-01,  2.63546377e-01,\n        -2.70816714e-01],\n       [ 2.11455122e-01,  1.54649690e-01, -9.42967385e-02,\n         1.58046797e-01, -2.27101415e-01, -2.42320925e-01,\n         1.55207589e-01,  1.26912534e-01, -1.95129052e-01,\n         8.75336230e-02],\n       [-2.66582131e-01, -7.61383958e-03, -7.66613856e-02,\n         6.80719241e-02,  9.39840898e-02,  3.58603299e-02,\n        -2.52346605e-01, -2.65802711e-01, -2.73697942e-01,\n        -6.67051896e-02],\n       [ 1.99894104e-02,  1.50976226e-01,  5.15870145e-03,\n         7.21867159e-02,  6.29193857e-02,  1.76304206e-01,\n         1.21330805e-01, -2.03218028e-01, -1.75225642e-02,\n         2.76574731e-01],\n       [ 2.23425701e-01,  1.45882174e-01,  1.45724818e-01,\n        -2.58593947e-01, -2.04151347e-01,  2.05679491e-01,\n        -2.09193662e-01, -2.65897721e-01,  2.83505291e-01,\n         4.54271473e-02],\n       [ 9.73031744e-02,  3.98435490e-03,  2.43283674e-01,\n        -2.46029109e-01, -1.15691312e-01, -2.26035565e-01,\n        -1.55501679e-01, -4.93951961e-02,  1.56065300e-01,\n        -2.41178155e-01],\n       [-2.70784438e-01, -1.01423144e-01, -1.69338495e-01,\n        -2.24545687e-01,  1.43019736e-01, -2.00475603e-01,\n         1.83263004e-01,  2.55044758e-01,  2.09740222e-01,\n         2.28005368e-02],\n       [ 2.99102664e-02, -1.84215248e-01,  1.98591530e-01,\n        -9.01425183e-02, -2.54185826e-01, -2.03349784e-01,\n         6.11143112e-02,  2.75498945e-02, -2.39150271e-01,\n         2.67685324e-01],\n       [ 9.41051990e-02, -2.18841523e-01,  3.24347205e-02,\n        -1.62053272e-01, -9.83951390e-02,  1.66928053e-01,\n         1.84242219e-01, -5.69721423e-02,  1.87027514e-01,\n         8.73750299e-02]], dtype=float32)>), (None, <tf.Variable 'actor_2/dense_11/bias:0' shape=(10,) dtype=float32, numpy=\narray([-0.00299998, -0.00299998, -0.00299998, -0.00299998, -0.00299998,\n       -0.00299998, -0.00299998, -0.00299998, -0.00299998, -0.00299998],\n      dtype=float32)>)).",
     "output_type": "error",
     "traceback": [
      "\u001B[0;31m---------------------------------------------------------------------------\u001B[0m",
      "\u001B[0;31mValueError\u001B[0m                                Traceback (most recent call last)",
      "Cell \u001B[0;32mIn[393], line 34\u001B[0m\n\u001B[1;32m     32\u001B[0m gradients \u001B[38;5;241m=\u001B[39m gradient_tape\u001B[38;5;241m.\u001B[39mgradient(tf\u001B[38;5;241m.\u001B[39mconstant(loss), act\u001B[38;5;241m.\u001B[39mtrainable_variables)\n\u001B[1;32m     33\u001B[0m grads_and_vars \u001B[38;5;241m=\u001B[39m \u001B[38;5;28mzip\u001B[39m(gradients, act\u001B[38;5;241m.\u001B[39mtrainable_variables)\n\u001B[0;32m---> 34\u001B[0m \u001B[43moptimizer\u001B[49m\u001B[38;5;241;43m.\u001B[39;49m\u001B[43mapply_gradients\u001B[49m\u001B[43m(\u001B[49m\u001B[43mgrads_and_vars\u001B[49m\u001B[43m)\u001B[49m\n",
      "File \u001B[0;32m~/PycharmProjects/VRP-RL/venv/lib/python3.10/site-packages/keras/src/optimizers/optimizer.py:1222\u001B[0m, in \u001B[0;36mOptimizer.apply_gradients\u001B[0;34m(self, grads_and_vars, name, skip_gradients_aggregation, **kwargs)\u001B[0m\n\u001B[1;32m   1218\u001B[0m experimental_aggregate_gradients \u001B[38;5;241m=\u001B[39m kwargs\u001B[38;5;241m.\u001B[39mpop(\n\u001B[1;32m   1219\u001B[0m     \u001B[38;5;124m\"\u001B[39m\u001B[38;5;124mexperimental_aggregate_gradients\u001B[39m\u001B[38;5;124m\"\u001B[39m, \u001B[38;5;28;01mTrue\u001B[39;00m\n\u001B[1;32m   1220\u001B[0m )\n\u001B[1;32m   1221\u001B[0m \u001B[38;5;28;01mif\u001B[39;00m \u001B[38;5;129;01mnot\u001B[39;00m skip_gradients_aggregation \u001B[38;5;129;01mand\u001B[39;00m experimental_aggregate_gradients:\n\u001B[0;32m-> 1222\u001B[0m     grads_and_vars \u001B[38;5;241m=\u001B[39m \u001B[38;5;28;43mself\u001B[39;49m\u001B[38;5;241;43m.\u001B[39;49m\u001B[43maggregate_gradients\u001B[49m\u001B[43m(\u001B[49m\u001B[43mgrads_and_vars\u001B[49m\u001B[43m)\u001B[49m\n\u001B[1;32m   1223\u001B[0m \u001B[38;5;28;01mreturn\u001B[39;00m \u001B[38;5;28msuper\u001B[39m()\u001B[38;5;241m.\u001B[39mapply_gradients(grads_and_vars, name\u001B[38;5;241m=\u001B[39mname)\n",
      "File \u001B[0;32m~/PycharmProjects/VRP-RL/venv/lib/python3.10/site-packages/keras/src/optimizers/optimizer.py:1184\u001B[0m, in \u001B[0;36mOptimizer.aggregate_gradients\u001B[0;34m(self, grads_and_vars)\u001B[0m\n\u001B[1;32m   1182\u001B[0m     \u001B[38;5;28;01mreturn\u001B[39;00m grads_and_vars\n\u001B[1;32m   1183\u001B[0m \u001B[38;5;28;01melse\u001B[39;00m:\n\u001B[0;32m-> 1184\u001B[0m     \u001B[38;5;28;01mreturn\u001B[39;00m \u001B[43moptimizer_utils\u001B[49m\u001B[38;5;241;43m.\u001B[39;49m\u001B[43mall_reduce_sum_gradients\u001B[49m\u001B[43m(\u001B[49m\u001B[43mgrads_and_vars\u001B[49m\u001B[43m)\u001B[49m\n",
      "File \u001B[0;32m~/PycharmProjects/VRP-RL/venv/lib/python3.10/site-packages/keras/src/optimizers/utils.py:33\u001B[0m, in \u001B[0;36mall_reduce_sum_gradients\u001B[0;34m(grads_and_vars)\u001B[0m\n\u001B[1;32m     24\u001B[0m \u001B[38;5;250m\u001B[39m\u001B[38;5;124;03m\"\"\"Returns all-reduced gradients aggregated via summation.\u001B[39;00m\n\u001B[1;32m     25\u001B[0m \n\u001B[1;32m     26\u001B[0m \u001B[38;5;124;03mArgs:\u001B[39;00m\n\u001B[0;32m   (...)\u001B[0m\n\u001B[1;32m     30\u001B[0m \u001B[38;5;124;03m  List of (gradient, variable) pairs where gradients have been all-reduced.\u001B[39;00m\n\u001B[1;32m     31\u001B[0m \u001B[38;5;124;03m\"\"\"\u001B[39;00m\n\u001B[1;32m     32\u001B[0m grads_and_vars \u001B[38;5;241m=\u001B[39m \u001B[38;5;28mlist\u001B[39m(grads_and_vars)\n\u001B[0;32m---> 33\u001B[0m filtered_grads_and_vars \u001B[38;5;241m=\u001B[39m \u001B[43mfilter_empty_gradients\u001B[49m\u001B[43m(\u001B[49m\u001B[43mgrads_and_vars\u001B[49m\u001B[43m)\u001B[49m\n\u001B[1;32m     34\u001B[0m \u001B[38;5;28;01mif\u001B[39;00m filtered_grads_and_vars:\n\u001B[1;32m     35\u001B[0m     \u001B[38;5;28;01mif\u001B[39;00m tf\u001B[38;5;241m.\u001B[39m__internal__\u001B[38;5;241m.\u001B[39mdistribute\u001B[38;5;241m.\u001B[39mstrategy_supports_no_merge_call():\n",
      "File \u001B[0;32m~/PycharmProjects/VRP-RL/venv/lib/python3.10/site-packages/keras/src/optimizers/utils.py:77\u001B[0m, in \u001B[0;36mfilter_empty_gradients\u001B[0;34m(grads_and_vars)\u001B[0m\n\u001B[1;32m     75\u001B[0m \u001B[38;5;28;01mif\u001B[39;00m \u001B[38;5;129;01mnot\u001B[39;00m filtered:\n\u001B[1;32m     76\u001B[0m     variable \u001B[38;5;241m=\u001B[39m ([v\u001B[38;5;241m.\u001B[39mname \u001B[38;5;28;01mfor\u001B[39;00m _, v \u001B[38;5;129;01min\u001B[39;00m grads_and_vars],)\n\u001B[0;32m---> 77\u001B[0m     \u001B[38;5;28;01mraise\u001B[39;00m \u001B[38;5;167;01mValueError\u001B[39;00m(\n\u001B[1;32m     78\u001B[0m         \u001B[38;5;124mf\u001B[39m\u001B[38;5;124m\"\u001B[39m\u001B[38;5;124mNo gradients provided for any variable: \u001B[39m\u001B[38;5;132;01m{\u001B[39;00mvariable\u001B[38;5;132;01m}\u001B[39;00m\u001B[38;5;124m. \u001B[39m\u001B[38;5;124m\"\u001B[39m\n\u001B[1;32m     79\u001B[0m         \u001B[38;5;124mf\u001B[39m\u001B[38;5;124m\"\u001B[39m\u001B[38;5;124mProvided `grads_and_vars` is \u001B[39m\u001B[38;5;132;01m{\u001B[39;00mgrads_and_vars\u001B[38;5;132;01m}\u001B[39;00m\u001B[38;5;124m.\u001B[39m\u001B[38;5;124m\"\u001B[39m\n\u001B[1;32m     80\u001B[0m     )\n\u001B[1;32m     81\u001B[0m \u001B[38;5;28;01mif\u001B[39;00m vars_with_empty_grads:\n\u001B[1;32m     82\u001B[0m     logging\u001B[38;5;241m.\u001B[39mwarning(\n\u001B[1;32m     83\u001B[0m         \u001B[38;5;124m\"\u001B[39m\u001B[38;5;124mGradients do not exist for variables \u001B[39m\u001B[38;5;132;01m%s\u001B[39;00m\u001B[38;5;124m when minimizing the \u001B[39m\u001B[38;5;124m\"\u001B[39m\n\u001B[1;32m     84\u001B[0m         \u001B[38;5;124m\"\u001B[39m\u001B[38;5;124mloss. If you\u001B[39m\u001B[38;5;124m'\u001B[39m\u001B[38;5;124mre using `model.compile()`, did you forget to \u001B[39m\u001B[38;5;124m\"\u001B[39m\n\u001B[1;32m     85\u001B[0m         \u001B[38;5;124m\"\u001B[39m\u001B[38;5;124mprovide a `loss` argument?\u001B[39m\u001B[38;5;124m\"\u001B[39m,\n\u001B[1;32m     86\u001B[0m         ([v\u001B[38;5;241m.\u001B[39mname \u001B[38;5;28;01mfor\u001B[39;00m v \u001B[38;5;129;01min\u001B[39;00m vars_with_empty_grads]),\n\u001B[1;32m     87\u001B[0m     )\n",
      "\u001B[0;31mValueError\u001B[0m: No gradients provided for any variable: (['actor_2/dense_8/kernel:0', 'actor_2/dense_8/bias:0', 'actor_2/dense_9/kernel:0', 'actor_2/dense_9/bias:0', 'actor_2/dense_10/kernel:0', 'actor_2/dense_10/bias:0', 'actor_2/dense_11/kernel:0', 'actor_2/dense_11/bias:0'],). Provided `grads_and_vars` is ((None, <tf.Variable 'actor_2/dense_8/kernel:0' shape=(10, 64) dtype=float32, numpy=\narray([[ 1.60265326e-01,  1.01168007e-01,  1.31321818e-01,\n        -2.10709125e-01, -1.95295185e-01,  2.17770904e-01,\n         1.09577447e-01, -1.44582689e-02,  1.45250022e-01,\n         1.07636690e-01, -2.26784050e-01,  3.26275527e-02,\n        -1.03380114e-01,  2.50906378e-01,  1.77229851e-01,\n        -1.77407578e-01,  2.44342357e-01,  4.06339765e-02,\n         2.44153172e-01,  7.10038841e-02, -1.00888520e-01,\n        -1.17701113e-01,  1.97643548e-01, -6.61384165e-02,\n         2.53881544e-01, -8.26842040e-02, -2.78604597e-01,\n         2.32795447e-01,  2.70272881e-01,  1.43675476e-01,\n         8.66126120e-02, -1.92492396e-01, -5.01967669e-02,\n        -1.61322057e-02,  2.56520122e-01, -2.05570206e-01,\n         2.44290799e-01, -1.33638978e-02, -2.24474251e-01,\n         2.69186348e-01,  1.16746783e-01, -1.30019113e-01,\n        -1.43425435e-01, -2.15824574e-01, -1.13427162e-01,\n         2.49679714e-01,  1.14022344e-01,  3.20099592e-02,\n        -6.74044788e-02, -1.29507899e-01, -2.42600635e-01,\n        -8.61866027e-02,  1.90331906e-01,  2.34035879e-01,\n         2.47771174e-01,  1.59939528e-01,  6.55995011e-02,\n        -1.54343486e-01,  1.19733989e-01,  1.72951669e-01,\n         1.08953118e-01, -1.30232558e-01,  1.66476965e-02,\n        -2.20680535e-01],\n       [ 8.49920958e-02, -1.91217706e-01, -2.35775620e-01,\n        -1.61009222e-01,  2.38262340e-01, -2.20469907e-01,\n         2.18211055e-01, -2.42543966e-01,  1.91117153e-01,\n         1.53984040e-01, -4.02788818e-02,  2.08525106e-01,\n        -1.52181566e-01,  2.79474527e-01, -2.42726445e-01,\n        -1.34081170e-01, -2.48297036e-01, -6.47654086e-02,\n         1.61099806e-01, -2.21516654e-01, -4.36524823e-02,\n        -1.92788810e-01,  2.57210255e-01,  2.62099504e-01,\n        -1.92995399e-01,  1.81932554e-01, -2.42647663e-01,\n         8.57954994e-02,  1.92595914e-01,  1.75257400e-01,\n        -1.02676056e-01,  2.29904894e-02, -4.13544960e-02,\n         2.17285350e-01,  6.92631900e-02, -1.50512502e-01,\n         3.55021621e-04,  2.77229697e-01, -1.54746488e-01,\n        -2.38980919e-01,  1.65022030e-01,  1.18582800e-01,\n         1.09710276e-01, -2.87719686e-02, -1.12017713e-01,\n         2.46121198e-01, -5.38999401e-02, -8.40720311e-02,\n        -1.25989810e-01,  1.31482691e-01,  2.30480224e-01,\n         1.13193318e-01, -2.71359295e-01, -6.74321651e-02,\n         2.05156788e-01, -8.83977935e-02, -1.33425653e-01,\n        -2.44541720e-01, -5.79376593e-02,  2.84558255e-03,\n        -2.34142110e-01,  2.08732769e-01, -4.63153049e-02,\n         1.29430927e-02],\n       [ 2.71438360e-01,  2.79889882e-01,  2.46416733e-01,\n         1.09753855e-01, -8.27100724e-02, -7.69835711e-02,\n         1.99792206e-01, -2.50366420e-01,  1.23278260e-01,\n        -2.14152783e-01,  2.18762040e-01, -6.96705952e-02,\n         2.37489253e-01,  1.71391711e-01,  1.60086155e-01,\n         2.98235975e-02, -2.97013372e-02, -1.77222297e-01,\n        -5.09635620e-02,  3.38968113e-02, -8.84592757e-02,\n         2.10051760e-01, -1.52437568e-01,  1.22093126e-01,\n        -2.84606852e-02,  9.09351259e-02,  1.17869318e-01,\n         1.16351672e-01,  1.25347063e-01, -2.65469551e-01,\n         1.29177086e-02, -1.80733521e-02,  2.14025602e-02,\n        -2.37854317e-01,  1.22119505e-02, -1.44094199e-01,\n        -1.19550034e-01,  2.07063764e-01,  2.41077691e-01,\n        -2.08249241e-01,  2.48407587e-01,  2.61832267e-01,\n        -8.59547257e-02,  4.95139696e-02, -2.25111261e-01,\n         2.38860734e-02, -1.37538731e-01,  3.33169326e-02,\n         5.52856503e-03,  2.76506364e-01, -5.12785055e-02,\n        -2.13861689e-01, -2.49805123e-01, -1.91422120e-01,\n         5.31612337e-02,  2.20563918e-01, -9.04672742e-02,\n        -1.43474251e-01,  2.34706864e-01,  2.15633005e-01,\n         8.44042152e-02,  2.75859624e-01, -2.73750901e-01,\n        -1.52912065e-01],\n       [ 2.66867638e-01,  2.08645221e-02,  2.24076554e-01,\n        -5.19903637e-02,  1.59967110e-01,  2.87394635e-02,\n         2.55044311e-01,  1.57280847e-01, -2.97640022e-02,\n        -2.27016099e-02, -1.62552178e-01, -7.80870840e-02,\n        -5.87402210e-02,  3.45590618e-03,  2.67768115e-01,\n         1.67641610e-01, -1.68217182e-01,  4.85337675e-02,\n        -1.54121011e-01, -4.45422754e-02,  5.23884222e-02,\n         2.71962285e-01,  1.74141973e-01, -2.43138179e-01,\n        -1.69120446e-01, -2.86396980e-01,  1.96727052e-01,\n         1.95113033e-01,  3.41256745e-02,  2.04572931e-01,\n         2.15926975e-01,  2.56885272e-02,  1.22913830e-01,\n         9.78939906e-02,  1.27452493e-01, -1.91477109e-02,\n        -2.30035018e-02,  1.23182938e-01, -7.98113644e-02,\n         2.36951232e-01, -2.32968330e-01,  2.21602872e-01,\n        -2.41208136e-01, -1.73060074e-01,  2.59182036e-01,\n        -1.69994578e-01, -9.90689024e-02, -1.61737531e-01,\n         2.03312904e-01,  1.22519158e-01,  1.97549284e-01,\n         1.76159516e-02,  5.17687127e-02, -2.41467088e-01,\n         2.82239635e-02, -1.92722538e-04,  2.81103224e-01,\n         1.59362890e-03, -1.69085100e-01,  2.32401162e-01,\n         2.41957456e-01, -1.58143431e-01,  9.47528258e-02,\n         1.43978223e-01],\n       [-2.86209136e-02,  1.20084085e-01, -2.23567873e-01,\n         2.75276244e-01,  2.07039639e-02,  1.47773907e-01,\n         1.84268981e-01, -8.72423407e-03,  1.31458625e-01,\n        -6.35254681e-02, -1.51127949e-01, -1.53128996e-01,\n        -2.73619354e-01, -4.06119786e-02,  1.06096059e-01,\n         1.84550464e-01, -1.09491840e-01,  1.53626785e-01,\n         2.23618165e-01,  1.46229461e-01,  2.55701840e-01,\n        -1.88954547e-01, -2.19037831e-01,  1.45451114e-01,\n         4.21770988e-03,  1.78183243e-01,  1.39206544e-01,\n        -1.75827388e-02, -5.76322488e-02, -7.58275241e-02,\n        -1.46584660e-01,  1.95233285e-01, -9.03689191e-02,\n        -1.40244499e-01, -2.23076299e-01, -3.18730362e-02,\n        -3.52500044e-02,  1.72118068e-01,  2.39268150e-02,\n        -4.59873825e-02, -1.53676439e-02, -6.90000057e-02,\n        -2.42189746e-02,  4.69901301e-02, -4.26594578e-02,\n         1.77797198e-01,  1.67332813e-01, -1.55868515e-01,\n         1.18976198e-01,  2.76787281e-01, -1.08411029e-01,\n        -2.17029244e-01, -1.75234288e-01, -1.65824452e-03,\n         1.92876477e-02,  1.91417605e-01,  1.21145800e-01,\n         1.20335259e-01,  3.13596204e-02, -3.59915830e-02,\n         2.86206096e-01, -4.42104368e-03,  9.11245309e-03,\n        -2.22171888e-01],\n       [ 1.84082597e-01, -2.43237857e-02,  1.37228176e-01,\n        -2.33973324e-01,  2.60147512e-01, -8.13591480e-02,\n         2.05289871e-02, -1.54858172e-01, -2.11438283e-01,\n        -2.15942748e-02, -1.99016348e-01, -1.12275340e-01,\n        -2.35612631e-01,  1.94398776e-01, -1.06954217e-01,\n         9.14784968e-02, -2.59605814e-02, -1.78503431e-02,\n         1.28307298e-01, -1.09763108e-01, -7.09444359e-02,\n        -7.54722878e-02,  2.75988970e-02, -8.22319090e-02,\n         1.44644499e-01, -1.13479197e-01,  1.60739616e-01,\n         1.10495426e-01, -1.37795052e-02,  1.94960579e-01,\n         2.03489177e-02,  2.42863238e-01,  1.39529601e-01,\n         6.96570948e-02,  1.22800052e-01, -1.19837776e-01,\n         1.18707330e-03,  9.94020775e-02,  2.21044868e-01,\n        -3.60213369e-02,  1.00475885e-01,  1.52526330e-02,\n        -6.49765283e-02, -8.88626128e-02, -1.94103062e-01,\n         6.92759827e-03,  2.58739322e-01,  1.64790098e-02,\n        -1.27226815e-01,  2.82681167e-01,  2.80548185e-02,\n        -1.85868174e-01, -1.01086788e-01, -1.37881070e-01,\n         1.77509740e-01,  1.04404772e-02, -1.82820305e-01,\n        -4.89345267e-02,  9.45892408e-02,  5.62480949e-02,\n         2.62123853e-01, -1.08056108e-03,  2.75444061e-01,\n         8.87850299e-03],\n       [-2.32743040e-01, -1.86487332e-01, -7.60300532e-02,\n         1.24847688e-01,  1.95072755e-01,  1.23723827e-01,\n         2.18478501e-01,  5.60142472e-02, -1.71100833e-02,\n        -5.43061942e-02,  2.56327868e-01,  1.88256666e-01,\n        -2.57431325e-02, -7.56425411e-02, -2.24012822e-01,\n        -1.59680784e-01, -2.56312221e-01, -1.79099843e-01,\n        -6.57518506e-02,  1.51062235e-01,  2.76868701e-01,\n        -2.05894366e-01,  2.58063734e-01, -1.52637839e-01,\n        -8.06837454e-02,  1.13397852e-01, -1.42098414e-02,\n        -2.74523526e-01,  1.81942448e-01, -1.90729037e-01,\n         1.20045580e-01, -2.68203616e-01, -6.29420057e-02,\n         2.47645989e-01,  2.81739444e-01, -2.36120552e-01,\n        -4.98693138e-02,  1.28069401e-01, -2.39011690e-01,\n        -2.68515479e-02, -2.26624712e-01,  6.35261685e-02,\n        -8.19516480e-02, -2.49064863e-01, -1.14482768e-01,\n        -2.61045277e-01,  2.58917697e-02, -5.29266223e-02,\n         2.40613192e-01,  2.38316447e-01,  1.53854728e-01,\n         9.55574960e-02, -9.64405313e-02, -9.52718556e-02,\n        -6.52003586e-02,  3.85954492e-02, -2.64540762e-01,\n         2.78390706e-01,  1.88545004e-01, -1.56660035e-01,\n        -1.76930949e-02,  2.12204352e-01, -4.69595753e-02,\n        -7.12580383e-02],\n       [-1.17832527e-01, -2.49035601e-02,  2.83772051e-01,\n        -1.00082032e-01, -2.12546304e-01,  1.90118834e-01,\n         1.52378350e-01,  2.76875019e-01, -1.30899772e-01,\n        -1.65637642e-01, -1.83892343e-03,  1.18616946e-01,\n         1.91772223e-01,  2.02117369e-01, -2.57776111e-01,\n        -2.11565077e-01, -2.75640637e-01,  9.34815705e-02,\n         1.77457824e-01, -3.47559378e-02,  1.85540259e-01,\n         1.05418809e-01,  1.35515004e-01,  1.35946587e-01,\n         2.13916861e-02,  1.28825322e-01,  2.70320773e-01,\n         1.00819226e-02, -2.03487083e-01,  1.07947633e-01,\n        -2.07975656e-01, -5.21905497e-02, -2.55171478e-01,\n        -1.03972949e-01,  1.67466760e-01,  5.25035672e-02,\n        -2.15592101e-01, -5.58020547e-02,  1.58088773e-01,\n        -1.88764166e-02,  1.27942637e-01, -8.95917863e-02,\n         1.97363347e-01,  2.31732205e-01, -1.30067244e-01,\n        -9.70745385e-02, -1.79020926e-01,  1.29723802e-01,\n         1.84278429e-01,  2.13675741e-02,  1.12168983e-01,\n        -2.06761926e-01,  4.62572500e-02, -1.55666843e-01,\n         4.19782102e-02, -6.94530364e-03, -2.51059294e-01,\n        -1.26753166e-01, -2.48804335e-02,  2.48876184e-01,\n         1.47115976e-01, -1.08147815e-01, -2.08036929e-01,\n         1.33302346e-01],\n       [ 2.03933239e-01, -8.28971788e-02, -2.62301356e-01,\n         1.48266971e-01, -9.74946171e-02,  7.89680034e-02,\n        -2.73853630e-01, -7.33970627e-02, -1.97410025e-02,\n        -1.96538895e-01,  1.33314490e-01, -5.88378869e-02,\n        -1.53257683e-01, -1.09623730e-01,  9.31496918e-02,\n         1.60858959e-01,  4.29994911e-02,  1.07444199e-02,\n         3.31574269e-02, -2.99320146e-02, -7.03658834e-02,\n         1.33023057e-02, -2.00050678e-02, -2.10147545e-01,\n         8.39514062e-02,  1.89947203e-01,  2.52216876e-01,\n        -3.62279080e-02,  2.73252130e-01,  1.08155712e-01,\n        -2.84194887e-01,  3.64355706e-02, -1.73427194e-01,\n        -1.56437129e-01,  5.03281392e-02, -2.44407523e-02,\n        -2.53573090e-01, -1.88409418e-01,  1.93230391e-01,\n         5.32709211e-02, -1.85031727e-01, -2.39900008e-01,\n        -2.16979265e-01, -1.82336494e-01,  5.89379407e-02,\n        -5.96555695e-02,  5.30173928e-02, -2.39037588e-01,\n         6.00585602e-02,  1.30749822e-01, -1.94267064e-01,\n         9.93426591e-02, -4.78390418e-03,  6.98209852e-02,\n        -2.19179615e-01, -2.81315356e-01, -2.42479801e-01,\n        -9.87928174e-03, -5.12366071e-02, -3.04100197e-03,\n         2.14805663e-01,  2.05625698e-01,  2.20458299e-01,\n        -2.82355160e-01],\n       [-2.11271286e-01, -9.39876065e-02, -1.43593373e-02,\n        -3.54180224e-02,  1.90556183e-01, -1.48223028e-01,\n        -6.09604418e-02, -7.13390782e-02, -3.62545326e-02,\n         1.34468168e-01, -9.05668736e-03,  2.47410819e-01,\n        -2.12535232e-01, -1.03691593e-01,  2.38675982e-01,\n        -1.61408484e-01,  9.68604535e-02, -2.37288713e-01,\n         2.78641969e-01, -5.21746352e-02,  8.04876443e-03,\n        -1.59588113e-01, -9.50548649e-02, -1.98073342e-01,\n        -2.26524591e-01,  1.94106773e-01, -1.16086543e-01,\n        -2.26808012e-01, -1.66492094e-03, -2.15636238e-01,\n        -2.61490466e-03, -1.47527292e-01,  1.22417830e-01,\n        -2.38018677e-01, -3.44539098e-02,  4.61693816e-02,\n        -7.37611717e-03, -2.37938151e-01, -5.38823940e-03,\n        -2.57610112e-01,  5.27732745e-02,  4.88614514e-02,\n         6.50582016e-02, -1.91557676e-01,  1.57071874e-01,\n         2.33536750e-01, -4.12504654e-04,  1.71706006e-01,\n         1.78267539e-01, -2.42357418e-01,  2.84275562e-02,\n         8.65974873e-02, -7.25190118e-02, -1.97391406e-01,\n        -4.59601879e-02, -1.73969597e-01,  3.76707464e-02,\n         2.49720335e-01,  3.38401571e-02,  7.07706530e-03,\n         7.55254179e-02,  7.63717741e-02,  4.30402793e-02,\n        -1.19548813e-01]], dtype=float32)>), (None, <tf.Variable 'actor_2/dense_8/bias:0' shape=(64,) dtype=float32, numpy=\narray([-0.0029412 , -0.00300452,  0.00300409,  0.00300107,  0.00299157,\n       -0.00291923,  0.00299845, -0.00299935,  0.00299953,  0.00296671,\n        0.00294133, -0.00270115, -0.00300485,  0.0030049 ,  0.00300163,\n        0.00294916,  0.00299267,  0.00299745, -0.00295329, -0.0030015 ,\n        0.00300231,  0.00277326,  0.00300077, -0.00299851, -0.00300479,\n       -0.00298186,  0.00294505, -0.00300484,  0.00295397,  0.00300445,\n       -0.003002  ,  0.00300468,  0.00296517, -0.00300397,  0.00300306,\n        0.00295935,  0.00291322, -0.00296758, -0.00299556, -0.00300423,\n       -0.00300186, -0.00298502, -0.00300175,  0.00298804, -0.0030041 ,\n       -0.00289887, -0.00297994,  0.00271694, -0.00298989,  0.00299536,\n       -0.00298609,  0.00192486, -0.00300494, -0.00300239, -0.00294846,\n        0.00298918,  0.00282288, -0.002995  , -0.00296985, -0.00297874,\n        0.00297302, -0.00258146,  0.00030315, -0.003001  ], dtype=float32)>), (None, <tf.Variable 'actor_2/dense_9/kernel:0' shape=(64, 64) dtype=float32, numpy=\narray([[ 5.3612098e-02,  5.9419956e-02,  8.3398312e-02, ...,\n         2.0425862e-01,  1.7188542e-01,  4.4487149e-02],\n       [-7.3674969e-02, -1.3705911e-01, -1.2259411e-01, ...,\n        -2.0335712e-01, -1.2730594e-01, -1.0471429e-01],\n       [ 8.2851805e-02,  6.4921498e-02, -2.4779581e-02, ...,\n        -1.7773919e-04, -1.1505780e-01, -9.4501562e-03],\n       ...,\n       [ 7.3154777e-02,  6.6746838e-02,  4.2326901e-02, ...,\n        -8.3257005e-02, -1.7268960e-01, -1.4761600e-01],\n       [ 1.6910809e-01, -1.3819095e-01,  8.5467443e-02, ...,\n        -1.0950284e-01,  1.6428252e-01, -9.0252928e-02],\n       [ 6.1507139e-02,  2.3672697e-03,  8.4384270e-03, ...,\n         1.3887784e-01, -1.6801108e-01,  1.4831875e-02]], dtype=float32)>), (None, <tf.Variable 'actor_2/dense_9/bias:0' shape=(64,) dtype=float32, numpy=\narray([ 0.00300334, -0.00033623, -0.00299231, -0.00283281,  0.00300298,\n        0.00292542,  0.00291993,  0.00289211,  0.00299592,  0.00300439,\n       -0.00294491,  0.00300393, -0.00299412,  0.00299472, -0.0029911 ,\n       -0.00280463, -0.00297534, -0.00300368,  0.00298391, -0.00299793,\n        0.00300321, -0.00300306, -0.00300469,  0.00300309, -0.00285299,\n       -0.00300464, -0.00300447, -0.00273062, -0.00299487, -0.00299754,\n       -0.0029961 , -0.00300198, -0.00293925, -0.002991  , -0.003001  ,\n        0.00299282, -0.00300465, -0.00238783, -0.00296928,  0.00300142,\n       -0.0029937 , -0.00295096, -0.00300493,  0.00282279, -0.00027222,\n       -0.00299414, -0.00299123, -0.00298777, -0.00022523, -0.00300493,\n       -0.00300368,  0.00300195,  0.00297759, -0.0029605 ,  0.00300359,\n        0.0030029 , -0.00299019,  0.00300309,  0.00300443, -0.00297389,\n       -0.00300477, -0.00299507,  0.00297375, -0.00299719], dtype=float32)>), (None, <tf.Variable 'actor_2/dense_10/kernel:0' shape=(64, 64) dtype=float32, numpy=\narray([[-0.1446839 , -0.05752488, -0.05787596, ..., -0.09395881,\n         0.0633893 ,  0.08316419],\n       [ 0.19952135,  0.20174052, -0.19893634, ..., -0.20451705,\n        -0.01396681, -0.18059891],\n       [-0.15052065, -0.10148031,  0.11991752, ...,  0.16628125,\n        -0.04492241,  0.07885075],\n       ...,\n       [-0.14534976, -0.1482676 ,  0.0187854 , ..., -0.15124182,\n         0.10022474, -0.13141596],\n       [-0.00985919,  0.06893023,  0.15834504, ..., -0.03431138,\n         0.03673209,  0.12524435],\n       [-0.20708556, -0.16761796,  0.03365413, ..., -0.06861877,\n        -0.06459159,  0.14069773]], dtype=float32)>), (None, <tf.Variable 'actor_2/dense_10/bias:0' shape=(64,) dtype=float32, numpy=\narray([-0.00299767,  0.00300353,  0.00299801, -0.00300103, -0.00299746,\n        0.00300257,  0.00299101,  0.00299687, -0.00298712, -0.00299416,\n        0.00300195,  0.00300224, -0.00299833,  0.00299795, -0.0030036 ,\n        0.00299055, -0.00295739, -0.00298716, -0.00300415, -0.00300356,\n       -0.00299809, -0.00300168, -0.00300314,  0.00300134, -0.00299818,\n        0.00299564, -0.00299021, -0.00286587,  0.00299545, -0.00299905,\n       -0.00300182, -0.00300153,  0.00274044, -0.00299888, -0.00299889,\n        0.0029976 , -0.00300187,  0.002996  , -0.00299741, -0.00300112,\n       -0.00299921, -0.00300078,  0.00276138, -0.00299638, -0.00299796,\n       -0.003002  ,  0.00300262,  0.00299853,  0.00300108,  0.00300103,\n       -0.00300481,  0.00300209,  0.00299859,  0.00299927, -0.00300129,\n        0.00299792, -0.00300482,  0.00299902, -0.00299851, -0.00300491,\n        0.00299811,  0.00300454,  0.00300225, -0.00299767], dtype=float32)>), (None, <tf.Variable 'actor_2/dense_11/kernel:0' shape=(64, 10) dtype=float32, numpy=\narray([[ 7.97146112e-02, -1.84895787e-02, -6.72052205e-02,\n        -3.72535102e-02,  1.49207562e-01,  2.25630879e-01,\n         1.22156605e-01, -2.61268437e-01, -3.39783244e-02,\n         2.77750403e-01],\n       [ 2.36460254e-01, -2.71433771e-01,  2.08281144e-01,\n        -2.69650042e-01,  6.31339550e-02,  1.65101245e-01,\n        -1.15550622e-01, -7.43052214e-02,  8.99847448e-02,\n        -2.58451819e-01],\n       [-2.28501260e-01,  1.85634997e-02, -1.99281469e-01,\n        -3.19802538e-02,  1.93988517e-01,  2.70138443e-01,\n         2.00839117e-01, -2.35145897e-01, -2.54887342e-01,\n        -2.40030587e-01],\n       [ 1.26439542e-01,  1.50008366e-01,  1.32039234e-01,\n         1.80145487e-01,  6.20659906e-04,  1.30550833e-02,\n         2.71474630e-01,  2.56418377e-01, -2.59486258e-01,\n         3.36086424e-03],\n       [-3.59694399e-02, -2.25493312e-02,  2.75432795e-01,\n        -1.15552284e-01,  2.63386101e-01,  1.80926904e-01,\n        -1.71138480e-01,  1.83530584e-01, -4.40108869e-03,\n        -1.52780786e-01],\n       [-2.55660087e-01,  1.11744478e-02,  3.66845801e-02,\n        -2.49373674e-01, -6.26514629e-02, -1.29397199e-01,\n         2.01633707e-01,  2.54744649e-01, -7.43647618e-03,\n        -1.26700774e-01],\n       [-2.90235560e-02,  8.03797543e-02, -2.62866974e-01,\n         1.58785600e-02, -5.76193146e-02,  9.38478410e-02,\n        -2.63186395e-01,  2.66424030e-01,  1.68551102e-01,\n        -6.94948733e-02],\n       [-1.53459027e-01,  1.42011851e-01,  1.24248698e-01,\n        -8.88603926e-02, -2.26606101e-01, -1.70611799e-01,\n        -5.20466641e-02, -1.16097748e-01,  1.25959292e-01,\n         8.77497047e-02],\n       [ 7.03693032e-02, -1.07429653e-01,  1.40105903e-01,\n         2.66737998e-01, -1.21929944e-01, -3.06051057e-02,\n        -1.46186098e-01, -2.40385577e-01,  2.62996197e-01,\n        -7.67740514e-03],\n       [-1.79897323e-01,  3.25561501e-02, -2.57933170e-01,\n         6.02719225e-02,  2.50431329e-01,  1.05863035e-01,\n         4.67419066e-02,  8.32749009e-02,  2.23294720e-01,\n        -1.83457896e-01],\n       [ 1.73720822e-01,  2.35753790e-01, -3.65993343e-02,\n        -1.38507798e-01, -2.15363726e-02, -2.48389855e-01,\n        -1.94990560e-01, -1.32846728e-01, -1.24151343e-02,\n        -7.44070858e-02],\n       [-1.75408259e-01, -2.00453967e-01, -2.46715471e-01,\n         5.39028868e-02,  1.74864113e-01, -2.68964231e-01,\n        -8.60414747e-03,  9.13795456e-02,  1.49055541e-01,\n         4.59360406e-02],\n       [ 5.16483262e-02, -2.37454295e-01,  1.98171318e-01,\n        -7.77851930e-03,  1.02496274e-01, -1.11679966e-02,\n        -2.16106921e-01,  1.27475053e-01,  5.26327267e-02,\n         2.42525339e-01],\n       [ 2.76086144e-02, -2.40183815e-01, -1.94430321e-01,\n         2.57749110e-01,  1.71080641e-02, -2.14728877e-01,\n        -1.06279552e-01, -2.18300447e-01,  2.73893028e-01,\n        -8.74040872e-02],\n       [-2.62071639e-02,  1.65300772e-01, -8.46472979e-02,\n        -9.44111794e-02,  6.68880194e-02,  2.78009087e-01,\n         4.10042293e-02, -1.66460425e-01,  1.39251515e-01,\n        -9.75827575e-02],\n       [ 9.49603543e-02, -2.72592418e-02, -1.52078122e-01,\n        -1.79792598e-01, -1.10985808e-01,  2.28674002e-02,\n         1.73879966e-01, -1.75125226e-01,  1.37965158e-01,\n         1.00320213e-01],\n       [-1.05496660e-01,  2.22379174e-02,  3.94602939e-02,\n        -2.36283451e-01, -2.21616417e-01,  2.51481533e-01,\n        -2.72310287e-01,  2.45541096e-01,  9.73740071e-02,\n         2.03786999e-01],\n       [ 1.90439165e-01, -2.62612551e-01, -2.41162047e-01,\n         4.10255678e-02,  2.26203203e-01,  6.42745346e-02,\n         2.50960708e-01, -1.46873713e-01, -3.52634899e-02,\n        -7.28233019e-04],\n       [-2.41096020e-01,  2.47676343e-01, -3.99502814e-02,\n         1.92573160e-01,  1.29931092e-01,  1.08920887e-01,\n        -4.82857674e-02, -1.38734311e-01,  1.02719769e-01,\n        -1.32944807e-01],\n       [-2.59265639e-02, -4.77747060e-02, -1.95840433e-01,\n         1.67437717e-01,  1.44196395e-02,  2.72752732e-01,\n         7.20963404e-02, -3.91227193e-02, -1.09184511e-01,\n         1.15767203e-01],\n       [-1.64189592e-01,  2.35542990e-02,  2.29604825e-01,\n         2.73141533e-01, -5.04208356e-02, -1.35722339e-01,\n         1.44617423e-01, -1.01485349e-01,  3.22137475e-02,\n         2.72309214e-01],\n       [-4.26517203e-02, -1.02719152e-02,  2.43680820e-01,\n         2.37310693e-01, -2.01392129e-01,  1.14675216e-01,\n         4.96030077e-02, -1.70543686e-01,  1.12306081e-01,\n         1.95656940e-01],\n       [ 2.55105108e-01, -1.74983963e-01,  2.56811343e-02,\n         4.02275249e-02, -1.87783495e-01,  5.48789427e-02,\n         5.47253620e-03,  2.28222504e-01,  2.55506597e-02,\n        -9.10115708e-03],\n       [-2.28072807e-01,  9.45633128e-02, -2.31170714e-01,\n        -1.96036845e-01,  1.85352802e-01, -1.79272652e-01,\n         2.29683608e-01, -2.36991465e-01, -2.91636754e-02,\n        -8.18862841e-02],\n       [-1.62820697e-01,  2.78835863e-01, -1.48263589e-01,\n         1.79574221e-01,  1.23026639e-01, -2.52770595e-02,\n         2.62390107e-01, -1.95404887e-01,  1.16641121e-02,\n         2.31679529e-01],\n       [-5.12213968e-02, -1.23028010e-01,  6.37154654e-02,\n         4.39369418e-02,  7.83893541e-02,  1.02210678e-01,\n        -2.81231135e-01, -1.06906585e-01,  7.38947764e-02,\n        -3.90298180e-02],\n       [-1.12171672e-01, -8.16522762e-02,  6.99640112e-03,\n         8.98800138e-03,  8.34761336e-02, -1.85840279e-01,\n         2.09418833e-01, -1.05126746e-01,  9.12241116e-02,\n         1.96260780e-01],\n       [ 4.35835272e-02, -2.16410145e-01,  2.59482652e-01,\n         1.86522797e-01, -6.07179105e-02, -2.77555436e-01,\n         4.32146043e-02,  2.07669035e-01, -1.68844298e-01,\n        -1.62169803e-02],\n       [-2.67971009e-01, -2.50758767e-01,  2.87118226e-01,\n         1.29548192e-03,  1.70454122e-02,  2.02639341e-01,\n        -2.19409913e-01, -2.79883862e-01,  2.28288621e-01,\n         5.33044972e-02],\n       [ 1.07092030e-01,  2.64901161e-01, -5.79979445e-04,\n         1.06969960e-01,  2.73907363e-01,  2.42107213e-01,\n         6.23157956e-02,  7.45619014e-02, -1.89805627e-01,\n         9.76970568e-02],\n       [ 1.75403759e-01,  9.79250818e-02, -1.30196646e-01,\n        -3.35970819e-02,  2.04049155e-01,  2.27453396e-01,\n         1.05177745e-01,  1.49289146e-01, -2.08154604e-01,\n        -1.00769654e-01],\n       [-1.74323812e-01, -1.12761870e-01,  9.77037400e-02,\n        -2.76198566e-01, -9.67918895e-03,  2.21084639e-01,\n         2.20874056e-01,  7.08058327e-02,  2.83594340e-01,\n         2.47762486e-01],\n       [ 1.93494223e-02, -1.39765933e-01, -2.58220047e-01,\n         2.36162499e-01, -8.68702829e-02,  2.08215252e-01,\n         2.44110838e-01, -1.39312625e-01, -2.94413604e-02,\n        -4.68521863e-02],\n       [ 7.08913729e-02,  1.73011094e-01,  7.92986378e-02,\n        -1.81791723e-01,  1.72084659e-01,  1.66163713e-01,\n         1.52648509e-01,  2.66177803e-01, -5.43076657e-02,\n         4.21130843e-02],\n       [ 1.13704257e-01, -8.73468444e-02,  2.60226279e-01,\n         2.79495329e-01, -2.35593654e-02,  2.54052609e-01,\n        -2.60217786e-01,  1.19493835e-01,  1.08635100e-03,\n         2.42654711e-01],\n       [-1.25108734e-01, -1.57836959e-01,  1.45756572e-01,\n         2.37931013e-01, -1.60572544e-01, -1.03068203e-01,\n         1.72802031e-01, -7.85274655e-02,  7.55580515e-02,\n        -2.41565555e-01],\n       [ 1.03836507e-01, -2.27761805e-01,  2.34445095e-01,\n         3.20169926e-02, -7.12701911e-03,  1.77914351e-01,\n         1.62423760e-01, -7.45639503e-02,  8.35095048e-02,\n        -1.14578027e-02],\n       [-2.06694379e-01, -1.28223106e-01,  1.82206258e-01,\n        -1.82347354e-02,  9.74220335e-02,  2.32544765e-01,\n        -1.40070096e-01, -4.98514064e-02, -1.83234915e-01,\n        -4.42209579e-02],\n       [-1.09308906e-01,  2.32137755e-01,  2.10818455e-01,\n         1.06281586e-01,  1.90894589e-01, -9.29860696e-02,\n         1.23102859e-01, -1.32536069e-01, -1.99921615e-02,\n        -1.14931278e-01],\n       [ 1.05687127e-01,  1.29743680e-01, -2.46823326e-01,\n         2.77233094e-01,  1.43020466e-01, -4.63720970e-02,\n         5.14994450e-02,  2.22621545e-01,  1.88847557e-01,\n        -1.72956139e-02],\n       [ 8.95084813e-04, -1.12264186e-01,  2.09797412e-01,\n         2.30717480e-01, -6.69069588e-02,  2.60065138e-01,\n         2.63702452e-01,  2.54670084e-01, -1.84233766e-02,\n         2.44754910e-01],\n       [ 3.18170786e-02,  2.69441187e-01, -8.45993608e-02,\n         1.36338562e-01, -5.51661216e-02,  2.67213762e-01,\n         1.54326558e-02,  2.24425733e-01,  9.40941572e-02,\n         2.69829690e-01],\n       [ 8.21344480e-02, -2.79058725e-01, -2.10388556e-01,\n         6.86767921e-02,  1.97151557e-01,  3.17881331e-02,\n         2.81908751e-01, -1.60532579e-01,  8.37617442e-02,\n        -8.88369009e-02],\n       [-9.02503077e-03,  2.08574712e-01,  2.27846861e-01,\n        -1.63548626e-04, -7.69462809e-02,  2.43457079e-01,\n         1.71995535e-02, -1.21100180e-01, -1.05842717e-01,\n        -9.89485905e-02],\n       [ 1.84970289e-01, -1.31874174e-01,  2.47481376e-01,\n         1.80915743e-01, -1.39013931e-01, -8.24633986e-03,\n        -5.15561178e-02,  1.88013703e-01, -1.41292825e-01,\n         1.65795773e-01],\n       [-4.89490516e-02, -1.40648797e-01, -9.53870174e-03,\n         2.74973214e-01, -1.26320636e-02,  2.46962130e-01,\n         2.98226867e-02,  1.58668250e-01,  1.94388241e-01,\n        -2.54499376e-01],\n       [ 2.27800578e-01, -2.70697743e-01,  5.57962572e-03,\n        -2.56872475e-01, -1.47885934e-01,  1.74680233e-01,\n        -1.21725444e-02,  2.95992531e-02, -5.88183217e-02,\n        -1.70435272e-02],\n       [-2.43330464e-01, -2.36938506e-01,  5.31652644e-02,\n        -3.50336209e-02, -1.46972179e-01,  3.38670686e-02,\n        -5.59640899e-02,  5.41217700e-02, -2.83304714e-02,\n        -7.78612420e-02],\n       [-1.27426639e-01, -2.12242156e-01, -1.89402968e-01,\n        -1.73980623e-01, -2.16862619e-01,  2.26971656e-01,\n         6.25139400e-02, -2.22751535e-02,  9.33274254e-02,\n        -2.76860803e-01],\n       [-8.82295370e-02, -1.93593904e-01, -2.23286197e-01,\n         1.50534287e-01, -1.52055427e-01,  2.38583073e-01,\n        -1.64644912e-01, -2.15352282e-01,  3.04592866e-02,\n        -2.61127919e-01],\n       [ 1.74928039e-01,  2.96341237e-02,  1.74047261e-01,\n         1.17660172e-01,  2.48115122e-01, -1.01321317e-01,\n         4.56536189e-02, -1.84587330e-01, -2.00863466e-01,\n        -1.67873383e-01],\n       [-1.63571119e-01, -2.11874172e-02, -2.20874175e-02,\n        -2.87403613e-01,  1.37077183e-01,  1.40256017e-01,\n         1.29965216e-01,  7.90896788e-02, -2.08736956e-01,\n        -2.01991647e-01],\n       [ 2.00840667e-01, -2.64290243e-01, -2.83310115e-01,\n         1.48482576e-01,  1.18918911e-01,  2.51376510e-01,\n        -7.99639374e-02, -1.88964516e-01, -9.98689383e-02,\n        -1.96334898e-01],\n       [-6.59547746e-02, -3.54041569e-02, -6.15070872e-02,\n        -1.55983701e-01, -2.40226090e-01, -1.44281790e-01,\n        -2.66300976e-01,  8.11796486e-02, -2.52247274e-01,\n        -2.15062112e-01],\n       [-3.61599922e-02,  1.65852472e-01,  1.48083135e-01,\n        -2.49934167e-01,  6.55703619e-02, -1.04593523e-01,\n         2.22052678e-01,  1.46077618e-01,  2.77101517e-01,\n         5.99293113e-02],\n       [-1.92813784e-01,  1.03275627e-01, -1.73859626e-01,\n        -5.26504964e-02,  9.50398855e-03, -2.18578979e-01,\n        -2.06949174e-01,  2.52266556e-01,  2.63546377e-01,\n        -2.70816714e-01],\n       [ 2.11455122e-01,  1.54649690e-01, -9.42967385e-02,\n         1.58046797e-01, -2.27101415e-01, -2.42320925e-01,\n         1.55207589e-01,  1.26912534e-01, -1.95129052e-01,\n         8.75336230e-02],\n       [-2.66582131e-01, -7.61383958e-03, -7.66613856e-02,\n         6.80719241e-02,  9.39840898e-02,  3.58603299e-02,\n        -2.52346605e-01, -2.65802711e-01, -2.73697942e-01,\n        -6.67051896e-02],\n       [ 1.99894104e-02,  1.50976226e-01,  5.15870145e-03,\n         7.21867159e-02,  6.29193857e-02,  1.76304206e-01,\n         1.21330805e-01, -2.03218028e-01, -1.75225642e-02,\n         2.76574731e-01],\n       [ 2.23425701e-01,  1.45882174e-01,  1.45724818e-01,\n        -2.58593947e-01, -2.04151347e-01,  2.05679491e-01,\n        -2.09193662e-01, -2.65897721e-01,  2.83505291e-01,\n         4.54271473e-02],\n       [ 9.73031744e-02,  3.98435490e-03,  2.43283674e-01,\n        -2.46029109e-01, -1.15691312e-01, -2.26035565e-01,\n        -1.55501679e-01, -4.93951961e-02,  1.56065300e-01,\n        -2.41178155e-01],\n       [-2.70784438e-01, -1.01423144e-01, -1.69338495e-01,\n        -2.24545687e-01,  1.43019736e-01, -2.00475603e-01,\n         1.83263004e-01,  2.55044758e-01,  2.09740222e-01,\n         2.28005368e-02],\n       [ 2.99102664e-02, -1.84215248e-01,  1.98591530e-01,\n        -9.01425183e-02, -2.54185826e-01, -2.03349784e-01,\n         6.11143112e-02,  2.75498945e-02, -2.39150271e-01,\n         2.67685324e-01],\n       [ 9.41051990e-02, -2.18841523e-01,  3.24347205e-02,\n        -1.62053272e-01, -9.83951390e-02,  1.66928053e-01,\n         1.84242219e-01, -5.69721423e-02,  1.87027514e-01,\n         8.73750299e-02]], dtype=float32)>), (None, <tf.Variable 'actor_2/dense_11/bias:0' shape=(10,) dtype=float32, numpy=\narray([-0.00299998, -0.00299998, -0.00299998, -0.00299998, -0.00299998,\n       -0.00299998, -0.00299998, -0.00299998, -0.00299998, -0.00299998],\n      dtype=float32)>))."
     ]
    }
   ],
   "source": [
    "with tf.GradientTape(persistent=True) as gradient_tape:\n",
    "    res = act(env)\n",
    "    res2 = act(env)\n",
    "    argmax = tf.argmax(res, 1)\n",
    "    argmax2 = tf.argmax(res2, 1)\n",
    "\n",
    "    range_idx = tf.expand_dims(tf.range(n_samples, dtype=tf.float32), 1)\n",
    "    argmax_idx = tf.cast(tf.concat([range_idx, tf.expand_dims(tf.cast(argmax, tf.float32), -1)], 1), dtype=tf.int32)\n",
    "\n",
    "    argmax_idx2 = tf.cast(tf.concat([range_idx, tf.expand_dims(tf.cast(argmax2, tf.float32), -1)], 1), dtype=tf.int32)\n",
    "\n",
    "    # old_locations_idx = tf.cast(\n",
    "    #     tf.concat(\n",
    "    #         [range_idx, np.array([0] * n_samples).reshape(n_samples, 1)], 1\n",
    "    #     ),\n",
    "    #     dtype=tf.int32\n",
    "    # )\n",
    "    # old_locations = tf.zeros(shape=new_locations.shape) # tf.gather_nd(env.locations, old_locations_idx)\n",
    "    new_locations = tf.gather_nd(env.locations, argmax_idx)\n",
    "    old_locations = tf.gather_nd(env.locations, argmax_idx2)\n",
    "\n",
    "    loss = tf.reduce_sum(new_locations - old_locations)\n",
    "\n",
    "gradients = gradient_tape.gradient(tf.constant(loss), act.trainable_variables)\n",
    "grads_and_vars = zip(gradients, act.trainable_variables)\n",
    "optimizer.apply_gradients(grads_and_vars)"
   ],
   "metadata": {
    "collapsed": false,
    "ExecuteTime": {
     "end_time": "2023-11-24T17:55:10.977162820Z",
     "start_time": "2023-11-24T17:55:10.913648247Z"
    }
   },
   "id": "e5f8652fd6543ee7"
  },
  {
   "cell_type": "markdown",
   "source": [
    "argmax2"
   ],
   "metadata": {
    "collapsed": false
   },
   "id": "1d916af7437bf6b7"
  },
  {
   "cell_type": "code",
   "execution_count": null,
   "outputs": [],
   "source": [
    "idx = tf.expand_dims(tf.argmax(prob, 1), 1)"
   ],
   "metadata": {
    "collapsed": false
   },
   "id": "6213472dfc3ecd05"
  },
  {
   "cell_type": "code",
   "execution_count": 392,
   "outputs": [
    {
     "data": {
      "text/plain": "<tf.Tensor: shape=(5,), dtype=int64, numpy=array([4, 6, 4, 6, 6])>"
     },
     "execution_count": 392,
     "metadata": {},
     "output_type": "execute_result"
    }
   ],
   "source": [
    "argmax2"
   ],
   "metadata": {
    "collapsed": false,
    "ExecuteTime": {
     "end_time": "2023-11-24T17:54:55.818089449Z",
     "start_time": "2023-11-24T17:54:55.774837850Z"
    }
   },
   "id": "e309309e9e992c6b"
  },
  {
   "cell_type": "code",
   "execution_count": 388,
   "outputs": [
    {
     "data": {
      "text/plain": "<tf.Tensor: shape=(5, 2), dtype=float32, numpy=\narray([[-0.18297458, -0.32414532],\n       [ 0.07010579,  0.6692085 ],\n       [-0.68093157,  0.5190487 ],\n       [ 0.43853927, -0.91252923],\n       [ 0.291641  ,  0.9541609 ]], dtype=float32)>"
     },
     "execution_count": 388,
     "metadata": {},
     "output_type": "execute_result"
    }
   ],
   "source": [
    "new_locations"
   ],
   "metadata": {
    "collapsed": false,
    "ExecuteTime": {
     "end_time": "2023-11-24T17:48:51.698111060Z",
     "start_time": "2023-11-24T17:48:51.655547620Z"
    }
   },
   "id": "1e6c01f5519fa5e"
  },
  {
   "cell_type": "code",
   "execution_count": 386,
   "outputs": [
    {
     "data": {
      "text/plain": "0.13930655"
     },
     "execution_count": 386,
     "metadata": {},
     "output_type": "execute_result"
    }
   ],
   "source": [
    "-0.04366803 - -0.18297458"
   ],
   "metadata": {
    "collapsed": false,
    "ExecuteTime": {
     "end_time": "2023-11-24T17:46:33.618192192Z",
     "start_time": "2023-11-24T17:46:33.577175035Z"
    }
   },
   "id": "d437c3157fbebce3"
  },
  {
   "cell_type": "code",
   "execution_count": 384,
   "outputs": [
    {
     "data": {
      "text/plain": "<tf.Tensor: shape=(5, 2), dtype=float32, numpy=\narray([[-0.04366803, -0.6686702 ],\n       [ 0.6036005 ,  0.18465686],\n       [-0.65384126,  0.84083104],\n       [-0.6377001 ,  0.26406264],\n       [-0.5929303 ,  0.22703886]], dtype=float32)>"
     },
     "execution_count": 384,
     "metadata": {},
     "output_type": "execute_result"
    }
   ],
   "source": [
    "old_locations"
   ],
   "metadata": {
    "collapsed": false,
    "ExecuteTime": {
     "end_time": "2023-11-24T17:44:12.094495021Z",
     "start_time": "2023-11-24T17:44:12.089224495Z"
    }
   },
   "id": "706b59732d1f8192"
  },
  {
   "cell_type": "code",
   "execution_count": 385,
   "outputs": [
    {
     "data": {
      "text/plain": "<tf.Tensor: shape=(5, 2), dtype=float32, numpy=\narray([[-0.18297458, -0.32414532],\n       [ 0.07010579,  0.6692085 ],\n       [-0.68093157,  0.5190487 ],\n       [ 0.43853927, -0.91252923],\n       [ 0.291641  ,  0.9541609 ]], dtype=float32)>"
     },
     "execution_count": 385,
     "metadata": {},
     "output_type": "execute_result"
    }
   ],
   "source": [
    "new_locations"
   ],
   "metadata": {
    "collapsed": false,
    "ExecuteTime": {
     "end_time": "2023-11-24T17:44:16.480545412Z",
     "start_time": "2023-11-24T17:44:16.474839211Z"
    }
   },
   "id": "f1e3ea9a9caad0a4"
  },
  {
   "cell_type": "code",
   "execution_count": 376,
   "outputs": [
    {
     "data": {
      "text/plain": "<tf.Tensor: shape=(2,), dtype=float32, numpy=array([0.07010579, 0.6692085 ], dtype=float32)>"
     },
     "execution_count": 376,
     "metadata": {},
     "output_type": "execute_result"
    }
   ],
   "source": [
    "env.locations[1, 6]"
   ],
   "metadata": {
    "collapsed": false,
    "ExecuteTime": {
     "end_time": "2023-11-24T17:41:33.319863263Z",
     "start_time": "2023-11-24T17:41:33.313655349Z"
    }
   },
   "id": "8cba0fb4eb196fbb"
  },
  {
   "cell_type": "code",
   "execution_count": 373,
   "outputs": [
    {
     "data": {
      "text/plain": "<tf.Tensor: shape=(5, 2), dtype=float32, numpy=\narray([[-0.18297458, -0.32414532],\n       [ 0.07010579,  0.6692085 ],\n       [-0.68093157,  0.5190487 ],\n       [ 0.43853927, -0.91252923],\n       [ 0.291641  ,  0.9541609 ]], dtype=float32)>"
     },
     "execution_count": 373,
     "metadata": {},
     "output_type": "execute_result"
    }
   ],
   "source": [],
   "metadata": {
    "collapsed": false,
    "ExecuteTime": {
     "end_time": "2023-11-24T17:41:08.146278364Z",
     "start_time": "2023-11-24T17:41:08.104101111Z"
    }
   },
   "id": "693955c638469644"
  },
  {
   "cell_type": "code",
   "execution_count": 369,
   "outputs": [
    {
     "data": {
      "text/plain": "<tf.Tensor: shape=(2,), dtype=float32, numpy=array([-0.21057177,  0.07490659], dtype=float32)>"
     },
     "execution_count": 369,
     "metadata": {},
     "output_type": "execute_result"
    }
   ],
   "source": [
    "env.locations[1, 2]"
   ],
   "metadata": {
    "collapsed": false,
    "ExecuteTime": {
     "end_time": "2023-11-24T17:39:42.654440674Z",
     "start_time": "2023-11-24T17:39:42.611809215Z"
    }
   },
   "id": "4322ef1b9b4192e0"
  },
  {
   "cell_type": "code",
   "execution_count": 367,
   "outputs": [
    {
     "data": {
      "text/plain": "<tf.Tensor: shape=(2,), dtype=float32, numpy=array([-0.21057177,  0.07490659], dtype=float32)>"
     },
     "execution_count": 367,
     "metadata": {},
     "output_type": "execute_result"
    }
   ],
   "source": [
    "[[1, 2]]"
   ],
   "metadata": {
    "collapsed": false,
    "ExecuteTime": {
     "end_time": "2023-11-24T17:39:15.366239892Z",
     "start_time": "2023-11-24T17:39:15.361529191Z"
    }
   },
   "id": "aa06dee06271274e"
  },
  {
   "cell_type": "code",
   "execution_count": 366,
   "outputs": [
    {
     "data": {
      "text/plain": "<tf.Tensor: shape=(5,), dtype=int64, numpy=array([4, 6, 4, 6, 6])>"
     },
     "execution_count": 366,
     "metadata": {},
     "output_type": "execute_result"
    }
   ],
   "source": [
    "argmax"
   ],
   "metadata": {
    "collapsed": false,
    "ExecuteTime": {
     "end_time": "2023-11-24T17:39:08.070195949Z",
     "start_time": "2023-11-24T17:39:08.028890195Z"
    }
   },
   "id": "44ee1f299bf900dc"
  },
  {
   "cell_type": "code",
   "execution_count": null,
   "outputs": [],
   "source": [],
   "metadata": {
    "collapsed": false
   },
   "id": "98096537806faede"
  }
 ],
 "metadata": {
  "kernelspec": {
   "display_name": "Python 3",
   "language": "python",
   "name": "python3"
  },
  "language_info": {
   "codemirror_mode": {
    "name": "ipython",
    "version": 2
   },
   "file_extension": ".py",
   "mimetype": "text/x-python",
   "name": "python",
   "nbconvert_exporter": "python",
   "pygments_lexer": "ipython2",
   "version": "2.7.6"
  }
 },
 "nbformat": 4,
 "nbformat_minor": 5
}
